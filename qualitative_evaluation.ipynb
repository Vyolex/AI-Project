{
 "cells": [
  {
   "cell_type": "code",
   "execution_count": 1,
   "metadata": {},
   "outputs": [],
   "source": [
    "from src.recommenders import ImprovedRecommender"
   ]
  },
  {
   "cell_type": "code",
   "execution_count": 2,
   "metadata": {},
   "outputs": [],
   "source": [
    "qual_eval_folder = './evaluation'\n",
    "items_path = \"./data/all_games.pkl.xz\"\n",
    "data_path = \"./data/\"\n",
    "reviews_path = \"./data/reviews.parquet\""
   ]
  },
  {
   "cell_type": "code",
   "execution_count": 3,
   "metadata": {},
   "outputs": [
    {
     "name": "stderr",
     "output_type": "stream",
     "text": [
      "2it [00:00, 199.98it/s]\n",
      "2it [00:00, 52.63it/s]\n"
     ]
    },
    {
     "name": "stdout",
     "output_type": "stream",
     "text": [
      "[\"Pajama Sam 2: Thunder and Lightning Aren't So Frightening\", 'Portal 2', 'Pajama Sam 3: You Are What You Eat From Your Head To Your Feet', 'Pajama Sam 4: Life Is Rough When You Lose Your Stuff!', 'White Noise 2', 'Trine 2: Complete Story', 'Trine Enchanted Edition', 'Keep Talking and Nobody Explodes', 'Gauntlet - Lilith the Necromancer Pack', 'Half Dead']\n",
      "['Starbound', 'Portal 2', 'White Noise 2', 'Half Dead', 'Arma 3 Apex', 'BattleBlock Theater®', 'Unturned', 'Natural Selection 2', 'We Were Here', 'Keep Talking and Nobody Explodes']\n"
     ]
    },
    {
     "name": "stderr",
     "output_type": "stream",
     "text": [
      "2it [00:00, 85.17it/s]\n",
      "2it [00:00, 76.02it/s]"
     ]
    },
    {
     "name": "stdout",
     "output_type": "stream",
     "text": [
      "['Portal 2', 'White Noise 2', 'Starbound', 'Killing Floor 2', 'Killing Floor', 'Arma 3 Apex', 'Left 4 Dead', 'Half Dead', 'Dead Rising 3 Apocalypse Edition', 'Resident Evil Revelations / Biohazard Revelations']\n",
      "['Starbound', 'Crea', 'Unturned', 'Fallout Shelter', 'Scrap Mechanic', 'White Noise 2', 'Half Dead', 'Signs of Life', 'Arma 3 Apex', 'Empyrion - Galactic Survival']\n"
     ]
    },
    {
     "name": "stderr",
     "output_type": "stream",
     "text": [
      "\n"
     ]
    }
   ],
   "source": [
    "rec = ImprovedRecommender(items_path, train_path=f\"{data_path}train_all_users.parquet\", test_path=None, val_path=None, reviews_path=reviews_path, sparse=True, tfidf='smooth', normalize=True, dim_red=None)\n",
    "rec.generate_recommendations()\n",
    "eval = rec.qualitative_evaluation()\n",
    "print(eval['recommended_items'][0])\n",
    "print(eval['recommended_items'][1])\n",
    "\n",
    "rec = ImprovedRecommender(items_path, train_path=f\"{data_path}train_all_users.parquet\", test_path=None, val_path=None, reviews_path=reviews_path, sparse=True, tfidf='smooth', normalize=True, dim_red=None, weighting_scheme={'playtime': True, 'sentiment': 'n_reviews', 'reviews': False})\n",
    "rec.generate_recommendations()\n",
    "eval = rec.qualitative_evaluation()\n",
    "print(eval['recommended_items'][0])\n",
    "print(eval['recommended_items'][1])"
   ]
  }
 ],
 "metadata": {
  "interpreter": {
   "hash": "64dc3e748883430fd73e07c7431dac127012ab88bcfa4187114a89d6e3756f23"
  },
  "kernelspec": {
   "display_name": "Python 3.8.8 64-bit",
   "language": "python",
   "name": "python3"
  },
  "language_info": {
   "codemirror_mode": {
    "name": "ipython",
    "version": 3
   },
   "file_extension": ".py",
   "mimetype": "text/x-python",
   "name": "python",
   "nbconvert_exporter": "python",
   "pygments_lexer": "ipython3",
   "version": "3.8.8"
  },
  "orig_nbformat": 4
 },
 "nbformat": 4,
 "nbformat_minor": 2
}
