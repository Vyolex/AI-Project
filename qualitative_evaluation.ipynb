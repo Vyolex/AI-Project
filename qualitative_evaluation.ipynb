{
 "cells": [
  {
   "cell_type": "code",
   "execution_count": 1,
   "metadata": {},
   "outputs": [],
   "source": [
    "from src.recommenders import ImprovedRecommender\n",
    "import pandas as pd"
   ]
  },
  {
   "cell_type": "code",
   "execution_count": 2,
   "metadata": {},
   "outputs": [],
   "source": [
    "qual_eval_folder = './evaluation'\n",
    "items_path = \"./data/all_games.pkl.xz\"\n",
    "data_path = \"./data/\"\n",
    "reviews_path = \"./data/reviews.parquet\""
   ]
  },
  {
   "cell_type": "markdown",
   "metadata": {},
   "source": [
    "The following code converts all games (including popular ones and those that are not present in australian user's inventories) to the expected pickle format:"
   ]
  },
  {
   "cell_type": "code",
   "execution_count": null,
   "metadata": {},
   "outputs": [],
   "source": [
    "def parse_json(filename_python_json: str, read_max: int = -1) -> pd.DataFrame:\n",
    "    \"\"\"Parses json file into a DataFrame\n",
    "\n",
    "    Args:\n",
    "        filename_python_json (str): Path to json file\n",
    "        read_max (int, optional): Max amount of lines to read from json file. Defaults to -1.\n",
    "\n",
    "    Returns:\n",
    "        DataFrame: DataFrame from parsed json\n",
    "    \"\"\"\n",
    "    with open(filename_python_json, \"r\", encoding=\"utf-8\") as f:\n",
    "        # parse json\n",
    "        parse_data = []\n",
    "        # tqdm is for showing progress bar, always good when processing large amounts of data\n",
    "        for line in f:\n",
    "            # load python nested datastructure\n",
    "            parsed_result = eval(line)\n",
    "            parse_data.append(parsed_result)\n",
    "            if read_max != -1 and len(parse_data) > read_max:\n",
    "                print(f\"Break reading after {read_max} records\")\n",
    "                break\n",
    "        print(f\"Reading {len(parse_data)} rows.\")\n",
    "\n",
    "        # create dataframe\n",
    "        df = pd.DataFrame.from_dict(parse_data)\n",
    "        return df\n",
    "    \n",
    "games = parse_json(\"./data/raw/steam_games.json\")\n",
    "games.drop([\"url\", \"reviews_url\", \"discount_price\", \"title\", \"release_date\"], axis=1, inplace=True)\n",
    "\n",
    "games.to_pickle(\"./data/all_games.pkl.gz\")\n",
    "games"
   ]
  },
  {
   "cell_type": "markdown",
   "metadata": {},
   "source": [
    "First run the [scrape script](./src/data/scrape_users.py), which scrapes our own user inventories (or those of any specified user) from the steam API.\n",
    "Then, we can generate recommendations for our own inventories! :)"
   ]
  },
  {
   "cell_type": "code",
   "execution_count": 3,
   "metadata": {},
   "outputs": [
    {
     "name": "stderr",
     "output_type": "stream",
     "text": [
      "2it [00:00, 168.26it/s]\n",
      "2it [00:00, 52.78it/s]\n"
     ]
    },
    {
     "name": "stdout",
     "output_type": "stream",
     "text": [
      "[\"Pajama Sam 2: Thunder and Lightning Aren't So Frightening\", 'Portal 2', 'Pajama Sam 3: You Are What You Eat From Your Head To Your Feet', 'Pajama Sam 4: Life Is Rough When You Lose Your Stuff!', 'White Noise 2', 'Trine 2: Complete Story', 'Trine Enchanted Edition', 'Keep Talking and Nobody Explodes', 'Gauntlet - Lilith the Necromancer Pack', 'Half Dead']\n",
      "['Starbound', 'Portal 2', 'White Noise 2', 'Half Dead', 'Arma 3 Apex', 'BattleBlock Theater®', 'Unturned', 'Natural Selection 2', 'We Were Here', 'Keep Talking and Nobody Explodes']\n"
     ]
    },
    {
     "name": "stderr",
     "output_type": "stream",
     "text": [
      "2it [00:00, 83.33it/s]\n",
      "2it [00:00, 47.54it/s]"
     ]
    },
    {
     "name": "stdout",
     "output_type": "stream",
     "text": [
      "['Portal 2', 'White Noise 2', 'Killing Floor 2', 'Starbound', 'Keep Talking and Nobody Explodes', 'Killing Floor', 'Arma 3 Apex', 'Half Dead', 'Awesomenauts - the 2D moba', 'Left 4 Dead']\n",
      "['Starbound', 'Crea', 'Unturned', 'White Noise 2', 'Arma 3 Apex', 'Half Dead', 'Fallout Shelter', 'Natural Selection 2', 'Scrap Mechanic', 'PULSAR: Lost Colony']\n"
     ]
    },
    {
     "name": "stderr",
     "output_type": "stream",
     "text": [
      "\n"
     ]
    }
   ],
   "source": [
    "rec = ImprovedRecommender(items_path, train_path=f\"{data_path}train_all_users.parquet\", test_path=None, val_path=None, reviews_path=reviews_path, sparse=True, tfidf='smooth', normalize=True, dim_red=None)\n",
    "rec.generate_recommendations()\n",
    "eval = rec.qualitative_evaluation()\n",
    "print(eval['recommended_items'][0])\n",
    "print(eval['recommended_items'][1])\n",
    "\n",
    "rec = ImprovedRecommender(items_path, train_path=f\"{data_path}train_all_users.parquet\", test_path=None, val_path=None, reviews_path=reviews_path, sparse=True, tfidf='smooth', normalize=True, dim_red=None, weighting_scheme={'playtime': True, 'sentiment': 'rating', 'reviews': False})\n",
    "rec.generate_recommendations()\n",
    "eval = rec.qualitative_evaluation()\n",
    "print(eval['recommended_items'][0])\n",
    "print(eval['recommended_items'][1])"
   ]
  },
  {
   "cell_type": "markdown",
   "metadata": {},
   "source": [
    "These results indicate that using playtime and other information for weighting the items that are used to construct the user vector can significantly improve qualitative results.\n",
    "For example, Sam isn't really interested in any of the games that are being recommended by the method without playtime weighting. The recommendations are the result of many free and cheap games that are present in the inventory.\n",
    "When playtime weighting is used, these recommendations improve a lot. There is still some bias towards zombie games, but this is likely due to the item representations and the tf-idf scheme that is used."
   ]
  }
 ],
 "metadata": {
  "interpreter": {
   "hash": "64dc3e748883430fd73e07c7431dac127012ab88bcfa4187114a89d6e3756f23"
  },
  "kernelspec": {
   "display_name": "Python 3.8.8 64-bit",
   "language": "python",
   "name": "python3"
  },
  "language_info": {
   "codemirror_mode": {
    "name": "ipython",
    "version": 3
   },
   "file_extension": ".py",
   "mimetype": "text/x-python",
   "name": "python",
   "nbconvert_exporter": "python",
   "pygments_lexer": "ipython3",
   "version": "3.8.8"
  },
  "orig_nbformat": 4
 },
 "nbformat": 4,
 "nbformat_minor": 2
}
