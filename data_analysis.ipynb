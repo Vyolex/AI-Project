{
 "cells": [
  {
   "cell_type": "markdown",
   "metadata": {},
   "source": [
    "Data Analysis of the data used"
   ]
  },
  {
   "cell_type": "code",
   "execution_count": 1,
   "metadata": {},
   "outputs": [],
   "source": [
    "from src.recommender import parse_json\n",
    "import pandas as pd\n",
    "import numpy as np\n",
    "from matplotlib import pyplot as plt\n"
   ]
  },
  {
   "cell_type": "code",
   "execution_count": 39,
   "metadata": {},
   "outputs": [
    {
     "name": "stderr",
     "output_type": "stream",
     "text": [
      "25799it [00:02, 9323.79it/s] \n"
     ]
    },
    {
     "name": "stdout",
     "output_type": "stream",
     "text": [
      "Reading 25799 rows.\n"
     ]
    },
    {
     "name": "stderr",
     "output_type": "stream",
     "text": [
      "88310it [02:39, 553.93it/s] \n"
     ]
    },
    {
     "name": "stdout",
     "output_type": "stream",
     "text": [
      "Reading 88310 rows.\n"
     ]
    },
    {
     "name": "stderr",
     "output_type": "stream",
     "text": [
      "32135it [00:03, 10054.85it/s]\n"
     ]
    },
    {
     "name": "stdout",
     "output_type": "stream",
     "text": [
      "Reading 32135 rows.\n"
     ]
    }
   ],
   "source": [
    "reviews = parse_json(\"./data/australian_user_reviews.json\")\n",
    "user_items = parse_json(\"./data/australian_users_items.json\")\n",
    "steam_games = parse_json(\"./data/steam_games.json\")"
   ]
  },
  {
   "cell_type": "markdown",
   "metadata": {},
   "source": [
    "Amount of games per user"
   ]
  },
  {
   "cell_type": "code",
   "execution_count": 68,
   "metadata": {},
   "outputs": [
    {
     "name": "stdout",
     "output_type": "stream",
     "text": [
      "                 user_id  items_count\n",
      "44154             dkimmm            0\n",
      "50723  76561198042745849            0\n",
      "50716  76561198042725721            0\n",
      "50713  76561198042712452            0\n",
      "50709  76561198042711240            0\n",
      "...                  ...          ...\n",
      "5995      mayshowganmore         5027\n",
      "6022              piepai         6132\n",
      "1104              chidvd         6410\n",
      "19055       thugnificent         6700\n",
      "3708             phrostb         7762\n",
      "\n",
      "[88310 rows x 2 columns]\n"
     ]
    },
    {
     "data": {
      "image/png": "[encoded data removed]",
      "text/plain": [
       "<Figure size 432x288 with 1 Axes>"
      ]
     },
     "metadata": {
      "needs_background": "light"
     },
     "output_type": "display_data"
    }
   ],
   "source": [
    "game_bin = [-1, 0, 25, 50, 100, 500, 8000]\n",
    "user_item_count = user_items[[\"user_id\", \"items_count\"]].copy()\n",
    "user_item_count = user_item_count.sort_values(\"items_count\")\n",
    "print(user_item_count)\n",
    "user_item_count[\"items_count\"] = pd.cut(user_item_count[\"items_count\"], game_bin).apply(str)\n",
    "\n",
    "user_item_count = user_item_count.groupby(\"items_count\").count()\n",
    "\n",
    "x = user_item_count[\"user_id\"].index.to_numpy()\n",
    "y = user_item_count[\"user_id\"].to_numpy()   \n",
    "\n",
    "plt.bar(x, y, color=\"orange\")\n",
    "plt.xlabel(\"Amount of users\")\n",
    "plt.ylabel(\"Amount of games\")\n",
    "plt.show()"
   ]
  },
  {
   "cell_type": "markdown",
   "metadata": {},
   "source": [
    "Amount of reviews per user"
   ]
  },
  {
   "cell_type": "code",
   "execution_count": 70,
   "metadata": {},
   "outputs": [
    {
     "name": "stdout",
     "output_type": "stream",
     "text": [
      "                 user_id  reviews_count\n",
      "25001  76561198102423654              0\n",
      "24911  76561198100396147              0\n",
      "7583   76561198079215291              0\n",
      "9894   76561198061996985              0\n",
      "21386  76561198063489150              0\n",
      "...                  ...            ...\n",
      "16268  76561198080345478             10\n",
      "2848          TrackFight             10\n",
      "19297         kiniston69             10\n",
      "2911          Blackboy72             10\n",
      "7071       SambaWarKiddo             10\n",
      "\n",
      "[25799 rows x 2 columns]\n"
     ]
    },
    {
     "data": {
      "image/png": "[encoded data removed]",
      "text/plain": [
       "<Figure size 432x288 with 1 Axes>"
      ]
     },
     "metadata": {
      "needs_background": "light"
     },
     "output_type": "display_data"
    }
   ],
   "source": [
    "review_bins = [0, 1, 3, 5, 10]\n",
    "user_review_count = reviews[[\"user_id\", \"reviews\"]].copy()\n",
    "user_review_count[\"reviews_count\"] = user_review_count[\"reviews\"].apply(len)\n",
    "user_review_count = user_review_count.sort_values(\"reviews_count\")\n",
    "print(user_review_count[[\"user_id\", \"reviews_count\"]])\n",
    "user_review_count[\"reviews_count\"] = pd.cut(user_review_count[\"reviews_count\"], review_bins).apply(str)\n",
    "\n",
    "user_review_count = user_review_count.groupby(\"reviews_count\").count()\n",
    "\n",
    "x = user_review_count[\"user_id\"].index.to_numpy()\n",
    "y = user_review_count[\"user_id\"].to_numpy()   \n",
    "\n",
    "plt.bar(x, y, color=\"orange\")\n",
    "plt.xlabel(\"Amount of users\")\n",
    "plt.ylabel(\"Amount of reviews\")\n",
    "plt.show()"
   ]
  },
  {
   "cell_type": "markdown",
   "metadata": {},
   "source": [
    "Popularity of games"
   ]
  },
  {
   "cell_type": "code",
   "execution_count": 44,
   "metadata": {},
   "outputs": [
    {
     "name": "stdout",
     "output_type": "stream",
     "text": [
      "                                  user_id\n",
      "items                                    \n",
      "Fire Farm VR                            1\n",
      "PD Howler 10                            1\n",
      "PD Howler 9.6                           1\n",
      "Crazy Machines 1.5                      1\n",
      "PRINCIPIA: Master of Science            1\n",
      "...                                   ...\n",
      "Left 4 Dead 2                       37044\n",
      "Unturned                            38682\n",
      "Garry's Mod                         43301\n",
      "Counter-Strike: Global Offensive    43776\n",
      "Dota 2 Test                         49571\n",
      "\n",
      "[10947 rows x 1 columns]\n"
     ]
    }
   ],
   "source": [
    "game_popularity = user_items[[\"user_id\", \"items\"]]\n",
    "game_popularity = game_popularity.explode(\"items\", ignore_index=True)\n",
    "game_popularity.dropna(inplace=True)\n",
    "game_popularity[\"items\"] = game_popularity[\"items\"].apply(lambda x: x[\"item_name\"])\n",
    "game_popularity = game_popularity.groupby(\"items\").count()\n",
    "print(game_popularity.sort_values(\"user_id\"))"
   ]
  },
  {
   "cell_type": "code",
   "execution_count": 72,
   "metadata": {},
   "outputs": [
    {
     "name": "stdout",
     "output_type": "stream",
     "text": [
      "(32135, 16)\n"
     ]
    }
   ],
   "source": [
    "print(steam_games.shape)"
   ]
  },
  {
   "cell_type": "markdown",
   "metadata": {},
   "source": [
    "Analysing the tags in our data"
   ]
  },
  {
   "cell_type": "code",
   "execution_count": 99,
   "metadata": {},
   "outputs": [
    {
     "name": "stdout",
     "output_type": "stream",
     "text": [
      "{'Web Publishing', 'Photo Editing', 'Casual', 'Design &amp; Illustration', 'Indie', 'Massively Multiplayer', 'Sports', 'Software Training', 'Audio Production', 'Education', 'Accounting', 'Simulation', 'Racing', 'Animation &amp; Modeling', 'Action', 'Free to Play', 'Strategy', 'Adventure', 'Early Access', 'Video Production', 'RPG', 'Utilities'} \n",
      "\n",
      "{'Football', 'Real Time Tactics', 'Rome', 'Investigation', 'Gothic', 'Conversation', 'Medieval', 'Turn-Based Combat', 'Co-op', 'Sandbox', 'Puzzle-Platformer', 'Free to Play', 'Space', 'Political', 'Cinematic', 'MOBA', 'Trading', 'Platformer', 'Voice Control', 'Management', 'Magic', 'Drama', 'Fantasy', 'Local Co-Op', 'Arena Shooter', 'Flight', 'Replay Value', 'Great Soundtrack', 'CRPG', 'Movie', 'Transhumanism', 'Mining', 'Class-Based', 'Turn-Based', 'Funny', 'Story Rich', 'Cute', 'Hex Grid', 'Gambling', 'Dark Fantasy', '4 Player Local', 'Short', 'Turn-Based Tactics', 'Horses', 'Foreign', 'Parody', 'Character Customization', 'Sports', \"Beat 'em up\", '3D Vision', 'Procedural Generation', 'Warhammer 40K', 'Puzzle', 'Shooter', 'Isometric', 'Steampunk', 'Realistic', 'Dragons', 'Dating Sim', 'Grid-Based Movement', 'Cyberpunk', 'Early Access', 'Villain Protagonist', 'Steam Machine', 'Match 3', 'Modern', 'Visual Novel', 'Historical', 'Heist', 'Sailing', 'Dark Comedy', 'Score Attack', 'Programming', 'Gaming', 'Mini Golf', \"1990's\", \"Shoot 'Em Up\", 'Simulation', 'Mystery Dungeon', 'Sokoban', 'Narration', 'Arcade', 'Cult Classic', 'Golf', 'Games Workshop', 'Time Travel', 'Rhythm', 'Grand Strategy', 'Photo Editing', 'Animation & Modeling', 'Romance', 'Swordplay', 'Star Wars', 'Horror', 'Music-Based Procedural Generation', 'Indie', 'Surreal', 'Dystopian', 'Post-apocalyptic', 'Superhero', 'TrackIR', 'Military', 'Action-Adventure', 'Tactical RPG', 'Stealth', 'Linear', 'Tutorial', 'Local Multiplayer', 'Real-Time', 'Trains', 'Adventure', 'GameMaker', 'Choose Your Own Adventure', 'Conspiracy', 'Zombies', 'Relaxing', 'Driving', 'Building', 'Typing', 'Naval', 'Mythology', 'Inventory Management', 'Pool', 'Cold War', 'Level Editor', 'Multiplayer', 'Alternate History', 'Online Co-Op', 'Voxel', 'Sci-fi', 'VR', 'Artificial Intelligence', 'Chess', 'Based On A Novel', 'Tower Defense', 'Crime', 'Walking Simulator', 'Experimental', 'Side Scroller', 'Controller', 'Party-Based RPG', 'Dinosaurs', 'World War II', 'Hunting', 'Lara Croft', 'Time Manipulation', 'Feature Film', 'Agriculture', 'Silent Protagonist', 'Racing', 'Benchmark', 'Vampire', 'Abstract', 'Assassin', 'Lemmings', 'Touch-Friendly', 'Team-Based', 'Point & Click', 'Minimalist', 'Physics', 'Gore', '4X', 'Software Training', 'Audio Production', 'Comic Book', 'Hardware', 'Open World', 'Capitalism', 'Fishing', 'Werewolves', '6DOF', 'Resource Management', 'Futuristic', 'Tactical', 'Quick-Time Events', 'Robots', 'Co-op Campaign', 'Bullet Hell', 'Intentionally Awkward Controls', 'e-sports', 'Faith', 'Dark', 'Action', 'Kickstarter', 'Top-Down Shooter', 'Rogue-lite', 'Bullet Time', 'Card Game', 'Sexual Content', 'Nudity', 'Demons', 'PvP', 'Survival Horror', 'Action RPG', '1980s', 'Satire', 'Atmospheric', 'Fighting', 'Offroad', 'Psychological', 'Dark Humor', 'Turn-Based Strategy', 'Sniper', 'America', 'Moddable', 'Design & Illustration', 'Cartoony', 'Batman', 'Strategy', 'Ninja', 'Real-Time with Pause', 'Dungeon Crawler', 'RPG', 'Female Protagonist', 'Spelling', 'Cartoon', 'Difficult', 'Bikes', 'MMORPG', 'Detective', 'Education', 'Episodic', 'Pinball', 'FMV', 'Experience', 'Metroidvania', 'Twin Stick Shooter', 'Video Production', 'Hand-drawn', 'City Builder', 'War', 'Mod', 'Politics', 'Cycling', 'Third-Person Shooter', 'Competitive', 'Classic', 'Memes', 'Dynamic Narration', 'Otome', 'Base Building', 'Pixel Graphics', 'Economy', 'Remake', 'Basketball', 'Mars', 'Philisophical', 'Lovecraftian', 'Gun Customization', 'LEGO', 'God Game', 'Tanks', 'Game Development', 'Science', 'Documentary', '2D Fighter', 'Spectacle fighter', 'Perma Death', 'Bowling', 'Psychedelic', 'Strategy RPG', 'Mystery', 'Singleplayer', 'Clicker', 'Underwater', 'Diplomacy', '360 Video', '2D', 'FPS', 'Supernatural', 'Split Screen', 'Thriller', 'Nonlinear', 'Blood', 'RPGMaker', 'JRPG', 'Utilities', 'Casual', 'Hidden Object', 'Lore-Rich', 'Fast-Paced', 'Massively Multiplayer', 'Multiple Endings', 'Exploration', 'Wrestling', 'Mechs', 'Top-Down', 'Illuminati', 'First-Person', 'Soundtrack', 'Stylized', '3D Platformer', 'Music', 'Third Person', 'Parkour', 'Survival', 'NSFW', 'Asynchronous Multiplayer', 'Interactive Fiction', 'Violent', 'Hack and Slash', 'Martial Arts', 'On-Rails Shooter', 'Psychological Horror', 'Loot', 'Wargame', 'Mouse only', 'World War I', 'PvE', 'Anime', 'Hacking', 'Character Action Game', 'Board Game', 'Aliens', 'Choices Matter', 'Retro', 'Mature', 'Soccer', '2.5D', 'Family Friendly', 'Runner', 'Western', 'Rogue-like', 'Pirates', 'Software', 'Web Publishing', 'Noir', 'Space Sim', 'Crafting', 'Comedy', 'Crowdfunded', 'Word Game', 'Underground', 'Destruction', 'Colorful', 'RTS', 'Text-Based', 'Time Attack', 'Trading Card Game'} \n",
      "\n",
      "{'Local Multi-Player', 'Steam Leaderboards', 'Tracked Motion Controllers', 'Seated', 'Steam Turn Notifications', 'Mods (require HL1)', 'Downloadable Content', 'Commentary available', 'Steam Trading Cards', 'Multi-player', 'Shared/Split Screen', 'Co-op', 'Stats', 'Captions available', 'Mods', 'Gamepad', 'Valve Anti-Cheat enabled', 'MMO', 'Mods (require HL2)', 'SteamVR Collectibles', 'Online Multi-Player', 'Keyboard / Mouse', 'In-App Purchases', 'Oculus Rift', 'HTC Vive', 'Windows Mixed Reality', 'Game demo', 'Includes Source SDK', 'Single-player', 'Cross-Platform Multiplayer', 'Steam Achievements', 'Full controller support', 'Standing', 'Room-Scale', 'Steam Cloud', 'Partial Controller Support', 'Includes level editor', 'Local Co-op', 'Online Co-op', 'Steam Workshop'} \n",
      "\n",
      "{'Football', 'Real Time Tactics', 'Rome', 'Investigation', 'Gothic', 'Conversation', 'Medieval', 'Turn-Based Combat', 'Co-op', 'Sandbox', 'Puzzle-Platformer', 'Animation &amp; Modeling', 'Free to Play', 'Space', 'Political', 'Cinematic', 'MOBA', 'Trading', 'Online Multi-Player', 'Platformer', 'Voice Control', 'Management', 'Magic', 'Drama', 'Windows Mixed Reality', 'Fantasy', 'Local Co-Op', 'Arena Shooter', 'Flight', 'Replay Value', 'Great Soundtrack', 'CRPG', 'Movie', 'Transhumanism', 'Mining', 'Class-Based', 'Turn-Based', 'Funny', 'Story Rich', 'Cute', 'Hex Grid', 'Gambling', 'Dark Fantasy', '4 Player Local', 'Short', 'Turn-Based Tactics', 'Horses', 'Foreign', 'Parody', 'Seated', 'Mods (require HL1)', 'Character Customization', 'Commentary available', 'Sports', \"Beat 'em up\", '3D Vision', 'Procedural Generation', 'Warhammer 40K', 'Puzzle', 'Shooter', 'Isometric', 'Steampunk', 'Realistic', 'Dragons', 'Dating Sim', 'Grid-Based Movement', 'Cyberpunk', 'Early Access', 'Villain Protagonist', 'Steam Machine', 'Design &amp; Illustration', 'Match 3', 'Modern', 'Includes Source SDK', 'Visual Novel', 'Historical', 'Heist', 'Sailing', 'Dark Comedy', 'Score Attack', 'Programming', 'Accounting', 'Gaming', 'Mini Golf', \"1990's\", \"Shoot 'Em Up\", 'Simulation', 'Mystery Dungeon', 'Sokoban', 'Narration', 'Arcade', 'Cult Classic', 'Golf', 'Games Workshop', 'Time Travel', 'Rhythm', 'Grand Strategy', 'Photo Editing', 'Animation & Modeling', 'Romance', 'Swordplay', 'Star Wars', 'Horror', 'Music-Based Procedural Generation', 'Indie', 'Surreal', 'Dystopian', 'Post-apocalyptic', 'Superhero', 'Stats', 'TrackIR', 'Military', 'Action-Adventure', 'Tactical RPG', 'MMO', 'Stealth', 'Linear', 'Tutorial', 'Local Multiplayer', 'Mods (require HL2)', 'Real-Time', 'Trains', 'Adventure', 'GameMaker', 'Choose Your Own Adventure', 'Conspiracy', 'Zombies', 'Keyboard / Mouse', 'Relaxing', 'Driving', 'Building', 'Typing', 'Naval', 'Game demo', 'Mythology', 'Inventory Management', 'Pool', 'Cold War', 'Level Editor', 'Multiplayer', 'Alternate History', 'Online Co-Op', 'Voxel', 'Sci-fi', 'Room-Scale', 'VR', 'Artificial Intelligence', 'Chess', 'Based On A Novel', 'Includes level editor', 'Tower Defense', 'Steam Workshop', 'Crime', 'Walking Simulator', 'Experimental', 'Steam Leaderboards', 'Side Scroller', 'Controller', 'Party-Based RPG', 'Dinosaurs', 'World War II', 'Steam Trading Cards', 'Hunting', 'Lara Croft', 'Time Manipulation', 'Feature Film', 'Agriculture', 'Silent Protagonist', 'Gamepad', 'Racing', 'Benchmark', 'Vampire', 'Abstract', 'Assassin', 'Lemmings', 'Touch-Friendly', 'Team-Based', 'Point & Click', 'Minimalist', 'Oculus Rift', 'Physics', 'Gore', '4X', 'Software Training', 'Audio Production', 'Steam Cloud', 'Comic Book', 'Hardware', 'Open World', 'Capitalism', 'Fishing', 'Werewolves', '6DOF', 'Resource Management', 'Futuristic', 'Tactical', 'Multi-player', 'Quick-Time Events', 'Robots', 'Co-op Campaign', 'Bullet Hell', 'Intentionally Awkward Controls', 'Captions available', 'e-sports', 'Faith', 'Dark', 'Action', 'Kickstarter', 'SteamVR Collectibles', 'Top-Down Shooter', 'Rogue-lite', 'Bullet Time', 'Card Game', 'Sexual Content', 'Nudity', 'Demons', 'PvP', 'Survival Horror', 'Action RPG', 'HTC Vive', '1980s', 'Satire', 'Atmospheric', 'Fighting', 'Offroad', 'Psychological', 'Dark Humor', 'Cross-Platform Multiplayer', 'Turn-Based Strategy', 'Full controller support', 'Sniper', 'America', 'Moddable', 'Design & Illustration', 'Cartoony', 'Batman', 'Strategy', 'Local Co-op', 'Ninja', 'Real-Time with Pause', 'Dungeon Crawler', 'RPG', 'Female Protagonist', 'Tracked Motion Controllers', 'Spelling', 'Cartoon', 'Downloadable Content', 'Difficult', 'Bikes', 'MMORPG', 'Detective', 'Education', 'Episodic', 'Pinball', 'FMV', 'Experience', 'Metroidvania', 'Twin Stick Shooter', 'Video Production', 'Hand-drawn', 'Steam Achievements', 'City Builder', 'War', 'Mod', 'Politics', 'Cycling', 'Third-Person Shooter', 'Competitive', 'Classic', 'Memes', 'Dynamic Narration', 'Otome', 'Base Building', 'Pixel Graphics', 'Economy', 'Remake', 'Basketball', 'Mars', 'Local Multi-Player', 'Philisophical', 'Lovecraftian', 'Steam Turn Notifications', 'Gun Customization', 'LEGO', 'God Game', 'Tanks', 'Game Development', 'Science', 'Documentary', '2D Fighter', 'Spectacle fighter', 'Perma Death', 'Bowling', 'Psychedelic', 'Strategy RPG', 'Mystery', 'Singleplayer', 'Clicker', 'Underwater', 'Diplomacy', '360 Video', 'Mods', '2D', 'FPS', 'Supernatural', 'Split Screen', 'Thriller', 'Nonlinear', 'Blood', 'Valve Anti-Cheat enabled', 'RPGMaker', 'JRPG', 'Utilities', 'In-App Purchases', 'Casual', 'Hidden Object', 'Lore-Rich', 'Fast-Paced', 'Massively Multiplayer', 'Standing', 'Multiple Endings', 'Exploration', 'Wrestling', 'Mechs', 'Top-Down', 'Illuminati', 'First-Person', 'Soundtrack', 'Online Co-op', 'Stylized', '3D Platformer', 'Music', 'Third Person', 'Parkour', 'Survival', 'NSFW', 'Shared/Split Screen', 'Asynchronous Multiplayer', 'Interactive Fiction', 'Violent', 'Hack and Slash', 'Martial Arts', 'On-Rails Shooter', 'Psychological Horror', 'Loot', 'Wargame', 'Mouse only', 'World War I', 'PvE', 'Anime', 'Hacking', 'Character Action Game', 'Board Game', 'Aliens', 'Choices Matter', 'Retro', 'Mature', 'Soccer', '2.5D', 'Family Friendly', 'Runner', 'Western', 'Web Publishing', 'Rogue-like', 'Pirates', 'Software', 'Single-player', 'Noir', 'Space Sim', 'Crafting', 'Comedy', 'Crowdfunded', 'Word Game', 'Underground', 'Partial Controller Support', 'Destruction', 'Colorful', 'RTS', 'Text-Based', 'Time Attack', 'Trading Card Game'} \n",
      "\n"
     ]
    }
   ],
   "source": [
    "game_tags = steam_games[[\"app_name\", \"genres\", \"tags\", \"specs\"]].copy()\n",
    "\n",
    "game_tags[\"genres\"] = game_tags[\"genres\"].fillna(\"\").apply(set)\n",
    "genre_set = set()\n",
    "for s in game_tags.genres.values:\n",
    "    genre_set.update(s)\n",
    "game_tags[\"tags\"] = game_tags[\"tags\"].fillna(\"\").apply(set)\n",
    "tags_set = set()\n",
    "for s in game_tags.tags.values:\n",
    "    tags_set.update(s)\n",
    "game_tags[\"specs\"] = game_tags[\"specs\"].fillna(\"\").apply(set)\n",
    "specs_set = set()\n",
    "for s in game_tags.specs.values:\n",
    "    specs_set.update(s)\n",
    "\n",
    "all_tags = set.union(genre_set, tags_set, specs_set)\n",
    "print(genre_set, \"\\n\")\n",
    "print(tags_set, \"\\n\")\n",
    "print(specs_set, \"\\n\")\n",
    "print(all_tags, \"\\n\")"
   ]
  },
  {
   "cell_type": "markdown",
   "metadata": {},
   "source": [
    "Checking tag frequency per game"
   ]
  },
  {
   "cell_type": "code",
   "execution_count": 100,
   "metadata": {},
   "outputs": [
    {
     "name": "stdout",
     "output_type": "stream",
     "text": [
      "Amount of tags: 342\n",
      "                                            app_name  #tag\n",
      "26972                                           Goro     0\n",
      "7854            Football Manager 2017 In-Game Editor     0\n",
      "30992                  Burn Zombie Burn!: Soundtrack     0\n",
      "865                             Dustforce Soundtrack     0\n",
      "31181  Total War: SHOGUN 2 - Sengoku Jidai Unit Pack     0\n",
      "...                                              ...   ...\n",
      "21131                               Wallpaper Engine    22\n",
      "22238                     EF-12: Fighting Game Maker    22\n",
      "26660                                       GameGuru    22\n",
      "2800                                      Miscreated    23\n",
      "14291                            - Occult preRaise -    24\n",
      "\n",
      "[32135 rows x 2 columns]\n"
     ]
    },
    {
     "data": {
      "image/png": "[encoded data removed]",
      "text/plain": [
       "<Figure size 432x288 with 1 Axes>"
      ]
     },
     "metadata": {
      "needs_background": "light"
     },
     "output_type": "display_data"
    }
   ],
   "source": [
    "print(\"Amount of tags:\", len(set.union(tags_set, genre_set)))\n",
    "\n",
    "game_tags[\"#tag\"] = game_tags.apply(lambda x: len(set.union(x.genres, x.tags)), axis=1)\n",
    "\n",
    "print(game_tags[[\"app_name\", \"#tag\"]].sort_values(\"#tag\"))\n",
    "tag_bin = [0, 1, 3, 5, 10, 25]\n",
    "game_tags[\"binned_tags\"] = pd.cut(game_tags[\"#tag\"], tag_bin).apply(str)\n",
    "\n",
    "game_tags = game_tags.groupby(\"binned_tags\").count()\n",
    "\n",
    "x = game_tags[\"app_name\"].index.to_numpy()\n",
    "y = game_tags[\"app_name\"].to_numpy()   \n",
    "\n",
    "plt.bar(x, y, color=\"orange\")\n",
    "plt.xlabel(\"Amount of tags\")\n",
    "plt.ylabel(\"Amount of games\")\n",
    "plt.show()\n"
   ]
  },
  {
   "cell_type": "code",
   "execution_count": null,
   "metadata": {},
   "outputs": [],
   "source": [
    " "
   ]
  }
 ],
 "metadata": {
  "interpreter": {
   "hash": "9cd4d607d09f139598d14dd337305a88b08d69fdc0c33185f91e0af2ee72dd65"
  },
  "kernelspec": {
   "display_name": "Python 3.8.5 64-bit ('venv': venv)",
   "language": "python",
   "name": "python3"
  },
  "language_info": {
   "codemirror_mode": {
    "name": "ipython",
    "version": 3
   },
   "file_extension": ".py",
   "mimetype": "text/x-python",
   "name": "python",
   "nbconvert_exporter": "python",
   "pygments_lexer": "ipython3",
   "version": "3.8.5"
  },
  "orig_nbformat": 4
 },
 "nbformat": 4,
 "nbformat_minor": 2
}
