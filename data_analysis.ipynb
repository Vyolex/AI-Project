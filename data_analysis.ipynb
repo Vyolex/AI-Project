{
 "cells": [
  {
   "cell_type": "markdown",
   "metadata": {},
   "source": [
    "This notebook presents the Data Analysis for the dataset used"
   ]
  },
  {
   "cell_type": "code",
   "execution_count": 1,
   "metadata": {},
   "outputs": [],
   "source": [
    "from src.recommender import parse_json\n",
    "import pandas as pd\n",
    "import numpy as np\n",
    "from matplotlib import pyplot as plt\n"
   ]
  },
  {
   "cell_type": "markdown",
   "metadata": {},
   "source": [
    "Reading the data from disk"
   ]
  },
  {
   "cell_type": "code",
   "execution_count": 2,
   "metadata": {},
   "outputs": [
    {
     "name": "stderr",
     "output_type": "stream",
     "text": [
      "25799it [00:02, 9052.19it/s] \n"
     ]
    },
    {
     "name": "stdout",
     "output_type": "stream",
     "text": [
      "Reading 25799 rows.\n"
     ]
    },
    {
     "name": "stderr",
     "output_type": "stream",
     "text": [
      "88310it [02:37, 561.47it/s] \n"
     ]
    },
    {
     "name": "stdout",
     "output_type": "stream",
     "text": [
      "Reading 88310 rows.\n"
     ]
    },
    {
     "name": "stderr",
     "output_type": "stream",
     "text": [
      "32135it [00:02, 11037.87it/s]\n"
     ]
    },
    {
     "name": "stdout",
     "output_type": "stream",
     "text": [
      "Reading 32135 rows.\n"
     ]
    }
   ],
   "source": [
    "reviews = parse_json(\"./data/australian_user_reviews.json\")\n",
    "user_items = parse_json(\"./data/australian_users_items.json\")\n",
    "steam_games = parse_json(\"./data/steam_games.json\")"
   ]
  },
  {
   "cell_type": "markdown",
   "metadata": {},
   "source": [
    "Amount of games per user"
   ]
  },
  {
   "cell_type": "code",
   "execution_count": 22,
   "metadata": {},
   "outputs": [
    {
     "name": "stdout",
     "output_type": "stream",
     "text": [
      "                 user_id  items_count\n",
      "44154             dkimmm            0\n",
      "50723  76561198042745849            0\n",
      "50716  76561198042725721            0\n",
      "50713  76561198042712452            0\n",
      "50709  76561198042711240            0\n",
      "...                  ...          ...\n",
      "5995      mayshowganmore         5027\n",
      "6022              piepai         6132\n",
      "1104              chidvd         6410\n",
      "19055       thugnificent         6700\n",
      "3708             phrostb         7762\n",
      "\n",
      "[88310 rows x 2 columns]\n",
      "Average items in user inventory 58.353629260559394\n",
      " -> recall@k bounded by k/58.353629260559394\n"
     ]
    },
    {
     "data": {
      "image/png": "[encoded data removed]",
      "text/plain": [
       "<Figure size 432x288 with 1 Axes>"
      ]
     },
     "metadata": {
      "needs_background": "light"
     },
     "output_type": "display_data"
    }
   ],
   "source": [
    "game_bin = [-1, 0, 25, 50, 100, 500, 8000]\n",
    "user_item_count = user_items[[\"user_id\", \"items_count\"]].copy()\n",
    "user_item_count = user_item_count.sort_values(\"items_count\")\n",
    "print(user_item_count)\n",
    "avg_usr_item_amount = user_item_count[\"items_count\"].mean()\n",
    "print(\"Average items in user inventory\", avg_usr_item_amount)\n",
    "print(f\" -> recall@k bounded by k/{avg_usr_item_amount}\")\n",
    "user_item_count[\"items_count\"] = pd.cut(user_item_count[\"items_count\"], game_bin).apply(str)\n",
    "\n",
    "user_item_count = user_item_count.groupby(\"items_count\").count()\n",
    "\n",
    "x = user_item_count[\"user_id\"].index.to_numpy()\n",
    "y = user_item_count[\"user_id\"].to_numpy()   \n",
    "\n",
    "plt.bar(x, y, color=\"orange\")\n",
    "plt.title(\"Amount of games in user inventory\")\n",
    "plt.xlabel(\"Amount of users\")\n",
    "plt.ylabel(\"Amount of games\")\n",
    "plt.show()"
   ]
  },
  {
   "cell_type": "markdown",
   "metadata": {},
   "source": [
    "Amount of reviews per user"
   ]
  },
  {
   "cell_type": "code",
   "execution_count": 23,
   "metadata": {},
   "outputs": [
    {
     "name": "stdout",
     "output_type": "stream",
     "text": [
      "                 user_id  reviews_count\n",
      "25001  76561198102423654              0\n",
      "24911  76561198100396147              0\n",
      "7583   76561198079215291              0\n",
      "9894   76561198061996985              0\n",
      "21386  76561198063489150              0\n",
      "...                  ...            ...\n",
      "16268  76561198080345478             10\n",
      "2848          TrackFight             10\n",
      "19297         kiniston69             10\n",
      "2911          Blackboy72             10\n",
      "7071       SambaWarKiddo             10\n",
      "\n",
      "[25799 rows x 2 columns]\n"
     ]
    },
    {
     "data": {
      "image/png": "[encoded data removed]",
      "text/plain": [
       "<Figure size 432x288 with 1 Axes>"
      ]
     },
     "metadata": {
      "needs_background": "light"
     },
     "output_type": "display_data"
    }
   ],
   "source": [
    "review_bins = [0, 1, 3, 5, 10]\n",
    "user_review_count = reviews[[\"user_id\", \"reviews\"]].copy()\n",
    "user_review_count[\"reviews_count\"] = user_review_count[\"reviews\"].apply(len)\n",
    "user_review_count = user_review_count.sort_values(\"reviews_count\")\n",
    "print(user_review_count[[\"user_id\", \"reviews_count\"]])\n",
    "user_review_count[\"reviews_count\"] = pd.cut(user_review_count[\"reviews_count\"], review_bins).apply(str)\n",
    "\n",
    "user_review_count = user_review_count.groupby(\"reviews_count\").count()\n",
    "\n",
    "x = user_review_count[\"user_id\"].index.to_numpy()\n",
    "y = user_review_count[\"user_id\"].to_numpy()   \n",
    "\n",
    "plt.bar(x, y, color=\"orange\")\n",
    "plt.title(\"Amount of users based on amount of reviews\")\n",
    "plt.xlabel(\"Amount of reviews\")\n",
    "plt.ylabel(\"Amount of users\")\n",
    "plt.show()"
   ]
  },
  {
   "cell_type": "markdown",
   "metadata": {},
   "source": [
    "Popularity of games"
   ]
  },
  {
   "cell_type": "code",
   "execution_count": 5,
   "metadata": {},
   "outputs": [
    {
     "name": "stdout",
     "output_type": "stream",
     "text": [
      "                                  user_id\n",
      "items                                    \n",
      "Fire Farm VR                            1\n",
      "PD Howler 10                            1\n",
      "PD Howler 9.6                           1\n",
      "Crazy Machines 1.5                      1\n",
      "PRINCIPIA: Master of Science            1\n",
      "...                                   ...\n",
      "Left 4 Dead 2                       37044\n",
      "Unturned                            38682\n",
      "Garry's Mod                         43301\n",
      "Counter-Strike: Global Offensive    43776\n",
      "Dota 2 Test                         49571\n",
      "\n",
      "[10947 rows x 1 columns]\n"
     ]
    }
   ],
   "source": [
    "game_popularity = user_items[[\"user_id\", \"items\"]]\n",
    "game_popularity = game_popularity.explode(\"items\", ignore_index=True)\n",
    "game_popularity.dropna(inplace=True)\n",
    "game_popularity[\"items\"] = game_popularity[\"items\"].apply(lambda x: x[\"item_name\"])\n",
    "game_popularity = game_popularity.groupby(\"items\").count()\n",
    "print(game_popularity.sort_values(\"user_id\"))"
   ]
  },
  {
   "cell_type": "code",
   "execution_count": 6,
   "metadata": {},
   "outputs": [
    {
     "name": "stdout",
     "output_type": "stream",
     "text": [
      "(32135, 16)\n"
     ]
    }
   ],
   "source": [
    "print(steam_games.shape)"
   ]
  },
  {
   "cell_type": "markdown",
   "metadata": {},
   "source": [
    "Analysing the tags in our data"
   ]
  },
  {
   "cell_type": "code",
   "execution_count": 11,
   "metadata": {},
   "outputs": [
    {
     "name": "stdout",
     "output_type": "stream",
     "text": [
      "{'Early Access', 'Web Publishing', 'Utilities', 'Audio Production', 'Casual', 'Photo Editing', 'RPG', 'Accounting', 'Animation &amp; Modeling', 'Education', 'Racing', 'Strategy', 'Simulation', 'Software Training', 'Video Production', 'Adventure', 'Indie', 'Free to Play', 'Design &amp; Illustration', 'Massively Multiplayer', 'Sports', 'Action'} \n",
      "\n",
      "{'1980s', 'Western', 'Wrestling', 'Anime', 'Violent', 'Mouse only', 'Mod', 'Lore-Rich', 'Assassin', 'Soundtrack', 'Perma Death', 'Co-op', 'Walking Simulator', 'Swordplay', 'Trading Card Game', 'Tutorial', 'Minimalist', 'Economy', '2.5D', 'Spelling', 'Superhero', 'Time Attack', 'Drama', 'Bikes', 'Dark Fantasy', 'Offroad', 'Rogue-lite', 'Pinball', 'Remake', 'Strategy', 'Retro', 'Mechs', 'Heist', 'Parkour', 'Modern', 'Satire', 'Relaxing', 'Driving', 'Cartoony', 'Dinosaurs', 'Sokoban', 'Kickstarter', 'Third Person', 'Text-Based', 'War', 'Tower Defense', 'RPG', 'Female Protagonist', 'Loot', 'Otome', 'Surreal', 'Clicker', 'Intentionally Awkward Controls', 'Wargame', 'Experience', 'Music', 'Underground', 'Football', 'Gore', 'Underwater', 'Family Friendly', 'Strategy RPG', 'Rhythm', '4 Player Local', 'Games Workshop', 'Typing', 'Programming', 'Bullet Hell', \"1990's\", 'Supernatural', 'Soccer', 'Resource Management', 'Game Development', 'America', 'Character Customization', 'Robots', 'Exploration', 'Mining', 'Rogue-like', 'Detective', 'Feature Film', 'Tactical RPG', 'Crowdfunded', 'Stealth', 'Pixel Graphics', 'Visual Novel', 'Foreign', 'Web Publishing', 'Quick-Time Events', 'Movie', 'Lara Croft', 'Twin Stick Shooter', 'NSFW', 'Touch-Friendly', 'Trains', 'Spectacle fighter', 'Replay Value', 'Romance', 'Class-Based', 'Base Building', 'Free to Play', 'First-Person', 'Hidden Object', 'Faith', 'Puzzle', 'Online Co-Op', 'Team-Based', 'Level Editor', 'Bowling', 'Runner', 'Asynchronous Multiplayer', 'Blood', 'Comic Book', 'Conversation', 'Basketball', 'Design & Illustration', 'Alternate History', 'Tactical', 'Arcade', '3D Platformer', 'On-Rails Shooter', 'Action RPG', 'Animation & Modeling', 'Psychological', 'Historical', 'World War II', 'Bullet Time', 'Dystopian', 'Mature', 'Procedural Generation', '2D', 'Time Travel', 'Documentary', 'Fantasy', 'Nonlinear', 'Arena Shooter', 'Dragons', 'Building', 'Sports', 'Gaming', 'Cycling', 'Narration', 'Noir', 'Casual', 'Moddable', 'Match 3', 'Turn-Based Tactics', 'Vampire', 'Mystery Dungeon', 'Character Action Game', 'Linear', 'Politics', 'Parody', 'Sexual Content', 'TrackIR', '2D Fighter', 'Cute', 'Massively Multiplayer', '6DOF', 'Top-Down', 'Real-Time with Pause', 'Inventory Management', 'Early Access', 'Utilities', 'Dark Humor', 'Episodic', 'JRPG', 'CRPG', 'Thriller', 'Cartoon', 'Pirates', 'FPS', 'Turn-Based Combat', 'Great Soundtrack', 'Mythology', 'Philisophical', 'Crafting', 'Score Attack', 'Difficult', 'Military', 'Indie', 'Psychedelic', 'Warhammer 40K', 'Chess', 'Silent Protagonist', 'Horror', 'Trading', 'Destruction', 'Hand-drawn', 'Software', 'Third-Person Shooter', 'Golf', 'Survival Horror', 'Gun Customization', 'Zombies', 'Sci-fi', 'Investigation', 'PvE', 'Conspiracy', 'Hacking', 'Mars', 'Ninja', 'Benchmark', 'Space Sim', 'Villain Protagonist', 'Dynamic Narration', 'Cyberpunk', 'Turn-Based', 'Adventure', 'Hardware', 'Artificial Intelligence', \"Beat 'em up\", 'Crime', 'Stylized', 'Multiple Endings', 'Gambling', 'Cinematic', 'Demons', 'PvP', 'FMV', 'RPGMaker', 'Magic', 'Dungeon Crawler', 'Education', 'Flight', 'Diplomacy', 'Racing', 'Star Wars', 'Simulation', 'GameMaker', 'Realistic', 'Batman', 'Sailing', 'Split Screen', \"Shoot 'Em Up\", 'Classic', 'Choose Your Own Adventure', 'Abstract', 'Nudity', 'Memes', 'Tanks', 'Action', 'Turn-Based Strategy', 'Psychological Horror', 'World War I', 'Mystery', 'Capitalism', 'Naval', 'e-sports', 'Steampunk', 'Dark', 'RTS', 'Experimental', 'Competitive', 'Open World', 'Sandbox', 'Cult Classic', 'Local Co-Op', 'Card Game', 'Choices Matter', 'Mini Golf', 'Co-op Campaign', 'Atmospheric', 'Video Production', 'Music-Based Procedural Generation', 'Illuminati', 'Side Scroller', 'Controller', 'God Game', 'Physics', 'Science', '3D Vision', 'Hack and Slash', 'Action-Adventure', 'Local Multiplayer', 'Colorful', 'Multiplayer', 'Steam Machine', 'Based On A Novel', 'Point & Click', 'LEGO', 'Story Rich', 'Fast-Paced', 'Gothic', 'Dark Comedy', 'Transhumanism', 'Martial Arts', 'Shooter', 'Real-Time', 'Funny', 'Hunting', 'VR', 'Grand Strategy', 'Hex Grid', 'Isometric', 'Singleplayer', 'Aliens', 'Board Game', 'City Builder', 'Cold War', 'Agriculture', 'Dating Sim', 'Fishing', 'Sniper', 'Comedy', 'Grid-Based Movement', 'Pool', 'Photo Editing', 'Survival', 'Interactive Fiction', 'Lemmings', 'Platformer', 'Software Training', 'Space', 'Rome', 'Time Manipulation', 'Real Time Tactics', 'Voice Control', 'Top-Down Shooter', 'Short', 'Futuristic', 'Lovecraftian', 'Political', 'Werewolves', 'Audio Production', 'Medieval', '360 Video', 'Post-apocalyptic', 'Party-Based RPG', 'Horses', 'Metroidvania', 'Puzzle-Platformer', '4X', 'MOBA', 'Management', 'MMORPG', 'Voxel', 'Word Game', 'Fighting'} \n",
      "\n",
      "{'HTC Vive', 'Game demo', 'Downloadable Content', 'Captions available', 'MMO', 'Online Co-op', 'Co-op', 'Includes level editor', 'Full controller support', 'Steam Turn Notifications', 'Multi-player', 'Steam Leaderboards', 'Mods (require HL2)', 'Standing', 'Shared/Split Screen', 'Steam Cloud', 'Room-Scale', 'In-App Purchases', 'Gamepad', 'Steam Trading Cards', 'Local Co-op', 'Windows Mixed Reality', 'Valve Anti-Cheat enabled', 'Steam Workshop', 'Local Multi-Player', 'Commentary available', 'Mods (require HL1)', 'Mods', 'Partial Controller Support', 'Seated', 'Oculus Rift', 'SteamVR Collectibles', 'Cross-Platform Multiplayer', 'Stats', 'Includes Source SDK', 'Online Multi-Player', 'Single-player', 'Keyboard / Mouse', 'Tracked Motion Controllers', 'Steam Achievements'} \n",
      "\n",
      "{'1980s', 'Western', 'Wrestling', 'Anime', 'Violent', 'Mouse only', 'Mod', 'Lore-Rich', 'Assassin', 'Soundtrack', 'Perma Death', 'Co-op', 'Walking Simulator', 'Swordplay', 'Trading Card Game', 'Tutorial', 'Minimalist', 'Economy', '2.5D', 'Spelling', 'Superhero', 'Time Attack', 'Steam Trading Cards', 'Drama', 'Bikes', 'Valve Anti-Cheat enabled', 'Dark Fantasy', 'Offroad', 'Rogue-lite', 'Pinball', 'Remake', 'Strategy', 'Retro', 'Mechs', 'Heist', 'Parkour', 'Modern', 'Satire', 'Relaxing', 'Driving', 'Cartoony', 'Dinosaurs', 'Sokoban', 'Kickstarter', 'Third Person', 'Text-Based', 'War', 'Tower Defense', 'RPG', 'Female Protagonist', 'Loot', 'Otome', 'Surreal', 'Clicker', 'Intentionally Awkward Controls', 'Wargame', 'Experience', 'Music', 'Underground', 'Football', 'Gore', 'Underwater', 'Family Friendly', 'Strategy RPG', 'Rhythm', 'Design &amp; Illustration', '4 Player Local', 'Games Workshop', 'Typing', 'Programming', 'Bullet Hell', \"1990's\", 'Supernatural', 'Soccer', 'Resource Management', 'Game Development', 'America', 'Character Customization', 'Robots', 'Exploration', 'Mining', 'Rogue-like', 'Detective', 'Feature Film', 'Tactical RPG', 'Crowdfunded', 'Stealth', 'Pixel Graphics', 'Visual Novel', 'Foreign', 'Web Publishing', 'Accounting', 'Quick-Time Events', 'Movie', 'Lara Croft', 'Twin Stick Shooter', 'NSFW', 'Touch-Friendly', 'Online Co-op', 'Trains', 'Spectacle fighter', 'Replay Value', 'Romance', 'Class-Based', 'Base Building', 'Free to Play', 'Gamepad', 'First-Person', 'Hidden Object', 'Faith', 'Puzzle', 'Local Co-op', 'Online Co-Op', 'Team-Based', 'Level Editor', 'Bowling', 'Runner', 'Asynchronous Multiplayer', 'Mods', 'Blood', 'Comic Book', 'Conversation', 'Oculus Rift', 'Basketball', 'Design & Illustration', 'Alternate History', 'Stats', 'Tactical', 'Arcade', '3D Platformer', 'On-Rails Shooter', 'Tracked Motion Controllers', 'Action RPG', 'Animation & Modeling', 'Psychological', 'Downloadable Content', 'Historical', 'World War II', 'Bullet Time', 'Multi-player', 'Steam Leaderboards', 'Dystopian', 'Mature', 'Procedural Generation', '2D', 'Shared/Split Screen', 'Time Travel', 'Documentary', 'Fantasy', 'Nonlinear', 'Steam Cloud', 'Arena Shooter', 'Dragons', 'Building', 'Sports', 'Gaming', 'Cycling', 'Narration', 'Noir', 'Steam Workshop', 'Casual', 'Moddable', 'Match 3', 'Turn-Based Tactics', 'Vampire', 'Mystery Dungeon', 'Character Action Game', 'Linear', 'Politics', 'Parody', 'Sexual Content', 'TrackIR', '2D Fighter', 'Cute', 'Massively Multiplayer', '6DOF', 'Top-Down', 'Real-Time with Pause', 'Inventory Management', 'Early Access', 'Utilities', 'Dark Humor', 'Animation &amp; Modeling', 'Episodic', 'JRPG', 'CRPG', 'Thriller', 'Cartoon', 'Pirates', 'FPS', 'Turn-Based Combat', 'Great Soundtrack', 'Mythology', 'Philisophical', 'Mods (require HL2)', 'Crafting', 'Score Attack', 'Difficult', 'Military', 'Indie', 'Psychedelic', 'Warhammer 40K', 'Chess', 'Silent Protagonist', 'Horror', 'Trading', 'Destruction', 'Hand-drawn', 'Software', 'Third-Person Shooter', 'Golf', 'Survival Horror', 'Commentary available', 'Gun Customization', 'Zombies', 'Sci-fi', 'Mods (require HL1)', 'Investigation', 'PvE', 'Conspiracy', 'Hacking', 'Mars', 'Partial Controller Support', 'Ninja', 'Benchmark', 'Space Sim', 'Villain Protagonist', 'Dynamic Narration', 'Cyberpunk', 'Online Multi-Player', 'Adventure', 'Turn-Based', 'Hardware', 'Artificial Intelligence', \"Beat 'em up\", 'Keyboard / Mouse', 'Crime', 'Stylized', 'Multiple Endings', 'Gambling', 'Cinematic', 'Game demo', 'Demons', 'PvP', 'FMV', 'RPGMaker', 'Magic', 'Dungeon Crawler', 'Education', 'Flight', 'Diplomacy', 'Racing', 'Star Wars', 'Includes level editor', 'Simulation', 'GameMaker', 'Full controller support', 'Realistic', 'Batman', 'Steam Turn Notifications', 'Sailing', 'Split Screen', \"Shoot 'Em Up\", 'Classic', 'Choose Your Own Adventure', 'In-App Purchases', 'Abstract', 'Nudity', 'Memes', 'Tanks', 'Action', 'Local Multi-Player', 'Turn-Based Strategy', 'Psychological Horror', 'World War I', 'Mystery', 'Capitalism', 'Naval', 'e-sports', 'Steampunk', 'Dark', 'RTS', 'Experimental', 'Competitive', 'Open World', 'Sandbox', 'Cult Classic', 'Captions available', 'Local Co-Op', 'Card Game', 'Choices Matter', 'Mini Golf', 'Co-op Campaign', 'Atmospheric', 'Standing', 'Video Production', 'Music-Based Procedural Generation', 'Illuminati', 'Side Scroller', 'Controller', 'God Game', 'Physics', 'Science', '3D Vision', 'Windows Mixed Reality', 'Hack and Slash', 'Action-Adventure', 'Local Multiplayer', 'Colorful', 'Multiplayer', 'Steam Machine', 'Based On A Novel', 'Point & Click', 'LEGO', 'Story Rich', 'Fast-Paced', 'Gothic', 'Dark Comedy', 'Transhumanism', 'Martial Arts', 'Shooter', 'Real-Time', 'Funny', 'Hunting', 'VR', 'Grand Strategy', 'Hex Grid', 'Single-player', 'Isometric', 'Singleplayer', 'Aliens', 'Board Game', 'City Builder', 'Cold War', 'Agriculture', 'Dating Sim', 'Fishing', 'Sniper', 'Comedy', 'Grid-Based Movement', 'HTC Vive', 'Pool', 'Photo Editing', 'Survival', 'Interactive Fiction', 'MMO', 'Lemmings', 'Software Training', 'Platformer', 'Space', 'Rome', 'Room-Scale', 'Time Manipulation', 'Real Time Tactics', 'Voice Control', 'Top-Down Shooter', 'Short', 'Futuristic', 'Lovecraftian', 'Political', 'Werewolves', 'Audio Production', 'Medieval', '360 Video', 'Post-apocalyptic', 'Party-Based RPG', 'Horses', 'Seated', 'Metroidvania', 'Puzzle-Platformer', 'SteamVR Collectibles', '4X', 'Cross-Platform Multiplayer', 'Includes Source SDK', 'MOBA', 'Management', 'MMORPG', 'Voxel', 'Word Game', 'Fighting', 'Steam Achievements'} \n",
      "\n"
     ]
    }
   ],
   "source": [
    "game_tags = steam_games[[\"app_name\", \"genres\", \"tags\", \"specs\"]].copy()\n",
    "\n",
    "game_tags[\"genres\"] = game_tags[\"genres\"].fillna(\"\").apply(set)\n",
    "genre_set = set()\n",
    "for s in game_tags.genres.values:\n",
    "    genre_set.update(s)\n",
    "game_tags[\"tags\"] = game_tags[\"tags\"].fillna(\"\").apply(set)\n",
    "tags_set = set()\n",
    "for s in game_tags.tags.values:\n",
    "    tags_set.update(s)\n",
    "game_tags[\"specs\"] = game_tags[\"specs\"].fillna(\"\").apply(set)\n",
    "specs_set = set()\n",
    "for s in game_tags.specs.values:\n",
    "    specs_set.update(s)\n",
    "\n",
    "all_tags = set.union(genre_set, tags_set, specs_set)\n",
    "print(genre_set, \"\\n\")\n",
    "print(tags_set, \"\\n\")\n",
    "print(specs_set, \"\\n\")\n",
    "print(all_tags, \"\\n\")"
   ]
  },
  {
   "cell_type": "code",
   "execution_count": 25,
   "metadata": {},
   "outputs": [
    {
     "name": "stdout",
     "output_type": "stream",
     "text": [
      "Average tag occurance count 497.0964912280702\n",
      "Indie                             17642\n",
      "Action                            13018\n",
      "Adventure                          9842\n",
      "Casual                             9767\n",
      "Simulation                         7749\n",
      "                                  ...  \n",
      "Intentionally Awkward Controls        6\n",
      "Cycling                               5\n",
      "Voice Control                         5\n",
      "Faith                                 4\n",
      "Bikes                                 2\n",
      "Length: 342, dtype: int64\n"
     ]
    },
    {
     "data": {
      "image/png": "[encoded data removed]",
      "text/plain": [
       "<Figure size 432x288 with 1 Axes>"
      ]
     },
     "metadata": {
      "needs_background": "light"
     },
     "output_type": "display_data"
    }
   ],
   "source": [
    "tag_amount = game_tags.apply(lambda x: set.union(x.genres, x.tags), axis=1).explode()\n",
    "tag_popularity = tag_amount.value_counts()\n",
    "\n",
    "tag_mean = tag_popularity.mean()\n",
    "\n",
    "print(\"Average tag occurance count\", tag_mean)\n",
    "print(tag_popularity)\n",
    "\n",
    "plt.bar(tag_popularity[:10].index, tag_popularity[:10].values, color=\"orange\")\n",
    "plt.tick_params(axis=\"x\", rotation=45)\n",
    "plt.title(\"Game tag popularity\")\n",
    "plt.xlabel(\"Game tags\")\n",
    "plt.ylabel(\"Amount of games with tag\")\n",
    "plt.show()"
   ]
  },
  {
   "cell_type": "markdown",
   "metadata": {},
   "source": [
    "Checking tag frequency per game"
   ]
  },
  {
   "cell_type": "code",
   "execution_count": 26,
   "metadata": {},
   "outputs": [
    {
     "name": "stdout",
     "output_type": "stream",
     "text": [
      "Amount of tags: 342\n",
      "                                            app_name  #tag\n",
      "26972                                           Goro     0\n",
      "7854            Football Manager 2017 In-Game Editor     0\n",
      "30992                  Burn Zombie Burn!: Soundtrack     0\n",
      "865                             Dustforce Soundtrack     0\n",
      "31181  Total War: SHOGUN 2 - Sengoku Jidai Unit Pack     0\n",
      "...                                              ...   ...\n",
      "21131                               Wallpaper Engine    22\n",
      "22238                     EF-12: Fighting Game Maker    22\n",
      "26660                                       GameGuru    22\n",
      "2800                                      Miscreated    23\n",
      "14291                            - Occult preRaise -    24\n",
      "\n",
      "[32135 rows x 2 columns]\n"
     ]
    },
    {
     "data": {
      "image/png": "[encoded data removed]",
      "text/plain": [
       "<Figure size 432x288 with 1 Axes>"
      ]
     },
     "metadata": {
      "needs_background": "light"
     },
     "output_type": "display_data"
    }
   ],
   "source": [
    "print(\"Amount of tags:\", len(set.union(tags_set, genre_set)))\n",
    "\n",
    "game_tags[\"#tag\"] = game_tags.apply(lambda x: len(set.union(x.genres, x.tags)), axis=1)\n",
    "\n",
    "print(game_tags[[\"app_name\", \"#tag\"]].sort_values(\"#tag\"))\n",
    "tag_bin = [0, 1, 3, 5, 10, 25, 40]\n",
    "game_tags[\"binned_tags\"] = pd.cut(game_tags[\"#tag\"], tag_bin).apply(str)\n",
    "\n",
    "game_tags = game_tags.groupby(\"binned_tags\").count()\n",
    "\n",
    "x = game_tags[\"app_name\"].index.to_numpy()\n",
    "y = game_tags[\"app_name\"].to_numpy()   \n",
    "\n",
    "plt.bar(x, y, color=\"orange\")\n",
    "plt.title(\"Amount of tags per game\")\n",
    "plt.xlabel(\"Amount of tags\")\n",
    "plt.ylabel(\"Amount of games\")\n",
    "plt.show()\n"
   ]
  },
  {
   "cell_type": "code",
   "execution_count": null,
   "metadata": {},
   "outputs": [],
   "source": [
    " "
   ]
  }
 ],
 "metadata": {
  "interpreter": {
   "hash": "9cd4d607d09f139598d14dd337305a88b08d69fdc0c33185f91e0af2ee72dd65"
  },
  "kernelspec": {
   "display_name": "Python 3.8.5 64-bit ('venv': venv)",
   "language": "python",
   "name": "python3"
  },
  "language_info": {
   "codemirror_mode": {
    "name": "ipython",
    "version": 3
   },
   "file_extension": ".py",
   "mimetype": "text/x-python",
   "name": "python",
   "nbconvert_exporter": "python",
   "pygments_lexer": "ipython3",
   "version": "3.8.5"
  },
  "orig_nbformat": 4
 },
 "nbformat": 4,
 "nbformat_minor": 2
}
