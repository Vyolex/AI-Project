{
 "cells": [
  {
   "cell_type": "markdown",
   "metadata": {},
   "source": [
    "This notebook presents the Data Analysis for the dataset used"
   ]
  },
  {
   "cell_type": "code",
   "execution_count": 1,
   "metadata": {},
   "outputs": [],
   "source": [
    "from src.recommender import parse_json\n",
    "import pandas as pd\n",
    "import numpy as np\n",
    "from matplotlib import pyplot as plt"
   ]
  },
  {
   "cell_type": "markdown",
   "metadata": {},
   "source": [
    "Reading the data from disk"
   ]
  },
  {
   "cell_type": "code",
   "execution_count": 2,
   "metadata": {},
   "outputs": [
    {
     "name": "stderr",
     "output_type": "stream",
     "text": [
      "25799it [00:03, 7825.18it/s]\n"
     ]
    },
    {
     "name": "stdout",
     "output_type": "stream",
     "text": [
      "Reading 25799 rows.\n"
     ]
    },
    {
     "name": "stderr",
     "output_type": "stream",
     "text": [
      "88310it [02:19, 632.50it/s] \n"
     ]
    },
    {
     "name": "stdout",
     "output_type": "stream",
     "text": [
      "Reading 88310 rows.\n"
     ]
    },
    {
     "name": "stderr",
     "output_type": "stream",
     "text": [
      "32135it [00:03, 9970.72it/s] \n"
     ]
    },
    {
     "name": "stdout",
     "output_type": "stream",
     "text": [
      "Reading 32135 rows.\n"
     ]
    }
   ],
   "source": [
    "reviews = parse_json(\"./data/australian_user_reviews.json\")\n",
    "user_items = parse_json(\"./data/australian_users_items.json\")\n",
    "steam_games = parse_json(\"./data/steam_games.json\")"
   ]
  },
  {
   "cell_type": "markdown",
   "metadata": {},
   "source": [
    "We start by taking a look at our users. \n",
    "\n",
    "We want to know how many items our users usually posses."
   ]
  },
  {
   "cell_type": "code",
   "execution_count": 3,
   "metadata": {},
   "outputs": [
    {
     "name": "stdout",
     "output_type": "stream",
     "text": [
      "                 user_id  items_count\n",
      "44154             dkimmm            0\n",
      "50723  76561198042745849            0\n",
      "50716  76561198042725721            0\n",
      "50713  76561198042712452            0\n",
      "50709  76561198042711240            0\n",
      "...                  ...          ...\n",
      "5995      mayshowganmore         5027\n",
      "6022              piepai         6132\n",
      "1104              chidvd         6410\n",
      "19055       thugnificent         6700\n",
      "3708             phrostb         7762\n",
      "\n",
      "[88310 rows x 2 columns]\n",
      "Average items in user inventory 72.06882132468114\n",
      " -> recall@k bounded by k/72.06882132468114\n"
     ]
    },
    {
     "data": {
      "image/png": "[encoded data removed]",
      "text/plain": [
       "<Figure size 432x288 with 1 Axes>"
      ]
     },
     "metadata": {
      "needs_background": "light"
     },
     "output_type": "display_data"
    }
   ],
   "source": [
    "game_bin = [-1, 0, 25, 50, 100, 500, 8000]\n",
    "user_item_count = user_items[[\"user_id\", \"items_count\"]].copy()\n",
    "user_item_count = user_item_count.sort_values(\"items_count\")\n",
    "print(user_item_count)\n",
    "avg_usr_item_amount = user_item_count[\"items_count\"].loc[(user_item_count[\"items_count\"]!=0)].mean()\n",
    "print(\"Average items in user inventory\", avg_usr_item_amount)\n",
    "print(f\" -> recall@k bounded by k/{avg_usr_item_amount}\")\n",
    "user_item_count[\"items_count\"] = pd.cut(user_item_count[\"items_count\"], game_bin).apply(str)\n",
    "\n",
    "user_item_count = user_item_count.groupby(\"items_count\").count()\n",
    "\n",
    "x = user_item_count[\"user_id\"].index.to_numpy()\n",
    "y = user_item_count[\"user_id\"].to_numpy()   \n",
    "\n",
    "plt.bar(x, y, color=\"orange\")\n",
    "plt.title(\"Amount of games in user inventory\")\n",
    "plt.xlabel(\"Amount of games\")\n",
    "plt.ylabel(\"Amount of users\")\n",
    "plt.show()"
   ]
  },
  {
   "cell_type": "markdown",
   "metadata": {},
   "source": [
    "Now we check how many reviews our users usually have made."
   ]
  },
  {
   "cell_type": "code",
   "execution_count": 4,
   "metadata": {},
   "outputs": [
    {
     "name": "stdout",
     "output_type": "stream",
     "text": [
      "                 user_id  reviews_count\n",
      "25001  76561198102423654              0\n",
      "24911  76561198100396147              0\n",
      "7583   76561198079215291              0\n",
      "9894   76561198061996985              0\n",
      "21386  76561198063489150              0\n",
      "...                  ...            ...\n",
      "16268  76561198080345478             10\n",
      "2848          TrackFight             10\n",
      "19297         kiniston69             10\n",
      "2911          Blackboy72             10\n",
      "7071       SambaWarKiddo             10\n",
      "\n",
      "[25799 rows x 2 columns]\n"
     ]
    },
    {
     "data": {
      "image/png": "[encoded data removed]",
      "text/plain": [
       "<Figure size 432x288 with 1 Axes>"
      ]
     },
     "metadata": {
      "needs_background": "light"
     },
     "output_type": "display_data"
    }
   ],
   "source": [
    "review_bins = [0, 1, 3, 5, 10]\n",
    "user_review_count = reviews[[\"user_id\", \"reviews\"]].copy()\n",
    "user_review_count[\"reviews_count\"] = user_review_count[\"reviews\"].apply(len)\n",
    "user_review_count = user_review_count.sort_values(\"reviews_count\")\n",
    "print(user_review_count[[\"user_id\", \"reviews_count\"]])\n",
    "user_review_count[\"reviews_count\"] = pd.cut(user_review_count[\"reviews_count\"], review_bins).apply(str)\n",
    "\n",
    "user_review_count = user_review_count.groupby(\"reviews_count\").count()\n",
    "\n",
    "x = user_review_count[\"user_id\"].index.to_numpy()\n",
    "y = user_review_count[\"user_id\"].to_numpy()   \n",
    "\n",
    "plt.bar(x, y, color=\"orange\")\n",
    "plt.title(\"Amount of users based on amount of reviews\")\n",
    "plt.xlabel(\"Amount of reviews\")\n",
    "plt.ylabel(\"Amount of users\")\n",
    "plt.show()"
   ]
  },
  {
   "cell_type": "markdown",
   "metadata": {},
   "source": [
    "Let's now look at the games, first we want to find out which are the most popular games."
   ]
  },
  {
   "cell_type": "code",
   "execution_count": 5,
   "metadata": {},
   "outputs": [
    {
     "name": "stdout",
     "output_type": "stream",
     "text": [
      "items\n",
      "Dota 2 Test                         49571\n",
      "Counter-Strike: Global Offensive    43776\n",
      "Garry's Mod                         43301\n",
      "Unturned                            38682\n",
      "Left 4 Dead 2                       37044\n",
      "                                    ...  \n",
      "Codex of Victory                        1\n",
      "Shmups Skill Test                       1\n",
      "Tradewinds Caravans                     1\n",
      "Tradewinds Odyssey                      1\n",
      "Rebel Wings                             1\n",
      "Name: user_id, Length: 10947, dtype: int64\n"
     ]
    },
    {
     "data": {
      "image/png": "[encoded data removed]",
      "text/plain": [
       "<Figure size 432x288 with 1 Axes>"
      ]
     },
     "metadata": {
      "needs_background": "light"
     },
     "output_type": "display_data"
    }
   ],
   "source": [
    "game_popularity = user_items[[\"user_id\", \"items\"]].copy()\n",
    "game_popularity = game_popularity.explode(\"items\", ignore_index=True)\n",
    "game_popularity.dropna(inplace=True)\n",
    "game_popularity[\"items\"] = game_popularity[\"items\"].apply(lambda x: x[\"item_name\"])\n",
    "game_popularity = game_popularity.groupby(\"items\").count()\n",
    "game_popularity = game_popularity.sort_values(\"user_id\", ascending=False)[\"user_id\"]\n",
    "\n",
    "print(game_popularity)\n",
    "\n",
    "plt.bar(game_popularity[:10].index, game_popularity[:10].values, color=\"orange\")\n",
    "plt.tick_params(axis=\"x\", rotation=90)\n",
    "plt.title(\"Game popularity (top 10)\")\n",
    "plt.xlabel(\"Games\")\n",
    "plt.ylabel(\"Amount of users that own game\")\n",
    "plt.show()"
   ]
  },
  {
   "cell_type": "markdown",
   "metadata": {},
   "source": [
    "Checking popularity based results"
   ]
  },
  {
   "cell_type": "code",
   "execution_count": 14,
   "metadata": {},
   "outputs": [
    {
     "name": "stdout",
     "output_type": "stream",
     "text": [
      "Popularity based top 10 recommender achieves: nDCG@10: 0.46426623387011295, recall@10: 0.0722303553443824\n",
      "The ideal recall@10 = 0.2167604954986081, which makes nrecall@10: 0.3332265650077655\n"
     ]
    }
   ],
   "source": [
    "# compute top k popularity based recommender\n",
    "k = 10\n",
    "\n",
    "ground_truth = user_items[[\"user_id\", \"items\"]].copy()\n",
    "ground_truth[\"items\"] = ground_truth[\"items\"].apply(lambda x: [i[\"item_id\"] for i in x])\n",
    "ground_truth.dropna(inplace=True)\n",
    "\n",
    "game_review_popularity = reviews[[\"user_id\", \"reviews\"]].copy()\n",
    "game_review_popularity[\"reviews\"] = game_review_popularity[\"reviews\"].apply(lambda x: [i[\"item_id\"] for i in x])\n",
    "game_review_popularity.dropna(inplace=True)\n",
    "\n",
    "n_game_pop = game_review_popularity[\"reviews\"].explode()\n",
    "n_game_pop.dropna(inplace=True)\n",
    "n_game_pop = n_game_pop.value_counts()\n",
    "\n",
    "game_review_popularity[\"recommendations\"] = game_review_popularity[\"reviews\"].apply(lambda x: [rec for rec in n_game_pop.index if rec not in x][:10]) \n",
    "# print(recommendations)\n",
    "\n",
    "# drop all rows with no items (nothing to compare against)\n",
    "ground_truth = ground_truth.merge(game_review_popularity, on=['user_id'])\n",
    "ground_truth['items'] = ground_truth.apply(lambda row: list(set(row['items']).difference(set(row['reviews']))), axis=1)\n",
    "ground_truth.drop(ground_truth[~ground_truth['items'].astype(bool)].index, inplace=True)\n",
    "\n",
    "# compute nDCG@k\n",
    "ground_truth['nDCG@k'] = ground_truth.apply(lambda row: np.sum([int(rec in row['items'])/(np.log2(i+2)) for i, rec in enumerate(row[\"recommendations\"])]), axis=1)\n",
    "ground_truth['nDCG@k'] = ground_truth.apply(lambda row: row['nDCG@k']/np.sum([1/(np.log2(i+2)) for i in range(min(len(row[\"recommendations\"]), len(row['items'])))]), axis=1)\n",
    "\n",
    "# compute recall@k\n",
    "ground_truth['items'] = ground_truth['items'].apply(set)\n",
    "ground_truth[\"recommendations\"] = ground_truth[\"recommendations\"].apply(set)\n",
    "ground_truth['recall@k'] = ground_truth.apply(lambda row: len(row[\"recommendations\"].intersection(row['items']))/len(row['items']), axis=1)\n",
    "\n",
    "ground_truth['ideal_recall@k'] = ground_truth.apply(lambda row: min(len(row['items']), len(row[\"recommendations\"]))/len(row['items']), axis=1)\n",
    "\n",
    "print(f\"Popularity based top {k} recommender achieves: nDCG@{k}: {ground_truth['nDCG@k'].mean()}, recall@{k}: {ground_truth['recall@k'].mean()}\")\n",
    "print(f\"The ideal recall@{k} = {ground_truth['ideal_recall@k'].mean()}, which makes nrecall@{k}: {ground_truth['recall@k'].mean()/ground_truth['ideal_recall@k'].mean()}\")"
   ]
  },
  {
   "cell_type": "code",
   "execution_count": 7,
   "metadata": {},
   "outputs": [
    {
     "name": "stdout",
     "output_type": "stream",
     "text": [
      "Total amount of games on steam: 32135 with 10947 that are actually owned in our dataset\n"
     ]
    }
   ],
   "source": [
    "print(f\"Total amount of games on steam: {steam_games.shape[0]} with {game_popularity.shape[0]} that are actually owned in our dataset\")"
   ]
  },
  {
   "cell_type": "markdown",
   "metadata": {},
   "source": [
    "Analysing the tags in our data\n",
    "\n",
    "Let's first take a look at which tags are present."
   ]
  },
  {
   "cell_type": "code",
   "execution_count": 8,
   "metadata": {},
   "outputs": [
    {
     "name": "stdout",
     "output_type": "stream",
     "text": [
      "{'Animation &amp; Modeling', 'Racing', 'Indie', 'Strategy', 'Accounting', 'Web Publishing', 'Early Access', 'Software Training', 'Action', 'RPG', 'Free to Play', 'Education', 'Design &amp; Illustration', 'Adventure', 'Utilities', 'Audio Production', 'Casual', 'Massively Multiplayer', 'Simulation', 'Sports', 'Photo Editing', 'Video Production'} \n",
      "\n",
      "{\"Beat 'em up\", 'Text-Based', 'Local Multiplayer', 'Lemmings', 'Realistic', 'Walking Simulator', 'Robots', 'Cartoon', 'GameMaker', 'Crafting', 'Benchmark', 'Survival', 'Mining', 'Space', 'Economy', 'Twin Stick Shooter', 'Platformer', 'Match 3', 'Time Travel', 'TrackIR', 'Stylized', 'Soccer', 'Documentary', 'Visual Novel', 'Illuminati', 'Hardware', 'Clicker', 'Funny', 'Story Rich', 'Tanks', 'Level Editor', 'Photo Editing', 'Conversation', 'Difficult', 'Foreign', 'Mouse only', 'Cyberpunk', 'Strategy', 'Werewolves', 'Military', 'Quick-Time Events', 'Real-Time', 'Sci-fi', 'Wrestling', 'Programming', 'Diplomacy', 'Pool', 'Gore', 'Free to Play', 'Agriculture', 'Music', 'Offroad', 'Noir', 'RPGMaker', 'Software', 'Abstract', 'Trading Card Game', 'Split Screen', 'LEGO', 'Sandbox', 'Narration', '1980s', 'Strategy RPG', 'Bullet Time', 'Vampire', 'Steam Machine', 'Inventory Management', 'Hacking', 'Grid-Based Movement', 'Mechs', 'Short', 'Party-Based RPG', 'Tactical RPG', 'Trading', 'Romance', \"Shoot 'Em Up\", 'Magic', 'Aliens', 'Pirates', 'Demons', 'Local Co-Op', 'Comic Book', 'Education', 'Rhythm', 'Thriller', 'Flight', 'Dynamic Narration', 'Score Attack', 'Interactive Fiction', 'Mature', '2D Fighter', 'Turn-Based Tactics', 'Audio Production', 'Linear', 'Comedy', 'Anime', 'Pixel Graphics', 'Underwater', 'Western', 'Racing', 'Multiplayer', 'Lore-Rich', 'Hidden Object', 'Bullet Hell', 'Philisophical', 'Turn-Based', 'Moddable', 'Steampunk', 'Mod', 'Early Access', 'Hex Grid', 'Naval', 'Point & Click', 'Tactical', 'Class-Based', 'Board Game', 'Arcade', 'Management', 'Martial Arts', 'Driving', 'Utilities', 'Team-Based', 'Batman', 'Rogue-like', 'VR', 'Metroidvania', 'Indie', 'Assassin', 'Survival Horror', 'Exploration', 'Time Attack', 'Wargame', 'Action', 'Real Time Tactics', 'Post-apocalyptic', 'RPG', 'Otome', 'Parody', 'RTS', 'Spectacle fighter', 'Psychedelic', 'Sokoban', 'Word Game', 'Detective', 'Isometric', 'Arena Shooter', 'Dark Humor', 'Pinball', 'Video Production', 'Gun Customization', 'MMORPG', 'Hack and Slash', 'On-Rails Shooter', 'Perma Death', 'Gaming', 'Experimental', 'FPS', 'Blood', 'Capitalism', 'Swordplay', 'Cute', 'Conspiracy', 'Turn-Based Strategy', 'Based On A Novel', 'Spelling', 'Lovecraftian', 'Basketball', 'Movie', 'Time Manipulation', 'Mythology', 'Star Wars', 'World War II', 'Crime', 'Puzzle-Platformer', 'Multiple Endings', 'Destruction', 'Character Customization', '4X', 'Faith', 'PvP', 'Building', 'Gothic', 'City Builder', 'Real-Time with Pause', 'Co-op', 'Design & Illustration', 'Golf', 'Tower Defense', 'Hunting', 'Sports', 'Sexual Content', 'Games Workshop', 'Ninja', 'Cycling', 'Trains', 'FMV', 'Asynchronous Multiplayer', 'Side Scroller', 'Third-Person Shooter', 'Web Publishing', 'Software Training', 'America', 'Cartoony', 'Intentionally Awkward Controls', 'Female Protagonist', 'Relaxing', 'e-sports', 'Gambling', 'Top-Down Shooter', 'Cold War', 'Mystery Dungeon', 'CRPG', 'Stealth', 'Violent', 'Mystery', 'Underground', 'Transhumanism', 'Fast-Paced', 'Music-Based Procedural Generation', 'Bikes', 'Parkour', 'Action RPG', 'Family Friendly', 'Replay Value', 'Runner', 'Dragons', 'Zombies', 'Hand-drawn', 'Rome', 'Classic', 'Alternate History', 'Voxel', 'Third Person', 'Rogue-lite', 'Chess', 'Card Game', 'Touch-Friendly', 'Modern', 'MOBA', 'Investigation', 'First-Person', 'Fishing', 'Surreal', 'Character Action Game', 'Supernatural', 'Nudity', 'Sailing', 'Online Co-Op', 'Turn-Based Combat', 'Nonlinear', 'Physics', 'Mars', 'Choices Matter', 'Bowling', 'Dark', 'Grand Strategy', 'Soundtrack', 'Typing', 'Base Building', 'War', 'Voice Control', 'Top-Down', 'Superhero', 'Competitive', 'Singleplayer', 'Politics', 'Dinosaurs', 'Dungeon Crawler', 'Remake', 'Satire', 'Procedural Generation', 'Dark Comedy', 'Psychological', \"1990's\", 'Loot', 'Futuristic', 'Lara Croft', 'Controller', 'Puzzle', 'Animation & Modeling', 'NSFW', 'Historical', '3D Platformer', 'Colorful', 'God Game', 'Warhammer 40K', 'Action-Adventure', 'Political', 'Drama', 'Shooter', 'Feature Film', 'Football', 'World War I', '2D', 'Medieval', 'Heist', '2.5D', '6DOF', 'Mini Golf', 'Adventure', 'Psychological Horror', 'Crowdfunded', 'Memes', 'Fantasy', 'JRPG', 'Resource Management', 'Experience', 'Dystopian', '360 Video', 'Tutorial', 'Great Soundtrack', 'Open World', '3D Vision', 'Villain Protagonist', 'Science', 'Atmospheric', 'Cinematic', 'Horror', 'Minimalist', 'Fighting', 'Dating Sim', '4 Player Local', 'PvE', 'Casual', 'Massively Multiplayer', 'Co-op Campaign', 'Kickstarter', 'Artificial Intelligence', 'Episodic', 'Silent Protagonist', 'Retro', 'Cult Classic', 'Space Sim', 'Sniper', 'Dark Fantasy', 'Horses', 'Simulation', 'Game Development', 'Choose Your Own Adventure'} \n",
      "\n",
      "{'Commentary available', 'Stats', 'Tracked Motion Controllers', 'SteamVR Collectibles', 'Cross-Platform Multiplayer', 'Keyboard / Mouse', 'Includes level editor', 'Room-Scale', 'Seated', 'Includes Source SDK', 'Game demo', 'Full controller support', 'Downloadable Content', 'Mods (require HL2)', 'Co-op', 'Mods', 'HTC Vive', 'Windows Mixed Reality', 'Online Co-op', 'Steam Trading Cards', 'Local Co-op', 'In-App Purchases', 'Local Multi-Player', 'Single-player', 'Captions available', 'Steam Cloud', 'Steam Achievements', 'Steam Leaderboards', 'Standing', 'Mods (require HL1)', 'Online Multi-Player', 'Partial Controller Support', 'Multi-player', 'Steam Workshop', 'MMO', 'Gamepad', 'Shared/Split Screen', 'Steam Turn Notifications', 'Valve Anti-Cheat enabled', 'Oculus Rift'} \n",
      "\n",
      "{\"Beat 'em up\", 'Text-Based', 'Local Multiplayer', 'Lemmings', 'Realistic', 'Walking Simulator', 'Robots', 'Cartoon', 'GameMaker', 'Online Co-op', 'In-App Purchases', 'Crafting', 'Benchmark', 'Survival', 'Mining', 'Space', 'Economy', 'Twin Stick Shooter', 'Gamepad', 'Platformer', 'Match 3', 'Time Travel', 'TrackIR', 'Stylized', 'Soccer', 'Documentary', 'Visual Novel', 'Illuminati', 'Hardware', 'Clicker', 'Funny', 'Story Rich', 'Photo Editing', 'Tanks', 'Level Editor', 'Conversation', 'Difficult', 'Animation &amp; Modeling', 'Foreign', 'Mouse only', 'Cyberpunk', 'Strategy', 'Werewolves', 'Military', 'Quick-Time Events', 'Real-Time', 'Sci-fi', 'Seated', 'Wrestling', 'Programming', 'Diplomacy', 'Pool', 'Gore', 'Free to Play', 'Agriculture', 'Music', 'Offroad', 'Noir', 'RPGMaker', 'Steam Trading Cards', 'Software', 'Abstract', 'Trading Card Game', 'Split Screen', 'Local Multi-Player', 'LEGO', 'Sandbox', 'Narration', '1980s', 'Online Multi-Player', 'Strategy RPG', 'Bullet Time', 'Vampire', 'Steam Machine', 'Inventory Management', 'Hacking', 'Grid-Based Movement', 'Mechs', 'Steam Turn Notifications', 'Short', 'Party-Based RPG', 'Tactical RPG', 'Trading', 'Valve Anti-Cheat enabled', 'Romance', \"Shoot 'Em Up\", 'Magic', 'Aliens', 'Pirates', 'Tracked Motion Controllers', 'SteamVR Collectibles', 'Demons', 'Local Co-Op', 'Comic Book', 'Game demo', 'Mods (require HL2)', 'Education', 'Rhythm', 'Mods', 'Thriller', 'Flight', 'Dynamic Narration', 'Score Attack', 'Interactive Fiction', 'Audio Production', 'Mature', '2D Fighter', 'Turn-Based Tactics', 'Linear', 'Comedy', 'Anime', 'Pixel Graphics', 'Underwater', 'Western', 'Racing', 'Multiplayer', 'Lore-Rich', 'Hidden Object', 'Bullet Hell', 'Philisophical', 'Standing', 'Turn-Based', 'Moddable', 'Steampunk', 'Mod', 'Early Access', 'Hex Grid', 'Naval', 'Point & Click', 'Tactical', 'Class-Based', 'Board Game', 'Arcade', 'Management', 'Martial Arts', 'Driving', 'Utilities', 'Team-Based', 'Batman', 'Rogue-like', 'VR', 'Metroidvania', 'Indie', 'Assassin', 'Survival Horror', 'Exploration', 'Time Attack', 'Wargame', 'Action', 'Real Time Tactics', 'Post-apocalyptic', 'RPG', 'Otome', 'Parody', 'RTS', 'Spectacle fighter', 'Psychedelic', 'Sokoban', 'Word Game', 'Detective', 'Isometric', 'Arena Shooter', 'Dark Humor', 'Pinball', 'Video Production', 'Gun Customization', 'MMORPG', 'Hack and Slash', 'On-Rails Shooter', 'Perma Death', 'Gaming', 'Experimental', 'FPS', 'Blood', 'Capitalism', 'Partial Controller Support', 'Multi-player', 'Steam Workshop', 'Swordplay', 'Cute', 'Conspiracy', 'Turn-Based Strategy', 'Based On A Novel', 'Spelling', 'Lovecraftian', 'Oculus Rift', 'Basketball', 'Movie', 'Time Manipulation', 'Mythology', 'Star Wars', 'World War II', 'Crime', 'Puzzle-Platformer', 'Multiple Endings', 'Destruction', 'Character Customization', '4X', 'Faith', 'PvP', 'Building', 'Gothic', 'City Builder', 'Downloadable Content', 'Real-Time with Pause', 'Co-op', 'Design & Illustration', 'Golf', 'Tower Defense', 'Hunting', 'Sports', 'Sexual Content', 'Games Workshop', 'Ninja', 'Cycling', 'Trains', 'FMV', 'Asynchronous Multiplayer', 'Side Scroller', 'Third-Person Shooter', 'Web Publishing', 'Software Training', 'America', 'Cartoony', 'Intentionally Awkward Controls', 'Female Protagonist', 'Relaxing', 'e-sports', 'Gambling', 'Top-Down Shooter', 'Cold War', 'Mystery Dungeon', 'Shared/Split Screen', 'CRPG', 'Stealth', 'Violent', 'Mystery', 'Underground', 'Transhumanism', 'Fast-Paced', 'Stats', 'Music-Based Procedural Generation', 'Bikes', 'Includes level editor', 'Parkour', 'Action RPG', 'Family Friendly', 'Replay Value', 'Runner', 'Dragons', 'Zombies', 'Hand-drawn', 'Rome', 'Classic', 'Alternate History', 'Voxel', 'HTC Vive', 'Third Person', 'Rogue-lite', 'Chess', 'Card Game', 'Touch-Friendly', 'Modern', 'MOBA', 'Investigation', 'First-Person', 'Fishing', 'Mods (require HL1)', 'Surreal', 'Steam Achievements', 'Character Action Game', 'Supernatural', 'Nudity', 'Sailing', 'Online Co-Op', 'Turn-Based Combat', 'Nonlinear', 'Physics', 'Mars', 'Choices Matter', 'Bowling', 'Dark', 'Grand Strategy', 'Soundtrack', 'Typing', 'Base Building', 'War', 'Voice Control', 'Top-Down', 'Superhero', 'Cross-Platform Multiplayer', 'Competitive', 'Singleplayer', 'Politics', 'Dinosaurs', 'Dungeon Crawler', 'Remake', 'Satire', 'Procedural Generation', 'Includes Source SDK', 'Dark Comedy', 'Psychological', 'Full controller support', \"1990's\", 'Loot', 'Futuristic', 'Lara Croft', 'Controller', 'Puzzle', 'Animation & Modeling', 'NSFW', 'Historical', '3D Platformer', 'Colorful', 'God Game', 'Warhammer 40K', 'Single-player', 'Action-Adventure', 'Political', 'Drama', 'Captions available', 'Shooter', 'Steam Cloud', 'Feature Film', 'Football', 'World War I', '2D', 'Medieval', 'Heist', '2.5D', '6DOF', 'Mini Golf', 'Design &amp; Illustration', 'Adventure', 'Psychological Horror', 'Crowdfunded', 'Memes', 'Fantasy', 'JRPG', 'Resource Management', 'Commentary available', 'Experience', 'Dystopian', 'Keyboard / Mouse', 'Accounting', 'Room-Scale', '360 Video', 'Tutorial', 'Great Soundtrack', 'Open World', '3D Vision', 'Villain Protagonist', 'Science', 'Atmospheric', 'Cinematic', 'Horror', 'Minimalist', 'Fighting', 'Dating Sim', '4 Player Local', 'Windows Mixed Reality', 'PvE', 'Casual', 'Massively Multiplayer', 'Co-op Campaign', 'Local Co-op', 'Kickstarter', 'Artificial Intelligence', 'Episodic', 'Silent Protagonist', 'Retro', 'Steam Leaderboards', 'MMO', 'Cult Classic', 'Space Sim', 'Sniper', 'Dark Fantasy', 'Horses', 'Simulation', 'Game Development', 'Choose Your Own Adventure'} \n",
      "\n"
     ]
    }
   ],
   "source": [
    "game_tags = steam_games[[\"app_name\", \"genres\", \"tags\", \"specs\"]].copy()\n",
    "\n",
    "game_tags[\"genres\"] = game_tags[\"genres\"].fillna(\"\").apply(set)\n",
    "genre_set = set()\n",
    "for s in game_tags.genres.values:\n",
    "    genre_set.update(s)\n",
    "game_tags[\"tags\"] = game_tags[\"tags\"].fillna(\"\").apply(set)\n",
    "tags_set = set()\n",
    "for s in game_tags.tags.values:\n",
    "    tags_set.update(s)\n",
    "game_tags[\"specs\"] = game_tags[\"specs\"].fillna(\"\").apply(set)\n",
    "specs_set = set()\n",
    "for s in game_tags.specs.values:\n",
    "    specs_set.update(s)\n",
    "\n",
    "all_tags = set.union(genre_set, tags_set, specs_set)\n",
    "print(genre_set, \"\\n\")\n",
    "print(tags_set, \"\\n\")\n",
    "print(specs_set, \"\\n\")\n",
    "print(all_tags, \"\\n\")"
   ]
  },
  {
   "cell_type": "markdown",
   "metadata": {},
   "source": [
    "Now let's see which are the most popular tags "
   ]
  },
  {
   "cell_type": "code",
   "execution_count": 9,
   "metadata": {},
   "outputs": [
    {
     "name": "stdout",
     "output_type": "stream",
     "text": [
      "Average tag occurrence count 497.0964912280702\n",
      "Indie                             17642\n",
      "Action                            13018\n",
      "Adventure                          9842\n",
      "Casual                             9767\n",
      "Simulation                         7749\n",
      "                                  ...  \n",
      "Intentionally Awkward Controls        6\n",
      "Cycling                               5\n",
      "Voice Control                         5\n",
      "Faith                                 4\n",
      "Bikes                                 2\n",
      "Length: 342, dtype: int64\n"
     ]
    },
    {
     "data": {
      "image/png": "[encoded data removed]",
      "text/plain": [
       "<Figure size 432x288 with 1 Axes>"
      ]
     },
     "metadata": {
      "needs_background": "light"
     },
     "output_type": "display_data"
    }
   ],
   "source": [
    "tag_amount = game_tags.apply(lambda x: set.union(x.genres, x.tags), axis=1).explode()\n",
    "tag_popularity = tag_amount.value_counts()\n",
    "\n",
    "tag_mean = tag_popularity.mean()\n",
    "\n",
    "print(\"Average tag occurrence count\", tag_mean)\n",
    "print(tag_popularity)\n",
    "\n",
    "plt.bar(tag_popularity[:10].index, tag_popularity[:10].values, color=\"orange\")\n",
    "plt.tick_params(axis=\"x\", rotation=45)\n",
    "plt.title(\"Game tag popularity (top 10)\")\n",
    "plt.xlabel(\"Game tags\")\n",
    "plt.ylabel(\"Amount of games with tag\")\n",
    "plt.show()"
   ]
  },
  {
   "cell_type": "markdown",
   "metadata": {},
   "source": [
    "Checking tag frequency per game"
   ]
  },
  {
   "cell_type": "code",
   "execution_count": 10,
   "metadata": {},
   "outputs": [
    {
     "name": "stdout",
     "output_type": "stream",
     "text": [
      "Amount of tags: 342\n",
      "                                            app_name  #tag\n",
      "26972                                           Goro     0\n",
      "7854            Football Manager 2017 In-Game Editor     0\n",
      "30992                  Burn Zombie Burn!: Soundtrack     0\n",
      "865                             Dustforce Soundtrack     0\n",
      "31181  Total War: SHOGUN 2 - Sengoku Jidai Unit Pack     0\n",
      "...                                              ...   ...\n",
      "21131                               Wallpaper Engine    22\n",
      "22238                     EF-12: Fighting Game Maker    22\n",
      "26660                                       GameGuru    22\n",
      "2800                                      Miscreated    23\n",
      "14291                            - Occult preRaise -    24\n",
      "\n",
      "[32135 rows x 2 columns]\n"
     ]
    },
    {
     "data": {
      "image/png": "[encoded data removed]",
      "text/plain": [
       "<Figure size 432x288 with 1 Axes>"
      ]
     },
     "metadata": {
      "needs_background": "light"
     },
     "output_type": "display_data"
    }
   ],
   "source": [
    "print(\"Amount of tags:\", len(set.union(tags_set, genre_set)))\n",
    "\n",
    "game_tags[\"#tag\"] = game_tags.apply(lambda x: len(set.union(x.genres, x.tags)), axis=1)\n",
    "\n",
    "print(game_tags[[\"app_name\", \"#tag\"]].sort_values(\"#tag\"))\n",
    "tag_bin = [0, 1, 3, 5, 10, 25, 40]\n",
    "game_tags[\"binned_tags\"] = pd.cut(game_tags[\"#tag\"], tag_bin).apply(str)\n",
    "\n",
    "game_tags = game_tags.groupby(\"binned_tags\").count()\n",
    "\n",
    "x = game_tags[\"app_name\"].index.to_numpy()\n",
    "y = game_tags[\"app_name\"].to_numpy()   \n",
    "\n",
    "plt.bar(x, y, color=\"orange\")\n",
    "plt.title(\"Amount of games per tag\")\n",
    "plt.xlabel(\"Amount of tags\")\n",
    "plt.ylabel(\"Amount of games\")\n",
    "plt.show()\n"
   ]
  },
  {
   "cell_type": "code",
   "execution_count": null,
   "metadata": {},
   "outputs": [],
   "source": [
    " "
   ]
  }
 ],
 "metadata": {
  "interpreter": {
   "hash": "9cd4d607d09f139598d14dd337305a88b08d69fdc0c33185f91e0af2ee72dd65"
  },
  "kernelspec": {
   "display_name": "Python 3.8.5 64-bit ('venv': venv)",
   "language": "python",
   "name": "python3"
  },
  "language_info": {
   "codemirror_mode": {
    "name": "ipython",
    "version": 3
   },
   "file_extension": ".py",
   "mimetype": "text/x-python",
   "name": "python",
   "nbconvert_exporter": "python",
   "pygments_lexer": "ipython3",
   "version": "3.8.5"
  },
  "orig_nbformat": 4
 },
 "nbformat": 4,
 "nbformat_minor": 2
}
