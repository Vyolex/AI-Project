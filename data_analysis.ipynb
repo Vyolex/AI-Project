{
 "cells": [
  {
   "cell_type": "markdown",
   "metadata": {},
   "source": [
    "Data Analysis of the data used"
   ]
  },
  {
   "cell_type": "code",
   "execution_count": 2,
   "metadata": {},
   "outputs": [],
   "source": [
    "from src.recommender import parse_json\n",
    "import pandas as pd\n",
    "import numpy as np\n",
    "from matplotlib import pyplot as plt\n"
   ]
  },
  {
   "cell_type": "code",
   "execution_count": 3,
   "metadata": {},
   "outputs": [
    {
     "name": "stderr",
     "output_type": "stream",
     "text": [
      "25799it [00:02, 9080.90it/s] \n"
     ]
    },
    {
     "name": "stdout",
     "output_type": "stream",
     "text": [
      "Reading 25799 rows.\n"
     ]
    },
    {
     "name": "stderr",
     "output_type": "stream",
     "text": [
      "88310it [02:28, 595.81it/s] \n"
     ]
    },
    {
     "name": "stdout",
     "output_type": "stream",
     "text": [
      "Reading 88310 rows.\n"
     ]
    },
    {
     "name": "stderr",
     "output_type": "stream",
     "text": [
      "32135it [00:03, 9135.27it/s] \n"
     ]
    },
    {
     "name": "stdout",
     "output_type": "stream",
     "text": [
      "Reading 32135 rows.\n"
     ]
    }
   ],
   "source": [
    "reviews = parse_json(\"./data/australian_user_reviews.json\")\n",
    "user_items = parse_json(\"./data/australian_users_items.json\")\n",
    "steam_games = parse_json(\"./data/steam_games.json\")"
   ]
  },
  {
   "cell_type": "markdown",
   "metadata": {},
   "source": [
    "Amount of games per user"
   ]
  },
  {
   "cell_type": "code",
   "execution_count": 10,
   "metadata": {},
   "outputs": [
    {
     "name": "stdout",
     "output_type": "stream",
     "text": [
      "                 user_id  items_count\n",
      "44154             dkimmm            0\n",
      "50723  76561198042745849            0\n",
      "50716  76561198042725721            0\n",
      "50713  76561198042712452            0\n",
      "50709  76561198042711240            0\n",
      "...                  ...          ...\n",
      "5995      mayshowganmore         5027\n",
      "6022              piepai         6132\n",
      "1104              chidvd         6410\n",
      "19055       thugnificent         6700\n",
      "3708             phrostb         7762\n",
      "\n",
      "[88310 rows x 2 columns]\n",
      "Average items in user inventory 58.353629260559394\n",
      " -> recall@k bounded by k/58.353629260559394\n"
     ]
    },
    {
     "data": {
      "image/png": "[encoded data removed]",
      "text/plain": [
       "<Figure size 432x288 with 1 Axes>"
      ]
     },
     "metadata": {
      "needs_background": "light"
     },
     "output_type": "display_data"
    }
   ],
   "source": [
    "game_bin = [-1, 0, 25, 50, 100, 500, 8000]\n",
    "user_item_count = user_items[[\"user_id\", \"items_count\"]].copy()\n",
    "user_item_count = user_item_count.sort_values(\"items_count\")\n",
    "print(user_item_count)\n",
    "avg_usr_item_amount = user_item_count[\"items_count\"].mean()\n",
    "print(\"Average items in user inventory\", avg_usr_item_amount)\n",
    "print(f\" -> recall@k bounded by k/{avg_usr_item_amount}\")\n",
    "user_item_count[\"items_count\"] = pd.cut(user_item_count[\"items_count\"], game_bin).apply(str)\n",
    "\n",
    "user_item_count = user_item_count.groupby(\"items_count\").count()\n",
    "\n",
    "x = user_item_count[\"user_id\"].index.to_numpy()\n",
    "y = user_item_count[\"user_id\"].to_numpy()   \n",
    "\n",
    "plt.bar(x, y, color=\"orange\")\n",
    "plt.xlabel(\"Amount of users\")\n",
    "plt.ylabel(\"Amount of games\")\n",
    "plt.show()"
   ]
  },
  {
   "cell_type": "markdown",
   "metadata": {},
   "source": [
    "Amount of reviews per user"
   ]
  },
  {
   "cell_type": "code",
   "execution_count": 5,
   "metadata": {},
   "outputs": [
    {
     "name": "stdout",
     "output_type": "stream",
     "text": [
      "                 user_id  reviews_count\n",
      "25001  76561198102423654              0\n",
      "24911  76561198100396147              0\n",
      "7583   76561198079215291              0\n",
      "9894   76561198061996985              0\n",
      "21386  76561198063489150              0\n",
      "...                  ...            ...\n",
      "16268  76561198080345478             10\n",
      "2848          TrackFight             10\n",
      "19297         kiniston69             10\n",
      "2911          Blackboy72             10\n",
      "7071       SambaWarKiddo             10\n",
      "\n",
      "[25799 rows x 2 columns]\n"
     ]
    },
    {
     "data": {
      "image/png": "[encoded data removed]",
      "text/plain": [
       "<Figure size 432x288 with 1 Axes>"
      ]
     },
     "metadata": {
      "needs_background": "light"
     },
     "output_type": "display_data"
    }
   ],
   "source": [
    "review_bins = [0, 1, 3, 5, 10]\n",
    "user_review_count = reviews[[\"user_id\", \"reviews\"]].copy()\n",
    "user_review_count[\"reviews_count\"] = user_review_count[\"reviews\"].apply(len)\n",
    "user_review_count = user_review_count.sort_values(\"reviews_count\")\n",
    "print(user_review_count[[\"user_id\", \"reviews_count\"]])\n",
    "user_review_count[\"reviews_count\"] = pd.cut(user_review_count[\"reviews_count\"], review_bins).apply(str)\n",
    "\n",
    "user_review_count = user_review_count.groupby(\"reviews_count\").count()\n",
    "\n",
    "x = user_review_count[\"user_id\"].index.to_numpy()\n",
    "y = user_review_count[\"user_id\"].to_numpy()   \n",
    "\n",
    "plt.bar(x, y, color=\"orange\")\n",
    "plt.xlabel(\"Amount of users\")\n",
    "plt.ylabel(\"Amount of reviews\")\n",
    "plt.show()"
   ]
  },
  {
   "cell_type": "markdown",
   "metadata": {},
   "source": [
    "Popularity of games"
   ]
  },
  {
   "cell_type": "code",
   "execution_count": 6,
   "metadata": {},
   "outputs": [
    {
     "name": "stdout",
     "output_type": "stream",
     "text": [
      "                                  user_id\n",
      "items                                    \n",
      "Fire Farm VR                            1\n",
      "PD Howler 10                            1\n",
      "PD Howler 9.6                           1\n",
      "Crazy Machines 1.5                      1\n",
      "PRINCIPIA: Master of Science            1\n",
      "...                                   ...\n",
      "Left 4 Dead 2                       37044\n",
      "Unturned                            38682\n",
      "Garry's Mod                         43301\n",
      "Counter-Strike: Global Offensive    43776\n",
      "Dota 2 Test                         49571\n",
      "\n",
      "[10947 rows x 1 columns]\n"
     ]
    }
   ],
   "source": [
    "game_popularity = user_items[[\"user_id\", \"items\"]]\n",
    "game_popularity = game_popularity.explode(\"items\", ignore_index=True)\n",
    "game_popularity.dropna(inplace=True)\n",
    "game_popularity[\"items\"] = game_popularity[\"items\"].apply(lambda x: x[\"item_name\"])\n",
    "game_popularity = game_popularity.groupby(\"items\").count()\n",
    "print(game_popularity.sort_values(\"user_id\"))"
   ]
  },
  {
   "cell_type": "code",
   "execution_count": 7,
   "metadata": {},
   "outputs": [
    {
     "name": "stdout",
     "output_type": "stream",
     "text": [
      "(32135, 16)\n"
     ]
    }
   ],
   "source": [
    "print(steam_games.shape)"
   ]
  },
  {
   "cell_type": "markdown",
   "metadata": {},
   "source": [
    "Analysing the tags in our data"
   ]
  },
  {
   "cell_type": "code",
   "execution_count": 8,
   "metadata": {},
   "outputs": [
    {
     "name": "stdout",
     "output_type": "stream",
     "text": [
      "{'Massively Multiplayer', 'Adventure', 'Audio Production', 'Indie', 'Action', 'Sports', 'Accounting', 'Strategy', 'Free to Play', 'RPG', 'Early Access', 'Web Publishing', 'Simulation', 'Utilities', 'Software Training', 'Design &amp; Illustration', 'Casual', 'Racing', 'Photo Editing', 'Education', 'Animation &amp; Modeling', 'Video Production'} \n",
      "\n",
      "{\"Beat 'em up\", 'Isometric', 'Economy', 'Supernatural', 'Psychological Horror', 'Third Person', 'Superhero', 'Adventure', 'Turn-Based Tactics', 'Mod', 'Split Screen', 'RPG', 'Sandbox', 'Ninja', 'Soccer', 'Mars', 'Bullet Time', 'GameMaker', 'Batman', 'Perma Death', 'Replay Value', 'Abstract', 'Mythology', '3D Platformer', 'Gothic', 'Comedy', 'Golf', 'Space', 'Hand-drawn', 'Resource Management', 'Twin Stick Shooter', 'Gambling', 'Action', '4X', 'Web Publishing', 'Voxel', 'Robots', 'Military', 'Co-op Campaign', 'Illuminati', 'Heist', 'Nonlinear', 'Photo Editing', 'Tanks', 'Open World', 'Documentary', 'Dark', 'Music-Based Procedural Generation', 'Bullet Hell', 'Audio Production', 'Crime', 'Great Soundtrack', 'First-Person', \"1990's\", 'Nudity', 'Character Customization', '360 Video', 'Class-Based', 'Word Game', 'Artificial Intelligence', 'Naval', 'Mining', 'Pool', 'Dark Comedy', '3D Vision', 'Investigation', 'FMV', 'Trading Card Game', 'Top-Down Shooter', 'Stylized', 'Quick-Time Events', 'World War I', 'Diplomacy', 'Chess', 'Minimalist', 'Family Friendly', 'Voice Control', 'Procedural Generation', 'Detective', 'Pirates', 'On-Rails Shooter', 'Offroad', 'Psychological', 'Modern', 'Mystery Dungeon', 'Cyberpunk', 'Team-Based', 'Intentionally Awkward Controls', 'Clicker', 'Mouse only', 'Asynchronous Multiplayer', 'Programming', 'Drama', 'Fishing', 'Visual Novel', 'Agriculture', 'World War II', 'Villain Protagonist', 'Soundtrack', 'e-sports', 'Wrestling', 'Short', 'CRPG', 'Time Manipulation', 'Capitalism', 'Remake', 'God Game', 'Comic Book', 'RTS', 'Pixel Graphics', 'Runner', 'Mystery', 'Cold War', '2D', 'Pinball', 'Martial Arts', 'Aliens', 'Text-Based', 'Realistic', 'FPS', 'RPGMaker', 'Lore-Rich', 'Thriller', 'Destruction', 'Third-Person Shooter', 'MOBA', 'Local Co-Op', 'Hardware', 'Sports', 'Stealth', 'Strategy', 'Free to Play', 'Zombies', 'Touch-Friendly', '6DOF', 'Transhumanism', 'Sniper', 'Relaxing', 'Experimental', 'Local Multiplayer', 'Time Travel', 'Video Production', 'Platformer', 'Swordplay', 'Dragons', 'Female Protagonist', 'Music', 'Competitive', 'Cartoon', 'Hunting', 'Violent', 'Indie', 'Noir', 'Loot', 'Interactive Fiction', 'Conspiracy', 'Driving', 'Funny', 'Silent Protagonist', \"Shoot 'Em Up\", 'Dating Sim', 'Horror', 'Cinematic', 'Base Building', 'VR', 'Parkour', '2.5D', 'Action RPG', 'Political', 'JRPG', 'Assassin', 'Gore', 'Crowdfunded', 'Warhammer 40K', 'Underwater', 'Singleplayer', 'Rhythm', '1980s', 'Linear', 'Design & Illustration', 'Psychedelic', 'Space Sim', 'Movie', 'Grid-Based Movement', 'Episodic', 'Spectacle fighter', 'Early Access', 'Surreal', 'Conversation', 'Simulation', 'Grand Strategy', 'Sexual Content', 'Politics', 'Software Training', 'Hex Grid', 'Cult Classic', 'Online Co-Op', 'Choose Your Own Adventure', 'Score Attack', 'Gaming', 'Arena Shooter', 'Puzzle-Platformer', 'LEGO', 'Choices Matter', 'Moddable', 'Narration', 'Casual', 'Science', 'Tower Defense', 'Action-Adventure', 'Inventory Management', 'Party-Based RPG', 'Shooter', 'Experience', 'Tutorial', 'Building', 'Wargame', 'Controller', 'Software', 'Real Time Tactics', 'Anime', 'Parody', 'Lara Croft', 'Survival', 'Faith', 'Fighting', 'Story Rich', 'Multiplayer', 'Survival Horror', 'Philisophical', 'Cute', 'Multiple Endings', 'Level Editor', 'Real-Time', 'Point & Click', 'Feature Film', 'Dark Fantasy', '4 Player Local', 'Hacking', 'Sokoban', 'Turn-Based', 'Star Wars', 'Co-op', 'Cartoony', 'Spelling', 'Side Scroller', 'Horses', 'Education', 'Animation & Modeling', 'Sci-fi', 'Massively Multiplayer', 'Cycling', 'Otome', 'Board Game', 'Game Development', 'Kickstarter', 'Football', 'Metroidvania', 'Trading', 'Typing', 'Mature', 'Time Attack', 'Blood', 'Steam Machine', 'Card Game', 'Walking Simulator', 'Rogue-lite', 'Physics', 'Demons', 'Character Action Game', 'Werewolves', 'Tactical RPG', 'America', 'Dungeon Crawler', 'Exploration', 'Western', 'Puzzle', 'Racing', 'Match 3', 'Gun Customization', 'Difficult', 'Fantasy', 'Magic', 'City Builder', 'Trains', 'Romance', 'MMORPG', 'Lemmings', 'Medieval', 'Classic', 'Alternate History', 'Atmospheric', 'Colorful', 'Lovecraftian', 'Dinosaurs', 'Hack and Slash', 'Arcade', 'Rome', 'Mechs', 'Hidden Object', 'Turn-Based Combat', 'Games Workshop', 'Historical', 'Basketball', 'TrackIR', 'PvE', 'Based On A Novel', 'NSFW', 'Vampire', 'Sailing', 'Mini Golf', 'War', 'Futuristic', 'Top-Down', 'Management', 'Dark Humor', '2D Fighter', 'Post-apocalyptic', 'Rogue-like', 'Real-Time with Pause', 'Tactical', 'Underground', 'Strategy RPG', 'Bowling', 'Satire', 'Foreign', 'Dystopian', 'Turn-Based Strategy', 'Flight', 'Dynamic Narration', 'Utilities', 'PvP', 'Fast-Paced', 'Steampunk', 'Benchmark', 'Bikes', 'Retro', 'Memes', 'Crafting'} \n",
      "\n",
      "{'Steam Leaderboards', 'Mods (require HL2)', 'Oculus Rift', 'Room-Scale', 'Mods (require HL1)', 'Downloadable Content', 'Mods', 'Shared/Split Screen', 'Steam Workshop', 'Gamepad', 'Multi-player', 'Full controller support', 'Standing', 'Seated', 'Steam Turn Notifications', 'Local Co-op', 'Valve Anti-Cheat enabled', 'HTC Vive', 'MMO', 'Steam Trading Cards', 'Local Multi-Player', 'Tracked Motion Controllers', 'Steam Achievements', 'Single-player', 'Commentary available', 'Includes Source SDK', 'Windows Mixed Reality', 'SteamVR Collectibles', 'Online Multi-Player', 'Game demo', 'Captions available', 'Keyboard / Mouse', 'Cross-Platform Multiplayer', 'Stats', 'Co-op', 'Steam Cloud', 'Online Co-op', 'Includes level editor', 'Partial Controller Support', 'In-App Purchases'} \n",
      "\n",
      "{\"Beat 'em up\", 'Isometric', 'Economy', 'Supernatural', 'Psychological Horror', 'Third Person', 'Superhero', 'Adventure', 'Turn-Based Tactics', 'Mod', 'Split Screen', 'RPG', 'Sandbox', 'Ninja', 'Soccer', 'Mars', 'Bullet Time', 'GameMaker', 'Batman', 'Perma Death', 'Replay Value', 'Abstract', 'Mythology', 'Steam Achievements', '3D Platformer', 'Gothic', 'Comedy', 'Golf', 'Space', 'Hand-drawn', 'Resource Management', 'Twin Stick Shooter', 'Gambling', 'Action', '4X', 'Web Publishing', 'Voxel', 'Robots', 'Military', 'Co-op Campaign', 'Illuminati', 'Heist', 'Nonlinear', 'Photo Editing', 'Tanks', 'Open World', 'Documentary', 'Includes level editor', 'Dark', 'Music-Based Procedural Generation', 'Mods (require HL2)', 'Bullet Hell', 'Audio Production', 'Crime', 'Great Soundtrack', 'Accounting', 'First-Person', \"1990's\", 'Nudity', 'Character Customization', '360 Video', 'Class-Based', 'Seated', 'Word Game', 'Artificial Intelligence', 'Local Co-op', 'Naval', 'Mining', 'Pool', 'Dark Comedy', '3D Vision', 'Investigation', 'FMV', 'Includes Source SDK', 'Trading Card Game', 'Top-Down Shooter', 'Stylized', 'Quick-Time Events', 'World War I', 'Diplomacy', 'Chess', 'Minimalist', 'Family Friendly', 'Voice Control', 'Procedural Generation', 'Detective', 'Pirates', 'On-Rails Shooter', 'Offroad', 'Psychological', 'Modern', 'Mystery Dungeon', 'Cyberpunk', 'Keyboard / Mouse', 'Team-Based', 'Intentionally Awkward Controls', 'Clicker', 'Mouse only', 'Asynchronous Multiplayer', 'Programming', 'Drama', 'Fishing', 'Visual Novel', 'Agriculture', 'World War II', 'Oculus Rift', 'Villain Protagonist', 'Soundtrack', 'e-sports', 'Wrestling', 'Short', 'CRPG', 'Multi-player', 'Time Manipulation', 'Capitalism', 'Remake', 'God Game', 'Comic Book', 'RTS', 'Pixel Graphics', 'Runner', 'Mystery', 'Cold War', '2D', 'Pinball', 'Martial Arts', 'Aliens', 'Text-Based', 'Realistic', 'FPS', 'RPGMaker', 'Lore-Rich', 'Thriller', 'Destruction', 'SteamVR Collectibles', 'Third-Person Shooter', 'MOBA', 'Local Co-Op', 'Hardware', 'Sports', 'Stealth', 'Strategy', 'Free to Play', 'Zombies', 'Touch-Friendly', '6DOF', 'Cross-Platform Multiplayer', 'Transhumanism', 'Sniper', 'Relaxing', 'Experimental', 'Local Multiplayer', 'Time Travel', 'Video Production', 'Platformer', 'Swordplay', 'Dragons', 'Female Protagonist', 'Music', 'Competitive', 'Cartoon', 'Hunting', 'Violent', 'Indie', 'Noir', 'Loot', 'Downloadable Content', 'Steam Workshop', 'Interactive Fiction', 'Conspiracy', 'Driving', 'Funny', 'Silent Protagonist', \"Shoot 'Em Up\", 'Dating Sim', 'Horror', 'Cinematic', 'Base Building', 'VR', 'Parkour', '2.5D', 'Action RPG', 'Political', 'JRPG', 'Assassin', 'Gore', 'Crowdfunded', 'Online Multi-Player', 'Warhammer 40K', 'Underwater', 'Singleplayer', 'Rhythm', 'Steam Cloud', '1980s', 'Linear', 'Design & Illustration', 'Partial Controller Support', 'Psychedelic', 'Space Sim', 'Movie', 'Grid-Based Movement', 'Episodic', 'Spectacle fighter', 'Early Access', 'Surreal', 'Conversation', 'Simulation', 'Grand Strategy', 'Sexual Content', 'Software Training', 'Politics', 'Hex Grid', 'Cult Classic', 'Single-player', 'Online Co-Op', 'Choose Your Own Adventure', 'Score Attack', 'Gaming', 'Game demo', 'Arena Shooter', 'Stats', 'Puzzle-Platformer', 'LEGO', 'Choices Matter', 'Design &amp; Illustration', 'Moddable', 'Narration', 'Casual', 'Online Co-op', 'Science', 'Tower Defense', 'Action-Adventure', 'Inventory Management', 'Party-Based RPG', 'In-App Purchases', 'Shooter', 'Experience', 'Steam Leaderboards', 'Tutorial', 'Building', 'Wargame', 'Controller', 'Mods', 'Software', 'Real Time Tactics', 'Anime', 'Parody', 'Lara Croft', 'Survival', 'Faith', 'Fighting', 'Story Rich', 'Valve Anti-Cheat enabled', 'Multiplayer', 'Survival Horror', 'Philisophical', 'Local Multi-Player', 'Cute', 'Multiple Endings', 'Level Editor', 'Real-Time', 'Tracked Motion Controllers', 'Point & Click', 'Feature Film', 'Dark Fantasy', '4 Player Local', 'Hacking', 'Sokoban', 'Captions available', 'Turn-Based', 'Star Wars', 'Co-op', 'Cartoony', 'Spelling', 'Side Scroller', 'Horses', 'Education', 'Animation & Modeling', 'Sci-fi', 'Massively Multiplayer', 'Cycling', 'Room-Scale', 'Otome', 'Board Game', 'Mods (require HL1)', 'Game Development', 'Kickstarter', 'Gamepad', 'Football', 'Full controller support', 'Steam Turn Notifications', 'Metroidvania', 'MMO', 'HTC Vive', 'Steam Trading Cards', 'Trading', 'Typing', 'Mature', 'Commentary available', 'Time Attack', 'Blood', 'Steam Machine', 'Card Game', 'Walking Simulator', 'Windows Mixed Reality', 'Rogue-lite', 'Physics', 'Demons', 'Character Action Game', 'Werewolves', 'Tactical RPG', 'America', 'Dungeon Crawler', 'Exploration', 'Western', 'Puzzle', 'Racing', 'Match 3', 'Gun Customization', 'Difficult', 'Fantasy', 'Magic', 'City Builder', 'Trains', 'Romance', 'MMORPG', 'Lemmings', 'Medieval', 'Classic', 'Alternate History', 'Atmospheric', 'Colorful', 'Lovecraftian', 'Dinosaurs', 'Hack and Slash', 'Arcade', 'Rome', 'Mechs', 'Shared/Split Screen', 'Hidden Object', 'Turn-Based Combat', 'Games Workshop', 'Historical', 'Basketball', 'TrackIR', 'Standing', 'PvE', 'Based On A Novel', 'NSFW', 'Vampire', 'Sailing', 'Mini Golf', 'Animation &amp; Modeling', 'War', 'Futuristic', 'Top-Down', 'Management', 'Dark Humor', '2D Fighter', 'Post-apocalyptic', 'Rogue-like', 'Real-Time with Pause', 'Tactical', 'Underground', 'Strategy RPG', 'Bowling', 'Satire', 'Foreign', 'Dystopian', 'Turn-Based Strategy', 'Flight', 'Dynamic Narration', 'Utilities', 'PvP', 'Fast-Paced', 'Steampunk', 'Benchmark', 'Bikes', 'Retro', 'Memes', 'Crafting'} \n",
      "\n"
     ]
    }
   ],
   "source": [
    "game_tags = steam_games[[\"app_name\", \"genres\", \"tags\", \"specs\"]].copy()\n",
    "\n",
    "game_tags[\"genres\"] = game_tags[\"genres\"].fillna(\"\").apply(set)\n",
    "genre_set = set()\n",
    "for s in game_tags.genres.values:\n",
    "    genre_set.update(s)\n",
    "game_tags[\"tags\"] = game_tags[\"tags\"].fillna(\"\").apply(set)\n",
    "tags_set = set()\n",
    "for s in game_tags.tags.values:\n",
    "    tags_set.update(s)\n",
    "game_tags[\"specs\"] = game_tags[\"specs\"].fillna(\"\").apply(set)\n",
    "specs_set = set()\n",
    "for s in game_tags.specs.values:\n",
    "    specs_set.update(s)\n",
    "\n",
    "all_tags = set.union(genre_set, tags_set, specs_set)\n",
    "print(genre_set, \"\\n\")\n",
    "print(tags_set, \"\\n\")\n",
    "print(specs_set, \"\\n\")\n",
    "print(all_tags, \"\\n\")"
   ]
  },
  {
   "cell_type": "markdown",
   "metadata": {},
   "source": [
    "Checking tag frequency per game"
   ]
  },
  {
   "cell_type": "code",
   "execution_count": 9,
   "metadata": {},
   "outputs": [
    {
     "name": "stdout",
     "output_type": "stream",
     "text": [
      "Amount of tags: 342\n",
      "                                            app_name  #tag\n",
      "26972                                           Goro     0\n",
      "7854            Football Manager 2017 In-Game Editor     0\n",
      "30992                  Burn Zombie Burn!: Soundtrack     0\n",
      "865                             Dustforce Soundtrack     0\n",
      "31181  Total War: SHOGUN 2 - Sengoku Jidai Unit Pack     0\n",
      "...                                              ...   ...\n",
      "21131                               Wallpaper Engine    22\n",
      "22238                     EF-12: Fighting Game Maker    22\n",
      "26660                                       GameGuru    22\n",
      "2800                                      Miscreated    23\n",
      "14291                            - Occult preRaise -    24\n",
      "\n",
      "[32135 rows x 2 columns]\n"
     ]
    },
    {
     "data": {
      "image/png": "[encoded data removed]",
      "text/plain": [
       "<Figure size 432x288 with 1 Axes>"
      ]
     },
     "metadata": {
      "needs_background": "light"
     },
     "output_type": "display_data"
    }
   ],
   "source": [
    "print(\"Amount of tags:\", len(set.union(tags_set, genre_set)))\n",
    "\n",
    "game_tags[\"#tag\"] = game_tags.apply(lambda x: len(set.union(x.genres, x.tags)), axis=1)\n",
    "\n",
    "print(game_tags[[\"app_name\", \"#tag\"]].sort_values(\"#tag\"))\n",
    "tag_bin = [0, 1, 3, 5, 10, 25, 40]\n",
    "game_tags[\"binned_tags\"] = pd.cut(game_tags[\"#tag\"], tag_bin).apply(str)\n",
    "\n",
    "game_tags = game_tags.groupby(\"binned_tags\").count()\n",
    "\n",
    "x = game_tags[\"app_name\"].index.to_numpy()\n",
    "y = game_tags[\"app_name\"].to_numpy()   \n",
    "\n",
    "plt.bar(x, y, color=\"orange\")\n",
    "plt.xlabel(\"Amount of tags\")\n",
    "plt.ylabel(\"Amount of games\")\n",
    "plt.show()\n"
   ]
  },
  {
   "cell_type": "code",
   "execution_count": null,
   "metadata": {},
   "outputs": [],
   "source": [
    " "
   ]
  }
 ],
 "metadata": {
  "interpreter": {
   "hash": "9cd4d607d09f139598d14dd337305a88b08d69fdc0c33185f91e0af2ee72dd65"
  },
  "kernelspec": {
   "display_name": "Python 3.8.5 64-bit ('venv': venv)",
   "language": "python",
   "name": "python3"
  },
  "language_info": {
   "codemirror_mode": {
    "name": "ipython",
    "version": 3
   },
   "file_extension": ".py",
   "mimetype": "text/x-python",
   "name": "python",
   "nbconvert_exporter": "python",
   "pygments_lexer": "ipython3",
   "version": "3.8.5"
  },
  "orig_nbformat": 4
 },
 "nbformat": 4,
 "nbformat_minor": 2
}
