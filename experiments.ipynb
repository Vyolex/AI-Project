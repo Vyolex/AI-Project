{
 "cells": [
  {
   "cell_type": "code",
   "execution_count": 1,
   "metadata": {},
   "outputs": [],
   "source": [
    "from src.recommenders import ImprovedRecommender\n",
    "from sklearn.decomposition import TruncatedSVD\n",
    "import pandas as pd\n",
    "import numpy as np\n",
    "from os import cpu_count\n",
    "from multiprocessing import Pool\n",
    "from itertools import combinations"
   ]
  },
  {
   "cell_type": "code",
   "execution_count": 2,
   "metadata": {},
   "outputs": [],
   "source": [
    "qual_eval_folder = './evaluation'\n",
    "items_path = \"./data/games.pkl\"\n",
    "data_path = \"./data/interactions_splits_0\"\n",
    "reviews_path = \"./data/reviews.parquet\""
   ]
  },
  {
   "cell_type": "markdown",
   "metadata": {},
   "source": [
    "Let's test with different feedback weighting schemes!"
   ]
  },
  {
   "cell_type": "code",
   "execution_count": 4,
   "metadata": {},
   "outputs": [
    {
     "name": "stderr",
     "output_type": "stream",
     "text": [
      "5000it [01:26, 58.09it/s] \n",
      "5000it [00:53, 93.16it/s] \n"
     ]
    },
    {
     "name": "stdout",
     "output_type": "stream",
     "text": [
      "{'playtime': True, 'sentiment': 'rating', 'reviews': True} {'HR@10': 0.4228, 'nDCG@10': 0.06525763278935312, 'recall@10': 0.025397263021765485, 'ideal_recall@10': 0.4699721699630126, 'nRecall@10': 0.0587}\n"
     ]
    },
    {
     "name": "stderr",
     "output_type": "stream",
     "text": [
      "5000it [00:13, 361.46it/s]\n",
      "5000it [00:13, 361.76it/s]\n"
     ]
    },
    {
     "name": "stdout",
     "output_type": "stream",
     "text": [
      "{'playtime': True, 'sentiment': 'rating', 'reviews': False} {'HR@10': 0.4246, 'nDCG@10': 0.06547651359661667, 'recall@10': 0.025474629313172032, 'ideal_recall@10': 0.4699721699630126, 'nRecall@10': 0.05892000000000001}\n"
     ]
    },
    {
     "name": "stderr",
     "output_type": "stream",
     "text": [
      "5000it [00:14, 347.82it/s]\n",
      "5000it [00:13, 379.53it/s]\n"
     ]
    },
    {
     "name": "stdout",
     "output_type": "stream",
     "text": [
      "{'playtime': True, 'sentiment': 'n_reviews', 'reviews': True} {'HR@10': 0.4146, 'nDCG@10': 0.06433291614347755, 'recall@10': 0.024974584370984838, 'ideal_recall@10': 0.4699721699630126, 'nRecall@10': 0.05772000000000001}\n"
     ]
    },
    {
     "name": "stderr",
     "output_type": "stream",
     "text": [
      "5000it [00:13, 367.87it/s]\n",
      "5000it [00:13, 381.19it/s]\n"
     ]
    },
    {
     "name": "stdout",
     "output_type": "stream",
     "text": [
      "{'playtime': True, 'sentiment': 'n_reviews', 'reviews': False} {'HR@10': 0.4148, 'nDCG@10': 0.06441256600200916, 'recall@10': 0.024913667555266528, 'ideal_recall@10': 0.4699721699630126, 'nRecall@10': 0.0578}\n"
     ]
    },
    {
     "name": "stderr",
     "output_type": "stream",
     "text": [
      "5000it [00:15, 318.34it/s]\n",
      "5000it [00:12, 386.12it/s]\n"
     ]
    },
    {
     "name": "stdout",
     "output_type": "stream",
     "text": [
      "{'playtime': True, 'sentiment': 'mixed', 'reviews': True} {'HR@10': 0.413, 'nDCG@10': 0.06434687302818139, 'recall@10': 0.02484323566015497, 'ideal_recall@10': 0.4699721699630126, 'nRecall@10': 0.057479999999999996}\n"
     ]
    },
    {
     "name": "stderr",
     "output_type": "stream",
     "text": [
      "5000it [00:14, 336.49it/s]\n",
      "5000it [00:13, 383.01it/s]\n"
     ]
    },
    {
     "name": "stdout",
     "output_type": "stream",
     "text": [
      "{'playtime': True, 'sentiment': 'mixed', 'reviews': False} {'HR@10': 0.4132, 'nDCG@10': 0.06448905343819163, 'recall@10': 0.024869328961992117, 'ideal_recall@10': 0.4699721699630126, 'nRecall@10': 0.05765999999999999}\n"
     ]
    },
    {
     "name": "stderr",
     "output_type": "stream",
     "text": [
      "5000it [00:11, 425.17it/s]\n",
      "5000it [00:13, 373.71it/s]\n"
     ]
    },
    {
     "name": "stdout",
     "output_type": "stream",
     "text": [
      "{'playtime': True, 'sentiment': False, 'reviews': True} {'HR@10': 0.4228, 'nDCG@10': 0.06501409436726276, 'recall@10': 0.02547881659901774, 'ideal_recall@10': 0.4699721699630126, 'nRecall@10': 0.0587}\n"
     ]
    },
    {
     "name": "stderr",
     "output_type": "stream",
     "text": [
      "5000it [00:11, 439.99it/s]\n",
      "5000it [00:13, 371.45it/s]\n"
     ]
    },
    {
     "name": "stdout",
     "output_type": "stream",
     "text": [
      "{'playtime': True, 'sentiment': False, 'reviews': False} {'HR@10': 0.4224, 'nDCG@10': 0.06492164888148048, 'recall@10': 0.025425396248439064, 'ideal_recall@10': 0.4699721699630126, 'nRecall@10': 0.058620000000000005}\n"
     ]
    },
    {
     "name": "stderr",
     "output_type": "stream",
     "text": [
      "5000it [00:13, 368.19it/s]\n",
      "5000it [00:12, 398.76it/s]\n"
     ]
    },
    {
     "name": "stdout",
     "output_type": "stream",
     "text": [
      "{'playtime': False, 'sentiment': 'rating', 'reviews': True} {'HR@10': 0.4594, 'nDCG@10': 0.06752108300078562, 'recall@10': 0.02905673362489305, 'ideal_recall@10': 0.4699721699630126, 'nRecall@10': 0.06522}\n"
     ]
    },
    {
     "name": "stderr",
     "output_type": "stream",
     "text": [
      "5000it [00:12, 388.93it/s]\n",
      "5000it [00:13, 359.58it/s]\n"
     ]
    },
    {
     "name": "stdout",
     "output_type": "stream",
     "text": [
      "{'playtime': False, 'sentiment': 'rating', 'reviews': False} {'HR@10': 0.459, 'nDCG@10': 0.06741732313561816, 'recall@10': 0.029033907222324944, 'ideal_recall@10': 0.4699721699630126, 'nRecall@10': 0.06516}\n"
     ]
    },
    {
     "name": "stderr",
     "output_type": "stream",
     "text": [
      "5000it [00:13, 367.01it/s]\n",
      "5000it [00:12, 403.24it/s]\n"
     ]
    },
    {
     "name": "stdout",
     "output_type": "stream",
     "text": [
      "{'playtime': False, 'sentiment': 'n_reviews', 'reviews': True} {'HR@10': 0.4476, 'nDCG@10': 0.06641093911803564, 'recall@10': 0.028283457764622336, 'ideal_recall@10': 0.4699721699630126, 'nRecall@10': 0.06412000000000001}\n"
     ]
    },
    {
     "name": "stderr",
     "output_type": "stream",
     "text": [
      "5000it [00:13, 383.27it/s]\n",
      "5000it [00:12, 396.98it/s]\n"
     ]
    },
    {
     "name": "stdout",
     "output_type": "stream",
     "text": [
      "{'playtime': False, 'sentiment': 'n_reviews', 'reviews': False} {'HR@10': 0.4474, 'nDCG@10': 0.0663779666088508, 'recall@10': 0.028280045829780814, 'ideal_recall@10': 0.4699721699630126, 'nRecall@10': 0.06402}\n"
     ]
    },
    {
     "name": "stderr",
     "output_type": "stream",
     "text": [
      "5000it [00:14, 333.66it/s]\n",
      "5000it [00:12, 398.33it/s]\n"
     ]
    },
    {
     "name": "stdout",
     "output_type": "stream",
     "text": [
      "{'playtime': False, 'sentiment': 'mixed', 'reviews': True} {'HR@10': 0.4396, 'nDCG@10': 0.064989499818802, 'recall@10': 0.027634718104137767, 'ideal_recall@10': 0.4699721699630126, 'nRecall@10': 0.062340000000000007}\n"
     ]
    },
    {
     "name": "stderr",
     "output_type": "stream",
     "text": [
      "5000it [00:14, 349.76it/s]\n",
      "5000it [00:12, 402.03it/s]\n",
      "c:\\Users\\Sam\\Documents\\GitHub\\AI-Project\\src\\recommenders.py:349: RuntimeWarning: Both playtime and sentiment in weighting were set to 'False', using playtime.\n",
      "  warnings.warn(\"Both playtime and sentiment in weighting were set to 'False', using playtime.\", RuntimeWarning)\n"
     ]
    },
    {
     "name": "stdout",
     "output_type": "stream",
     "text": [
      "{'playtime': False, 'sentiment': 'mixed', 'reviews': False} {'HR@10': 0.4386, 'nDCG@10': 0.06486798234747371, 'recall@10': 0.02760598326408653, 'ideal_recall@10': 0.4699721699630126, 'nRecall@10': 0.0622}\n"
     ]
    },
    {
     "name": "stderr",
     "output_type": "stream",
     "text": [
      "5000it [00:11, 453.91it/s]\n",
      "5000it [00:14, 355.00it/s]\n",
      "c:\\Users\\Sam\\Documents\\GitHub\\AI-Project\\src\\recommenders.py:349: RuntimeWarning: Both playtime and sentiment in weighting were set to 'False', using playtime.\n",
      "  warnings.warn(\"Both playtime and sentiment in weighting were set to 'False', using playtime.\", RuntimeWarning)\n"
     ]
    },
    {
     "name": "stdout",
     "output_type": "stream",
     "text": [
      "{'playtime': False, 'sentiment': False, 'reviews': True} {'HR@10': 0.4526, 'nDCG@10': 0.067024408265796, 'recall@10': 0.02869035591269122, 'ideal_recall@10': 0.4699721699630126, 'nRecall@10': 0.06472}\n"
     ]
    },
    {
     "name": "stderr",
     "output_type": "stream",
     "text": [
      "5000it [00:05, 921.54it/s] \n",
      "5000it [00:12, 404.65it/s]\n"
     ]
    },
    {
     "name": "stdout",
     "output_type": "stream",
     "text": [
      "{'playtime': False, 'sentiment': False, 'reviews': False} {'HR@10': 0.4526, 'nDCG@10': 0.06702896196379031, 'recall@10': 0.028736864193779417, 'ideal_recall@10': 0.4699721699630126, 'nRecall@10': 0.06477999999999999}\n"
     ]
    }
   ],
   "source": [
    "weighting_schemes = [{'playtime': playtime, 'sentiment': sentiment, 'reviews': reviews} for playtime in [True, False] for sentiment in ['rating', 'n_reviews', 'mixed', False] for reviews in [True, False]]\n",
    "def test_weighting_scheme(rec, weighting_scheme):\n",
    "    rec.set_weighting_scheme(weighting_scheme)\n",
    "    rec.generate_recommendations(read_max=5000)\n",
    "    return rec.evaluate(k=10)\n",
    "\n",
    "results = []\n",
    "rec = ImprovedRecommender(items_path, train_path=f\"{data_path}_train.parquet\", test_path=f\"{data_path}_test.parquet\", val_path=f\"{data_path}_val.parquet\", reviews_path=reviews_path, sparse=True, tfidf='smooth', normalize=True)\n",
    "for weighting_scheme in weighting_schemes:\n",
    "    results.append(test_weighting_scheme(rec, weighting_scheme))\n",
    "    print(weighting_scheme, results[-1])\n",
    "\n",
    "# with Pool(min(cpu_count(), len(weighting_schemes))) as pool:\n",
    "#     results = [pool.apply_async(test_weighting_scheme, args=(rec, weighting_scheme)) for rec, weighting_scheme in zip(recommenders, weighting_schemes)]\n",
    "#     output = [p.get() for p in results]\n",
    "# print(output)"
   ]
  },
  {
   "cell_type": "markdown",
   "metadata": {},
   "source": [
    "Let's test with different item representations!"
   ]
  },
  {
   "cell_type": "code",
   "execution_count": 3,
   "metadata": {},
   "outputs": [
    {
     "name": "stderr",
     "output_type": "stream",
     "text": [
      "5000it [00:06, 787.57it/s]\n",
      "5000it [00:08, 565.56it/s]\n"
     ]
    },
    {
     "name": "stdout",
     "output_type": "stream",
     "text": [
      "['specs', 'tags'] {'HR@10': 0.309, 'nDCG@10': 0.04094662721562541, 'recall@10': 0.017715405717546814, 'ideal_recall@10': 0.4699721699630126, 'nRecall@10': 0.03914}\n"
     ]
    },
    {
     "name": "stderr",
     "output_type": "stream",
     "text": [
      "5000it [00:05, 862.35it/s]\n",
      "5000it [00:08, 561.98it/s]\n"
     ]
    },
    {
     "name": "stdout",
     "output_type": "stream",
     "text": [
      "['genres', 'tags'] {'HR@10': 0.3428, 'nDCG@10': 0.04634751899335783, 'recall@10': 0.019729126344620228, 'ideal_recall@10': 0.4699721699630126, 'nRecall@10': 0.044539999999999996}\n"
     ]
    },
    {
     "name": "stderr",
     "output_type": "stream",
     "text": [
      "5000it [00:06, 820.75it/s]\n",
      "5000it [00:08, 573.09it/s]\n"
     ]
    },
    {
     "name": "stdout",
     "output_type": "stream",
     "text": [
      "['early_access', 'tags'] {'HR@10': 0.3436, 'nDCG@10': 0.046500935890082924, 'recall@10': 0.01980901593952294, 'ideal_recall@10': 0.4699721699630126, 'nRecall@10': 0.044680000000000004}\n"
     ]
    },
    {
     "name": "stderr",
     "output_type": "stream",
     "text": [
      "5000it [00:13, 357.43it/s]\n",
      "5000it [00:12, 387.01it/s]\n"
     ]
    },
    {
     "name": "stdout",
     "output_type": "stream",
     "text": [
      "['publisher', 'tags'] {'HR@10': 0.4592, 'nDCG@10': 0.06748203912424554, 'recall@10': 0.02906467563520881, 'ideal_recall@10': 0.4699721699630126, 'nRecall@10': 0.06522}\n"
     ]
    },
    {
     "name": "stderr",
     "output_type": "stream",
     "text": [
      "5000it [00:17, 291.08it/s]\n",
      "5000it [00:15, 321.75it/s]\n"
     ]
    },
    {
     "name": "stdout",
     "output_type": "stream",
     "text": [
      "['developer', 'tags'] {'HR@10': 0.4282, 'nDCG@10': 0.06136583235796836, 'recall@10': 0.026274798232705173, 'ideal_recall@10': 0.4699721699630126, 'nRecall@10': 0.0592}\n"
     ]
    },
    {
     "name": "stderr",
     "output_type": "stream",
     "text": [
      "5000it [00:05, 848.21it/s]\n",
      "5000it [00:09, 546.66it/s]\n"
     ]
    },
    {
     "name": "stdout",
     "output_type": "stream",
     "text": [
      "['specs', 'genres', 'tags'] {'HR@10': 0.309, 'nDCG@10': 0.040788483214338624, 'recall@10': 0.01768605277374265, 'ideal_recall@10': 0.4699721699630126, 'nRecall@10': 0.039060000000000004}\n"
     ]
    },
    {
     "name": "stderr",
     "output_type": "stream",
     "text": [
      "5000it [00:05, 858.63it/s]\n",
      "5000it [00:08, 569.42it/s]\n"
     ]
    },
    {
     "name": "stdout",
     "output_type": "stream",
     "text": [
      "['specs', 'early_access', 'tags'] {'HR@10': 0.309, 'nDCG@10': 0.04094662721562541, 'recall@10': 0.017715405717546814, 'ideal_recall@10': 0.4699721699630126, 'nRecall@10': 0.03914}\n"
     ]
    },
    {
     "name": "stderr",
     "output_type": "stream",
     "text": [
      "5000it [00:14, 354.30it/s]\n",
      "5000it [00:13, 371.99it/s]\n"
     ]
    },
    {
     "name": "stdout",
     "output_type": "stream",
     "text": [
      "['specs', 'publisher', 'tags'] {'HR@10': 0.4268, 'nDCG@10': 0.06336434736017775, 'recall@10': 0.027376935113022683, 'ideal_recall@10': 0.4699721699630126, 'nRecall@10': 0.06092}\n"
     ]
    },
    {
     "name": "stderr",
     "output_type": "stream",
     "text": [
      "5000it [00:17, 289.00it/s]\n",
      "5000it [00:13, 368.33it/s]\n"
     ]
    },
    {
     "name": "stdout",
     "output_type": "stream",
     "text": [
      "['specs', 'developer', 'tags'] {'HR@10': 0.416, 'nDCG@10': 0.05970577433521203, 'recall@10': 0.026099705705419467, 'ideal_recall@10': 0.4699721699630126, 'nRecall@10': 0.05852}\n"
     ]
    },
    {
     "name": "stderr",
     "output_type": "stream",
     "text": [
      "5000it [00:06, 751.76it/s]\n",
      "5000it [00:09, 536.08it/s]\n"
     ]
    },
    {
     "name": "stdout",
     "output_type": "stream",
     "text": [
      "['genres', 'early_access', 'tags'] {'HR@10': 0.3428, 'nDCG@10': 0.04634751899335783, 'recall@10': 0.019729126344620228, 'ideal_recall@10': 0.4699721699630126, 'nRecall@10': 0.044539999999999996}\n"
     ]
    },
    {
     "name": "stderr",
     "output_type": "stream",
     "text": [
      "5000it [00:13, 365.17it/s]\n",
      "5000it [00:13, 376.23it/s]\n"
     ]
    },
    {
     "name": "stdout",
     "output_type": "stream",
     "text": [
      "['genres', 'publisher', 'tags'] {'HR@10': 0.4594, 'nDCG@10': 0.06752108300078562, 'recall@10': 0.02905673362489305, 'ideal_recall@10': 0.4699721699630126, 'nRecall@10': 0.06522}\n"
     ]
    },
    {
     "name": "stderr",
     "output_type": "stream",
     "text": [
      "5000it [00:16, 297.94it/s]\n",
      "5000it [00:12, 386.55it/s]\n"
     ]
    },
    {
     "name": "stdout",
     "output_type": "stream",
     "text": [
      "['genres', 'developer', 'tags'] {'HR@10': 0.4278, 'nDCG@10': 0.06129544153579215, 'recall@10': 0.026271339412018768, 'ideal_recall@10': 0.4699721699630126, 'nRecall@10': 0.059160000000000004}\n"
     ]
    },
    {
     "name": "stderr",
     "output_type": "stream",
     "text": [
      "5000it [00:13, 363.66it/s]\n",
      "5000it [00:13, 375.86it/s]\n"
     ]
    },
    {
     "name": "stdout",
     "output_type": "stream",
     "text": [
      "['early_access', 'publisher', 'tags'] {'HR@10': 0.4592, 'nDCG@10': 0.06748203912424554, 'recall@10': 0.02906467563520881, 'ideal_recall@10': 0.4699721699630126, 'nRecall@10': 0.06522}\n"
     ]
    },
    {
     "name": "stderr",
     "output_type": "stream",
     "text": [
      "5000it [00:16, 298.96it/s]\n",
      "5000it [00:12, 386.34it/s]\n"
     ]
    },
    {
     "name": "stdout",
     "output_type": "stream",
     "text": [
      "['early_access', 'developer', 'tags'] {'HR@10': 0.4282, 'nDCG@10': 0.06136583235796836, 'recall@10': 0.026274798232705173, 'ideal_recall@10': 0.4699721699630126, 'nRecall@10': 0.0592}\n"
     ]
    },
    {
     "name": "stderr",
     "output_type": "stream",
     "text": [
      "5000it [00:18, 275.94it/s]\n",
      "5000it [00:13, 384.15it/s]\n"
     ]
    },
    {
     "name": "stdout",
     "output_type": "stream",
     "text": [
      "['publisher', 'developer', 'tags'] {'HR@10': 0.4254, 'nDCG@10': 0.06296845053118279, 'recall@10': 0.02633339523668418, 'ideal_recall@10': 0.4699721699630126, 'nRecall@10': 0.05826}\n"
     ]
    },
    {
     "name": "stderr",
     "output_type": "stream",
     "text": [
      "5000it [00:05, 846.58it/s]\n",
      "5000it [00:09, 554.54it/s]\n"
     ]
    },
    {
     "name": "stdout",
     "output_type": "stream",
     "text": [
      "['specs', 'genres', 'early_access', 'tags'] {'HR@10': 0.309, 'nDCG@10': 0.040788483214338624, 'recall@10': 0.01768605277374265, 'ideal_recall@10': 0.4699721699630126, 'nRecall@10': 0.039060000000000004}\n"
     ]
    },
    {
     "name": "stderr",
     "output_type": "stream",
     "text": [
      "5000it [00:13, 364.04it/s]\n",
      "5000it [00:13, 376.01it/s]\n"
     ]
    },
    {
     "name": "stdout",
     "output_type": "stream",
     "text": [
      "['specs', 'genres', 'publisher', 'tags'] {'HR@10': 0.4262, 'nDCG@10': 0.06332852264536883, 'recall@10': 0.027367798797674675, 'ideal_recall@10': 0.4699721699630126, 'nRecall@10': 0.06094}\n"
     ]
    },
    {
     "name": "stderr",
     "output_type": "stream",
     "text": [
      "5000it [00:16, 296.61it/s]\n",
      "5000it [00:13, 372.36it/s]\n"
     ]
    },
    {
     "name": "stdout",
     "output_type": "stream",
     "text": [
      "['specs', 'genres', 'developer', 'tags'] {'HR@10': 0.4152, 'nDCG@10': 0.05963383974625492, 'recall@10': 0.026029754258173898, 'ideal_recall@10': 0.4699721699630126, 'nRecall@10': 0.05836}\n"
     ]
    },
    {
     "name": "stderr",
     "output_type": "stream",
     "text": [
      "5000it [00:13, 363.89it/s]\n",
      "5000it [00:13, 372.61it/s]\n"
     ]
    },
    {
     "name": "stdout",
     "output_type": "stream",
     "text": [
      "['specs', 'early_access', 'publisher', 'tags'] {'HR@10': 0.4268, 'nDCG@10': 0.06336434736017775, 'recall@10': 0.027376935113022683, 'ideal_recall@10': 0.4699721699630126, 'nRecall@10': 0.06092}\n"
     ]
    },
    {
     "name": "stderr",
     "output_type": "stream",
     "text": [
      "5000it [00:16, 296.91it/s]\n",
      "5000it [00:14, 341.68it/s]\n"
     ]
    },
    {
     "name": "stdout",
     "output_type": "stream",
     "text": [
      "['specs', 'early_access', 'developer', 'tags'] {'HR@10': 0.416, 'nDCG@10': 0.05970577433521203, 'recall@10': 0.026099705705419467, 'ideal_recall@10': 0.4699721699630126, 'nRecall@10': 0.05852}\n"
     ]
    },
    {
     "name": "stderr",
     "output_type": "stream",
     "text": [
      "5000it [00:18, 270.13it/s]\n",
      "5000it [00:13, 380.78it/s]\n"
     ]
    },
    {
     "name": "stdout",
     "output_type": "stream",
     "text": [
      "['specs', 'publisher', 'developer', 'tags'] {'HR@10': 0.3968, 'nDCG@10': 0.05787749375762469, 'recall@10': 0.02531945511939424, 'ideal_recall@10': 0.4699721699630126, 'nRecall@10': 0.055479999999999995}\n"
     ]
    },
    {
     "name": "stderr",
     "output_type": "stream",
     "text": [
      "5000it [00:13, 363.20it/s]\n",
      "5000it [00:13, 375.09it/s]\n"
     ]
    },
    {
     "name": "stdout",
     "output_type": "stream",
     "text": [
      "['genres', 'early_access', 'publisher', 'tags'] {'HR@10': 0.4594, 'nDCG@10': 0.06752108300078562, 'recall@10': 0.02905673362489305, 'ideal_recall@10': 0.4699721699630126, 'nRecall@10': 0.06522}\n"
     ]
    },
    {
     "name": "stderr",
     "output_type": "stream",
     "text": [
      "5000it [00:16, 299.81it/s]\n",
      "5000it [00:12, 388.20it/s]\n"
     ]
    },
    {
     "name": "stdout",
     "output_type": "stream",
     "text": [
      "['genres', 'early_access', 'developer', 'tags'] {'HR@10': 0.4278, 'nDCG@10': 0.06129544153579215, 'recall@10': 0.026271339412018768, 'ideal_recall@10': 0.4699721699630126, 'nRecall@10': 0.059160000000000004}\n"
     ]
    },
    {
     "name": "stderr",
     "output_type": "stream",
     "text": [
      "5000it [00:18, 275.55it/s]\n",
      "5000it [00:13, 383.37it/s]\n"
     ]
    },
    {
     "name": "stdout",
     "output_type": "stream",
     "text": [
      "['genres', 'publisher', 'developer', 'tags'] {'HR@10': 0.4258, 'nDCG@10': 0.06288155134017938, 'recall@10': 0.026331649271175445, 'ideal_recall@10': 0.4699721699630126, 'nRecall@10': 0.05824000000000001}\n"
     ]
    },
    {
     "name": "stderr",
     "output_type": "stream",
     "text": [
      "5000it [00:18, 277.03it/s]\n",
      "5000it [00:13, 379.95it/s]\n"
     ]
    },
    {
     "name": "stdout",
     "output_type": "stream",
     "text": [
      "['early_access', 'publisher', 'developer', 'tags'] {'HR@10': 0.4254, 'nDCG@10': 0.06296845053118279, 'recall@10': 0.02633339523668418, 'ideal_recall@10': 0.4699721699630126, 'nRecall@10': 0.05826}\n"
     ]
    },
    {
     "name": "stderr",
     "output_type": "stream",
     "text": [
      "5000it [00:13, 365.24it/s]\n",
      "5000it [00:13, 375.13it/s]\n"
     ]
    },
    {
     "name": "stdout",
     "output_type": "stream",
     "text": [
      "['specs', 'genres', 'early_access', 'publisher', 'tags'] {'HR@10': 0.4262, 'nDCG@10': 0.06332852264536883, 'recall@10': 0.027367798797674675, 'ideal_recall@10': 0.4699721699630126, 'nRecall@10': 0.06094}\n"
     ]
    },
    {
     "name": "stderr",
     "output_type": "stream",
     "text": [
      "5000it [00:16, 296.72it/s]\n",
      "5000it [00:13, 370.18it/s]\n"
     ]
    },
    {
     "name": "stdout",
     "output_type": "stream",
     "text": [
      "['specs', 'genres', 'early_access', 'developer', 'tags'] {'HR@10': 0.4152, 'nDCG@10': 0.05963383974625492, 'recall@10': 0.026029754258173898, 'ideal_recall@10': 0.4699721699630126, 'nRecall@10': 0.05836}\n"
     ]
    },
    {
     "name": "stderr",
     "output_type": "stream",
     "text": [
      "5000it [00:18, 276.12it/s]\n",
      "5000it [00:13, 365.40it/s]\n"
     ]
    },
    {
     "name": "stdout",
     "output_type": "stream",
     "text": [
      "['specs', 'genres', 'publisher', 'developer', 'tags'] {'HR@10': 0.3972, 'nDCG@10': 0.05784383282336946, 'recall@10': 0.025311487133300805, 'ideal_recall@10': 0.4699721699630126, 'nRecall@10': 0.055439999999999996}\n"
     ]
    },
    {
     "name": "stderr",
     "output_type": "stream",
     "text": [
      "5000it [00:18, 276.20it/s]\n",
      "5000it [00:13, 368.62it/s]\n"
     ]
    },
    {
     "name": "stdout",
     "output_type": "stream",
     "text": [
      "['specs', 'early_access', 'publisher', 'developer', 'tags'] {'HR@10': 0.3968, 'nDCG@10': 0.05787749375762469, 'recall@10': 0.02531945511939424, 'ideal_recall@10': 0.4699721699630126, 'nRecall@10': 0.055479999999999995}\n"
     ]
    },
    {
     "name": "stderr",
     "output_type": "stream",
     "text": [
      "5000it [00:18, 276.57it/s]\n",
      "5000it [00:13, 384.50it/s]\n"
     ]
    },
    {
     "name": "stdout",
     "output_type": "stream",
     "text": [
      "['genres', 'early_access', 'publisher', 'developer', 'tags'] {'HR@10': 0.4258, 'nDCG@10': 0.06288155134017938, 'recall@10': 0.026331649271175445, 'ideal_recall@10': 0.4699721699630126, 'nRecall@10': 0.05824000000000001}\n"
     ]
    }
   ],
   "source": [
    "information = ['specs', 'genres', 'early_access', 'publisher', 'developer']\n",
    "def test_representation(columns):\n",
    "    rec = ImprovedRecommender(items_path, train_path=f\"{data_path}_train.parquet\", test_path=f\"{data_path}_test.parquet\", val_path=f\"{data_path}_val.parquet\", reviews_path=reviews_path, sparse=True, tfidf='smooth', normalize=True, columns=columns)\n",
    "    rec.generate_recommendations(read_max=5000)\n",
    "    return rec.evaluate(k=10)\n",
    "\n",
    "results = []\n",
    "representations = [map(list, combinations(information, r)) for r in range(1, len(information))]\n",
    "representations = [rep+['tags'] for sublist in representations for rep in sublist]\n",
    "for columns in representations:\n",
    "    results.append(test_representation(columns))\n",
    "    print(columns, results[-1])\n",
    "\n",
    "# with Pool(min(cpu_count(), len(weighting_schemes))) as pool:\n",
    "#     results = [pool.apply_async(test_weighting_scheme, args=(rec, weighting_scheme)) for rec, weighting_scheme in zip(recommenders, weighting_schemes)]\n",
    "#     output = [p.get() for p in results]\n",
    "# print(output)"
   ]
  }
 ],
 "metadata": {
  "interpreter": {
   "hash": "64dc3e748883430fd73e07c7431dac127012ab88bcfa4187114a89d6e3756f23"
  },
  "kernelspec": {
   "display_name": "Python 3.8.10 64-bit",
   "language": "python",
   "name": "python3"
  },
  "language_info": {
   "codemirror_mode": {
    "name": "ipython",
    "version": 3
   },
   "file_extension": ".py",
   "mimetype": "text/x-python",
   "name": "python",
   "nbconvert_exporter": "python",
   "pygments_lexer": "ipython3",
   "version": "3.8.10"
  },
  "orig_nbformat": 4
 },
 "nbformat": 4,
 "nbformat_minor": 2
}
