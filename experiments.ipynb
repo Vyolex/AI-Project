{
 "cells": [
  {
   "cell_type": "code",
   "execution_count": 1,
   "metadata": {},
   "outputs": [],
   "source": [
    "from src.recommenders import ImprovedRecommender\n",
    "from sklearn.decomposition import TruncatedSVD, PCA, IncrementalPCA, KernelPCA, SparsePCA\n",
    "import pandas as pd\n",
    "import numpy as np\n",
    "from os import cpu_count\n",
    "from multiprocessing import Pool\n",
    "from itertools import combinations\n",
    "import pickle"
   ]
  },
  {
   "cell_type": "code",
   "execution_count": 2,
   "metadata": {},
   "outputs": [],
   "source": [
    "qual_eval_folder = './evaluation'\n",
    "items_path = \"./data/games.pkl\"\n",
    "data_path = \"./data/interactions_splits_\"\n",
    "reviews_path = \"./data/reviews.parquet\""
   ]
  },
  {
   "cell_type": "code",
   "execution_count": 3,
   "metadata": {},
   "outputs": [],
   "source": [
    "def average_results(results):\n",
    "    average_dict = {}\n",
    "    for key in results[0]:\n",
    "        key_list = [result[key] for result in results]\n",
    "        average_dict[key] = sum(key_list)/len(key_list)\n",
    "    return average_dict\n"
   ]
  },
  {
   "cell_type": "code",
   "execution_count": 9,
   "metadata": {},
   "outputs": [
    {
     "name": "stderr",
     "output_type": "stream",
     "text": [
      "1000it [00:01, 619.28it/s]\n",
      "1000it [00:02, 391.61it/s]\n",
      "1000it [00:01, 608.11it/s]\n",
      "1000it [00:02, 394.59it/s]\n",
      "1000it [00:01, 602.65it/s]\n",
      "1000it [00:02, 391.95it/s]\n"
     ]
    },
    {
     "name": "stdout",
     "output_type": "stream",
     "text": [
      "{'HR@10': 0.28833333333333333, 'nDCG@10': 0.08141360603426297, 'recall@10': 0.10015726969805705, 'ideal_recall@10': 0.935365173648156, 'nRecall@10': 0.10452896825396825}\n"
     ]
    }
   ],
   "source": [
    "split_results = []\n",
    "for split in [data_path + str(i) for i in range(3)]:\n",
    "    rec = ImprovedRecommender(items_path, train_path=f\"{split}_train.parquet\", test_path=f\"{split}_test.parquet\", val_path=f\"{split}_val.parquet\", reviews_path=reviews_path, sparse=True, tfidf='smooth', normalize=True)\n",
    "    rec.generate_recommendations(read_max=1000)\n",
    "    split_results.append(rec.evaluate(k=10, val=True))\n",
    "\n",
    "with open('./evaluation/results.pickle', 'wb') as handle:\n",
    "    pickle.dump(average_results(split_results), handle, protocol=pickle.HIGHEST_PROTOCOL)\n",
    "print(average_results(split_results))"
   ]
  },
  {
   "cell_type": "markdown",
   "metadata": {},
   "source": [
    "Let's test with different item representations!"
   ]
  },
  {
   "cell_type": "code",
   "execution_count": 12,
   "metadata": {},
   "outputs": [
    {
     "name": "stderr",
     "output_type": "stream",
     "text": [
      "5000it [00:00, 8446.30it/s]\n",
      "5000it [00:10, 472.60it/s]\n",
      "5000it [00:00, 8531.39it/s]\n",
      "5000it [00:10, 474.53it/s]\n",
      "5000it [00:00, 7721.89it/s]\n",
      "5000it [00:10, 467.30it/s]\n"
     ]
    },
    {
     "name": "stdout",
     "output_type": "stream",
     "text": [
      "['specs', 'tags'] {'HR@10': 0.1902, 'nDCG@10': 0.051539207908820474, 'recall@10': 0.06717211479669648, 'ideal_recall@10': 0.9429034701783022, 'nRecall@10': 0.06939227513227514}\n"
     ]
    },
    {
     "name": "stderr",
     "output_type": "stream",
     "text": [
      "5000it [00:00, 8516.16it/s]\n",
      "5000it [00:09, 518.66it/s]\n",
      "5000it [00:00, 8410.25it/s]\n",
      "5000it [00:09, 521.11it/s]\n",
      "5000it [00:00, 8665.30it/s]\n",
      "5000it [00:09, 524.44it/s]\n"
     ]
    },
    {
     "name": "stdout",
     "output_type": "stream",
     "text": [
      "['genres', 'tags'] {'HR@10': 0.19013333333333335, 'nDCG@10': 0.04837447216211648, 'recall@10': 0.06477183772303335, 'ideal_recall@10': 0.9429034701783022, 'nRecall@10': 0.06733669312169312}\n"
     ]
    },
    {
     "name": "stderr",
     "output_type": "stream",
     "text": [
      "5000it [00:00, 8675.92it/s]\n",
      "5000it [00:09, 512.81it/s]\n",
      "5000it [00:00, 8757.40it/s]\n",
      "5000it [00:09, 507.66it/s]\n",
      "5000it [00:00, 8127.73it/s]\n",
      "5000it [00:10, 495.57it/s]\n"
     ]
    },
    {
     "name": "stdout",
     "output_type": "stream",
     "text": [
      "['early_access', 'tags'] {'HR@10': 0.19053333333333333, 'nDCG@10': 0.04850597681774197, 'recall@10': 0.06500904155128008, 'ideal_recall@10': 0.9429034701783022, 'nRecall@10': 0.06756915343915343}\n"
     ]
    },
    {
     "name": "stderr",
     "output_type": "stream",
     "text": [
      "5000it [00:01, 3238.20it/s]\n",
      "5000it [00:13, 374.62it/s]\n",
      "5000it [00:01, 3148.72it/s]\n",
      "5000it [00:12, 393.92it/s]\n",
      "5000it [00:01, 3215.19it/s]\n",
      "5000it [00:12, 393.09it/s]\n"
     ]
    },
    {
     "name": "stdout",
     "output_type": "stream",
     "text": [
      "['publisher', 'tags'] {'HR@10': 0.2614666666666667, 'nDCG@10': 0.07419843603846196, 'recall@10': 0.0944219852957892, 'ideal_recall@10': 0.9429034701783022, 'nRecall@10': 0.09824222222222223}\n"
     ]
    },
    {
     "name": "stderr",
     "output_type": "stream",
     "text": [
      "5000it [00:02, 2470.06it/s]\n",
      "5000it [00:12, 400.92it/s]\n",
      "5000it [00:02, 2469.48it/s]\n",
      "5000it [00:12, 390.10it/s]\n",
      "5000it [00:02, 2412.35it/s]\n",
      "5000it [00:12, 389.72it/s]\n"
     ]
    },
    {
     "name": "stdout",
     "output_type": "stream",
     "text": [
      "['developer', 'tags'] {'HR@10': 0.2484666666666667, 'nDCG@10': 0.06991308061813012, 'recall@10': 0.08976327941508815, 'ideal_recall@10': 0.9429034701783022, 'nRecall@10': 0.0932865873015873}\n"
     ]
    },
    {
     "name": "stderr",
     "output_type": "stream",
     "text": [
      "5000it [00:00, 8246.44it/s]\n",
      "5000it [00:10, 472.12it/s]\n",
      "5000it [00:00, 8235.60it/s]\n",
      "5000it [00:10, 475.89it/s]\n",
      "5000it [00:00, 7942.81it/s]\n",
      "5000it [00:11, 441.32it/s]\n"
     ]
    },
    {
     "name": "stdout",
     "output_type": "stream",
     "text": [
      "['specs', 'genres', 'tags'] {'HR@10': 0.19013333333333335, 'nDCG@10': 0.051512375330560335, 'recall@10': 0.06709598426997455, 'ideal_recall@10': 0.9429034701783022, 'nRecall@10': 0.06932291005291005}\n"
     ]
    },
    {
     "name": "stderr",
     "output_type": "stream",
     "text": [
      "5000it [00:00, 8264.45it/s]\n",
      "5000it [00:10, 472.08it/s]\n",
      "5000it [00:00, 8441.87it/s]\n",
      "5000it [00:10, 471.72it/s]\n",
      "5000it [00:00, 8385.41it/s]\n",
      "5000it [00:10, 478.96it/s]\n"
     ]
    },
    {
     "name": "stdout",
     "output_type": "stream",
     "text": [
      "['specs', 'early_access', 'tags'] {'HR@10': 0.1902, 'nDCG@10': 0.051539207908820474, 'recall@10': 0.06717211479669648, 'ideal_recall@10': 0.9429034701783022, 'nRecall@10': 0.06939227513227514}\n"
     ]
    },
    {
     "name": "stderr",
     "output_type": "stream",
     "text": [
      "5000it [00:01, 3126.66it/s]\n",
      "5000it [00:13, 372.61it/s]\n",
      "5000it [00:01, 3204.06it/s]\n",
      "5000it [00:13, 377.57it/s]\n",
      "5000it [00:01, 3172.88it/s]\n",
      "5000it [00:13, 362.35it/s]\n"
     ]
    },
    {
     "name": "stdout",
     "output_type": "stream",
     "text": [
      "['specs', 'publisher', 'tags'] {'HR@10': 0.26313333333333333, 'nDCG@10': 0.07651871451299042, 'recall@10': 0.09571626259231343, 'ideal_recall@10': 0.9429034701783022, 'nRecall@10': 0.09928719576719576}\n"
     ]
    },
    {
     "name": "stderr",
     "output_type": "stream",
     "text": [
      "5000it [00:02, 2450.83it/s]\n",
      "5000it [00:13, 361.73it/s]\n",
      "5000it [00:02, 2364.78it/s]\n",
      "5000it [00:13, 366.94it/s]\n",
      "5000it [00:02, 2424.01it/s]\n",
      "5000it [00:14, 355.39it/s]\n"
     ]
    },
    {
     "name": "stdout",
     "output_type": "stream",
     "text": [
      "['specs', 'developer', 'tags'] {'HR@10': 0.25279999999999997, 'nDCG@10': 0.07369298590099534, 'recall@10': 0.09162933459030874, 'ideal_recall@10': 0.9429034701783022, 'nRecall@10': 0.09512396825396825}\n"
     ]
    },
    {
     "name": "stderr",
     "output_type": "stream",
     "text": [
      "5000it [00:00, 8582.96it/s]\n",
      "5000it [00:09, 515.76it/s]\n",
      "5000it [00:00, 8402.83it/s]\n",
      "5000it [00:09, 515.35it/s]\n",
      "5000it [00:00, 8625.39it/s]\n",
      "5000it [00:09, 502.72it/s]\n"
     ]
    },
    {
     "name": "stdout",
     "output_type": "stream",
     "text": [
      "['genres', 'early_access', 'tags'] {'HR@10': 0.19013333333333335, 'nDCG@10': 0.04837447216211648, 'recall@10': 0.06477183772303335, 'ideal_recall@10': 0.9429034701783022, 'nRecall@10': 0.06733669312169312}\n"
     ]
    },
    {
     "name": "stderr",
     "output_type": "stream",
     "text": [
      "5000it [00:01, 3235.87it/s]\n",
      "5000it [00:12, 391.71it/s]\n",
      "5000it [00:01, 3053.43it/s]\n",
      "5000it [00:12, 397.01it/s]\n",
      "5000it [00:01, 3092.27it/s]\n",
      "5000it [00:12, 386.27it/s]\n"
     ]
    },
    {
     "name": "stdout",
     "output_type": "stream",
     "text": [
      "['genres', 'publisher', 'tags'] {'HR@10': 0.26120000000000004, 'nDCG@10': 0.07417781192556498, 'recall@10': 0.094320090913855, 'ideal_recall@10': 0.9429034701783022, 'nRecall@10': 0.09813222222222222}\n"
     ]
    },
    {
     "name": "stderr",
     "output_type": "stream",
     "text": [
      "5000it [00:02, 2472.80it/s]\n",
      "5000it [00:12, 397.85it/s]\n",
      "5000it [00:02, 2443.52it/s]\n",
      "5000it [00:12, 393.88it/s]\n",
      "5000it [00:02, 2407.66it/s]\n",
      "5000it [00:12, 387.72it/s]\n"
     ]
    },
    {
     "name": "stdout",
     "output_type": "stream",
     "text": [
      "['genres', 'developer', 'tags'] {'HR@10': 0.24793333333333334, 'nDCG@10': 0.06985427355294115, 'recall@10': 0.08965999632030504, 'ideal_recall@10': 0.9429034701783022, 'nRecall@10': 0.09318949735449734}\n"
     ]
    },
    {
     "name": "stderr",
     "output_type": "stream",
     "text": [
      "5000it [00:01, 3159.24it/s]\n",
      "5000it [00:12, 392.94it/s]\n",
      "5000it [00:01, 3188.85it/s]\n",
      "5000it [00:12, 397.62it/s]\n",
      "5000it [00:01, 3137.64it/s]\n",
      "5000it [00:12, 392.00it/s]\n"
     ]
    },
    {
     "name": "stdout",
     "output_type": "stream",
     "text": [
      "['early_access', 'publisher', 'tags'] {'HR@10': 0.2614666666666667, 'nDCG@10': 0.07419843603846196, 'recall@10': 0.0944219852957892, 'ideal_recall@10': 0.9429034701783022, 'nRecall@10': 0.09824222222222223}\n"
     ]
    },
    {
     "name": "stderr",
     "output_type": "stream",
     "text": [
      "5000it [00:02, 2443.28it/s]\n",
      "5000it [00:12, 386.36it/s]\n",
      "5000it [00:02, 2465.74it/s]\n",
      "5000it [00:12, 389.74it/s]\n",
      "5000it [00:02, 2324.17it/s]\n",
      "5000it [00:13, 384.59it/s]\n"
     ]
    },
    {
     "name": "stdout",
     "output_type": "stream",
     "text": [
      "['early_access', 'developer', 'tags'] {'HR@10': 0.2484666666666667, 'nDCG@10': 0.06991308061813012, 'recall@10': 0.08976327941508815, 'ideal_recall@10': 0.9429034701783022, 'nRecall@10': 0.0932865873015873}\n"
     ]
    },
    {
     "name": "stderr",
     "output_type": "stream",
     "text": [
      "5000it [00:02, 2134.18it/s]\n",
      "5000it [00:13, 372.11it/s]\n",
      "5000it [00:02, 2140.26it/s]\n",
      "5000it [00:13, 383.15it/s]\n",
      "5000it [00:02, 2165.01it/s]\n",
      "5000it [00:13, 374.47it/s]\n"
     ]
    },
    {
     "name": "stdout",
     "output_type": "stream",
     "text": [
      "['publisher', 'developer', 'tags'] {'HR@10': 0.2594666666666667, 'nDCG@10': 0.07601606741859933, 'recall@10': 0.09694517402355, 'ideal_recall@10': 0.9429034701783022, 'nRecall@10': 0.10029952380952382}\n"
     ]
    },
    {
     "name": "stderr",
     "output_type": "stream",
     "text": [
      "5000it [00:00, 8221.29it/s]\n",
      "5000it [00:10, 476.53it/s]\n",
      "5000it [00:00, 8314.57it/s]\n",
      "5000it [00:10, 467.58it/s]\n",
      "5000it [00:00, 8223.52it/s]\n",
      "5000it [00:10, 467.84it/s]\n"
     ]
    },
    {
     "name": "stdout",
     "output_type": "stream",
     "text": [
      "['specs', 'genres', 'early_access', 'tags'] {'HR@10': 0.19013333333333335, 'nDCG@10': 0.051512375330560335, 'recall@10': 0.06709598426997455, 'ideal_recall@10': 0.9429034701783022, 'nRecall@10': 0.06932291005291005}\n"
     ]
    },
    {
     "name": "stderr",
     "output_type": "stream",
     "text": [
      "5000it [00:01, 3147.01it/s]\n",
      "5000it [00:13, 362.60it/s]\n",
      "5000it [00:01, 3078.46it/s]\n",
      "5000it [00:13, 365.61it/s]\n",
      "5000it [00:01, 3055.79it/s]\n",
      "5000it [00:13, 358.59it/s]\n"
     ]
    },
    {
     "name": "stdout",
     "output_type": "stream",
     "text": [
      "['specs', 'genres', 'publisher', 'tags'] {'HR@10': 0.2630666666666666, 'nDCG@10': 0.07650533060930705, 'recall@10': 0.09571198603553689, 'ideal_recall@10': 0.9429034701783022, 'nRecall@10': 0.09927878306878307}\n"
     ]
    },
    {
     "name": "stderr",
     "output_type": "stream",
     "text": [
      "5000it [00:02, 2336.47it/s]\n",
      "5000it [00:14, 355.91it/s]\n",
      "5000it [00:02, 2252.43it/s]\n",
      "5000it [00:13, 358.10it/s]\n",
      "5000it [00:02, 2454.53it/s]\n",
      "5000it [00:13, 364.31it/s]\n"
     ]
    },
    {
     "name": "stdout",
     "output_type": "stream",
     "text": [
      "['specs', 'genres', 'developer', 'tags'] {'HR@10': 0.25286666666666663, 'nDCG@10': 0.07365126912390114, 'recall@10': 0.09158171345928645, 'ideal_recall@10': 0.9429034701783022, 'nRecall@10': 0.09508650793650793}\n"
     ]
    },
    {
     "name": "stderr",
     "output_type": "stream",
     "text": [
      "5000it [00:01, 3112.44it/s]\n",
      "5000it [00:13, 364.38it/s]\n",
      "5000it [00:01, 3147.18it/s]\n",
      "5000it [00:13, 370.43it/s]\n",
      "5000it [00:01, 3140.68it/s]\n",
      "5000it [00:13, 360.59it/s]\n"
     ]
    },
    {
     "name": "stdout",
     "output_type": "stream",
     "text": [
      "['specs', 'early_access', 'publisher', 'tags'] {'HR@10': 0.26313333333333333, 'nDCG@10': 0.07651871451299042, 'recall@10': 0.09571626259231343, 'ideal_recall@10': 0.9429034701783022, 'nRecall@10': 0.09928719576719576}\n"
     ]
    },
    {
     "name": "stderr",
     "output_type": "stream",
     "text": [
      "5000it [00:02, 2400.17it/s]\n",
      "5000it [00:14, 355.94it/s]\n",
      "5000it [00:02, 2357.10it/s]\n",
      "5000it [00:13, 358.32it/s]\n",
      "5000it [00:02, 2381.58it/s]\n",
      "5000it [00:14, 357.09it/s]\n"
     ]
    },
    {
     "name": "stdout",
     "output_type": "stream",
     "text": [
      "['specs', 'early_access', 'developer', 'tags'] {'HR@10': 0.25279999999999997, 'nDCG@10': 0.07369298590099534, 'recall@10': 0.09162933459030874, 'ideal_recall@10': 0.9429034701783022, 'nRecall@10': 0.09512396825396825}\n"
     ]
    },
    {
     "name": "stderr",
     "output_type": "stream",
     "text": [
      "5000it [00:02, 2164.20it/s]\n",
      "5000it [00:14, 344.91it/s]\n",
      "5000it [00:02, 2158.60it/s]\n",
      "5000it [00:14, 341.06it/s]\n",
      "5000it [00:02, 2179.22it/s]\n",
      "5000it [00:14, 356.25it/s]\n"
     ]
    },
    {
     "name": "stdout",
     "output_type": "stream",
     "text": [
      "['specs', 'publisher', 'developer', 'tags'] {'HR@10': 0.26366666666666666, 'nDCG@10': 0.0792388269982653, 'recall@10': 0.09852182418310478, 'ideal_recall@10': 0.9429034701783022, 'nRecall@10': 0.1018154232804233}\n"
     ]
    },
    {
     "name": "stderr",
     "output_type": "stream",
     "text": [
      "5000it [00:01, 3151.97it/s]\n",
      "5000it [00:12, 394.82it/s]\n",
      "5000it [00:01, 3171.09it/s]\n",
      "5000it [00:12, 392.66it/s]\n",
      "5000it [00:01, 3140.57it/s]\n",
      "5000it [00:12, 394.65it/s]\n"
     ]
    },
    {
     "name": "stdout",
     "output_type": "stream",
     "text": [
      "['genres', 'early_access', 'publisher', 'tags'] {'HR@10': 0.26120000000000004, 'nDCG@10': 0.07417781192556498, 'recall@10': 0.094320090913855, 'ideal_recall@10': 0.9429034701783022, 'nRecall@10': 0.09813222222222222}\n"
     ]
    },
    {
     "name": "stderr",
     "output_type": "stream",
     "text": [
      "5000it [00:02, 2401.02it/s]\n",
      "5000it [00:12, 391.11it/s]\n",
      "5000it [00:02, 2439.21it/s]\n",
      "5000it [00:12, 387.98it/s]\n",
      "5000it [00:02, 2350.88it/s]\n",
      "5000it [00:13, 383.48it/s]\n"
     ]
    },
    {
     "name": "stdout",
     "output_type": "stream",
     "text": [
      "['genres', 'early_access', 'developer', 'tags'] {'HR@10': 0.24793333333333334, 'nDCG@10': 0.06985427355294115, 'recall@10': 0.08965999632030504, 'ideal_recall@10': 0.9429034701783022, 'nRecall@10': 0.09318949735449734}\n"
     ]
    },
    {
     "name": "stderr",
     "output_type": "stream",
     "text": [
      "5000it [00:02, 2179.56it/s]\n",
      "5000it [00:13, 378.84it/s]\n",
      "5000it [00:02, 2215.09it/s]\n",
      "5000it [00:12, 392.17it/s]\n",
      "5000it [00:02, 2215.62it/s]\n",
      "5000it [00:13, 374.54it/s]\n"
     ]
    },
    {
     "name": "stdout",
     "output_type": "stream",
     "text": [
      "['genres', 'publisher', 'developer', 'tags'] {'HR@10': 0.259, 'nDCG@10': 0.07588120370769746, 'recall@10': 0.09660555468863653, 'ideal_recall@10': 0.9429034701783022, 'nRecall@10': 0.09995698412698413}\n"
     ]
    },
    {
     "name": "stderr",
     "output_type": "stream",
     "text": [
      "5000it [00:02, 2155.40it/s]\n",
      "5000it [00:13, 371.63it/s]\n",
      "5000it [00:02, 2192.12it/s]\n",
      "5000it [00:13, 384.09it/s]\n",
      "5000it [00:02, 2190.60it/s]\n",
      "5000it [00:13, 384.37it/s]\n"
     ]
    },
    {
     "name": "stdout",
     "output_type": "stream",
     "text": [
      "['early_access', 'publisher', 'developer', 'tags'] {'HR@10': 0.2594666666666667, 'nDCG@10': 0.07601606741859933, 'recall@10': 0.09694517402355, 'ideal_recall@10': 0.9429034701783022, 'nRecall@10': 0.10029952380952382}\n"
     ]
    },
    {
     "name": "stderr",
     "output_type": "stream",
     "text": [
      "5000it [00:01, 3124.37it/s]\n",
      "5000it [00:13, 374.15it/s]\n",
      "5000it [00:01, 3122.54it/s]\n",
      "5000it [00:13, 374.98it/s]\n",
      "5000it [00:01, 3118.81it/s]\n",
      "5000it [00:13, 365.13it/s]\n"
     ]
    },
    {
     "name": "stdout",
     "output_type": "stream",
     "text": [
      "['specs', 'genres', 'early_access', 'publisher', 'tags'] {'HR@10': 0.2630666666666666, 'nDCG@10': 0.07650533060930705, 'recall@10': 0.09571198603553689, 'ideal_recall@10': 0.9429034701783022, 'nRecall@10': 0.09927878306878307}\n"
     ]
    },
    {
     "name": "stderr",
     "output_type": "stream",
     "text": [
      "5000it [00:02, 2272.72it/s]\n",
      "5000it [00:13, 357.65it/s]\n",
      "5000it [00:02, 2352.38it/s]\n",
      "5000it [00:13, 360.18it/s]\n",
      "5000it [00:02, 2412.98it/s]\n",
      "5000it [00:13, 363.06it/s]\n"
     ]
    },
    {
     "name": "stdout",
     "output_type": "stream",
     "text": [
      "['specs', 'genres', 'early_access', 'developer', 'tags'] {'HR@10': 0.25286666666666663, 'nDCG@10': 0.07365126912390114, 'recall@10': 0.09158171345928645, 'ideal_recall@10': 0.9429034701783022, 'nRecall@10': 0.09508650793650793}\n"
     ]
    },
    {
     "name": "stderr",
     "output_type": "stream",
     "text": [
      "5000it [00:02, 2100.06it/s]\n",
      "5000it [00:14, 351.00it/s]\n",
      "5000it [00:02, 2147.95it/s]\n",
      "5000it [00:14, 344.43it/s]\n",
      "5000it [00:02, 2121.04it/s]\n",
      "5000it [00:14, 340.63it/s]\n"
     ]
    },
    {
     "name": "stdout",
     "output_type": "stream",
     "text": [
      "['specs', 'genres', 'publisher', 'developer', 'tags'] {'HR@10': 0.26286666666666664, 'nDCG@10': 0.0790052078761835, 'recall@10': 0.09815592627909164, 'ideal_recall@10': 0.9429034701783022, 'nRecall@10': 0.10144746031746033}\n"
     ]
    },
    {
     "name": "stderr",
     "output_type": "stream",
     "text": [
      "5000it [00:02, 2154.34it/s]\n",
      "5000it [00:14, 350.59it/s]\n",
      "5000it [00:02, 2116.92it/s]\n",
      "5000it [00:14, 346.81it/s]\n",
      "5000it [00:02, 2114.54it/s]\n",
      "5000it [00:14, 343.76it/s]\n"
     ]
    },
    {
     "name": "stdout",
     "output_type": "stream",
     "text": [
      "['specs', 'early_access', 'publisher', 'developer', 'tags'] {'HR@10': 0.26366666666666666, 'nDCG@10': 0.0792388269982653, 'recall@10': 0.09852182418310478, 'ideal_recall@10': 0.9429034701783022, 'nRecall@10': 0.1018154232804233}\n"
     ]
    },
    {
     "name": "stderr",
     "output_type": "stream",
     "text": [
      "5000it [00:02, 2157.93it/s]\n",
      "5000it [00:13, 381.56it/s]\n",
      "5000it [00:02, 2210.30it/s]\n",
      "5000it [00:12, 390.10it/s]\n",
      "5000it [00:02, 2169.08it/s]\n",
      "5000it [00:13, 382.99it/s]\n"
     ]
    },
    {
     "name": "stdout",
     "output_type": "stream",
     "text": [
      "['genres', 'early_access', 'publisher', 'developer', 'tags'] {'HR@10': 0.259, 'nDCG@10': 0.07588120370769746, 'recall@10': 0.09660555468863653, 'ideal_recall@10': 0.9429034701783022, 'nRecall@10': 0.09995698412698413}\n"
     ]
    },
    {
     "name": "stderr",
     "output_type": "stream",
     "text": [
      "5000it [00:02, 2121.00it/s]\n",
      "5000it [00:14, 349.93it/s]\n",
      "5000it [00:02, 2077.72it/s]\n",
      "5000it [00:14, 349.85it/s]\n",
      "5000it [00:02, 2104.36it/s]\n",
      "5000it [00:14, 344.27it/s]\n"
     ]
    },
    {
     "name": "stdout",
     "output_type": "stream",
     "text": [
      "['specs', 'genres', 'early_access', 'publisher', 'developer', 'tags'] {'HR@10': 0.26286666666666664, 'nDCG@10': 0.0790052078761835, 'recall@10': 0.09815592627909164, 'ideal_recall@10': 0.9429034701783022, 'nRecall@10': 0.10144746031746033}\n"
     ]
    }
   ],
   "source": [
    "information = ['specs', 'genres', 'early_access', 'publisher', 'developer']\n",
    "def test_representation(columns, split):\n",
    "    rec = ImprovedRecommender(items_path, train_path=f\"{split}_train.parquet\", test_path=f\"{split}_test.parquet\", val_path=f\"{split}_val.parquet\", reviews_path=reviews_path, sparse=True, tfidf='smooth', normalize=True, columns=columns, weighting_scheme={})\n",
    "    rec.generate_recommendations(read_max=5000)\n",
    "    return rec.evaluate(k=10)\n",
    "\n",
    "results = []\n",
    "representations = [map(list, combinations(information, r)) for r in range(1, len(information)+1)]\n",
    "representations = [rep+['tags'] for sublist in representations for rep in sublist]\n",
    "for columns in representations:\n",
    "    split_results = []\n",
    "    for split in [data_path + str(i) for i in range(3)]:\n",
    "        split_results.append(test_representation(columns, split))\n",
    "    results.append(average_results(split_results))\n",
    "    print(columns, results[-1])\n",
    "\n",
    "with open('./evaluation/representations.pickle', 'wb') as handle:\n",
    "    pickle.dump(representations, handle, protocol=pickle.HIGHEST_PROTOCOL)\n",
    "\n",
    "with open('./evaluation/representations_results.pickle', 'wb') as handle:\n",
    "    pickle.dump(results, handle, protocol=pickle.HIGHEST_PROTOCOL)"
   ]
  },
  {
   "cell_type": "markdown",
   "metadata": {},
   "source": [
    "Lets test different weighting schemes! :-)"
   ]
  },
  {
   "cell_type": "code",
   "execution_count": 4,
   "metadata": {},
   "outputs": [
    {
     "name": "stdout",
     "output_type": "stream",
     "text": [
      "{'playtime': True, 'sentiment': 'rating', 'reviews': True} {'HR@10': 0.17933333333333334, 'nDCG@10': 0.0475884260251058, 'recall@10': 0.058465005786153414, 'ideal_recall@10': 0.9429034701783022, 'nRecall@10': 0.06174928571428571}\n",
      "{'playtime': True, 'sentiment': 'rating', 'reviews': False} {'HR@10': 0.17926666666666669, 'nDCG@10': 0.04753410167307553, 'recall@10': 0.05851466147328083, 'ideal_recall@10': 0.9429034701783022, 'nRecall@10': 0.061776984126984125}\n",
      "{'playtime': True, 'sentiment': 'n_reviews', 'reviews': True} {'HR@10': 0.1774, 'nDCG@10': 0.04757885825547136, 'recall@10': 0.05916118510745074, 'ideal_recall@10': 0.9429034701783022, 'nRecall@10': 0.06237457671957672}\n",
      "{'playtime': True, 'sentiment': 'n_reviews', 'reviews': False} {'HR@10': 0.1769333333333333, 'nDCG@10': 0.04765522202738313, 'recall@10': 0.059140959475475895, 'ideal_recall@10': 0.9429034701783022, 'nRecall@10': 0.0623126455026455}\n",
      "{'playtime': True, 'sentiment': 'mixed', 'reviews': True} {'HR@10': 0.1759333333333333, 'nDCG@10': 0.046984954496192506, 'recall@10': 0.058249989408539794, 'ideal_recall@10': 0.9429034701783022, 'nRecall@10': 0.061482248677248684}\n",
      "{'playtime': True, 'sentiment': 'mixed', 'reviews': False} {'HR@10': 0.17573333333333332, 'nDCG@10': 0.04705857140536829, 'recall@10': 0.058327982600926004, 'ideal_recall@10': 0.9429034701783022, 'nRecall@10': 0.061534206349206345}\n",
      "{'playtime': True, 'sentiment': False, 'reviews': True} {'HR@10': 0.18153333333333332, 'nDCG@10': 0.04817982550446447, 'recall@10': 0.06000949912923694, 'ideal_recall@10': 0.9429034701783022, 'nRecall@10': 0.06326211640211642}\n",
      "{'playtime': True, 'sentiment': False, 'reviews': False} {'HR@10': 0.18126666666666666, 'nDCG@10': 0.048060198986338704, 'recall@10': 0.059837880269480816, 'ideal_recall@10': 0.9429034701783022, 'nRecall@10': 0.06307277777777777}\n",
      "{'playtime': False, 'sentiment': 'rating', 'reviews': True} {'HR@10': 0.26099999999999995, 'nDCG@10': 0.07805217333678031, 'recall@10': 0.09673633852311216, 'ideal_recall@10': 0.9429034701783022, 'nRecall@10': 0.10001457671957671}\n",
      "{'playtime': False, 'sentiment': 'rating', 'reviews': False} {'HR@10': 0.261, 'nDCG@10': 0.0780821995002138, 'recall@10': 0.09678312204843866, 'ideal_recall@10': 0.9429034701783022, 'nRecall@10': 0.100055873015873}\n",
      "{'playtime': False, 'sentiment': 'n_reviews', 'reviews': True} {'HR@10': 0.25426666666666664, 'nDCG@10': 0.07587667084984767, 'recall@10': 0.09503123169852028, 'ideal_recall@10': 0.9429034701783022, 'nRecall@10': 0.0981907671957672}\n",
      "{'playtime': False, 'sentiment': 'n_reviews', 'reviews': False} {'HR@10': 0.25486666666666663, 'nDCG@10': 0.07598542608359711, 'recall@10': 0.09524486334491351, 'ideal_recall@10': 0.9429034701783022, 'nRecall@10': 0.098400291005291}\n",
      "{'playtime': False, 'sentiment': 'mixed', 'reviews': True} {'HR@10': 0.2488, 'nDCG@10': 0.07367831328195433, 'recall@10': 0.09216115613727398, 'ideal_recall@10': 0.9429034701783022, 'nRecall@10': 0.0952635714285714}\n",
      "{'playtime': False, 'sentiment': 'mixed', 'reviews': False} {'HR@10': 0.2492, 'nDCG@10': 0.07389927849156373, 'recall@10': 0.09253821660097854, 'ideal_recall@10': 0.9429034701783022, 'nRecall@10': 0.09563034391534392}\n"
     ]
    },
    {
     "name": "stderr",
     "output_type": "stream",
     "text": [
      "c:\\Users\\Sam\\Documents\\GitHub\\AI-Project\\src\\recommenders.py:348: RuntimeWarning: Both playtime and sentiment in weighting were set to 'False', using playtime.\n",
      "  warnings.warn(\"Both playtime and sentiment in weighting were set to 'False', using playtime.\", RuntimeWarning)\n",
      "c:\\Users\\Sam\\Documents\\GitHub\\AI-Project\\src\\recommenders.py:348: RuntimeWarning: Both playtime and sentiment in weighting were set to 'False', using playtime.\n",
      "  warnings.warn(\"Both playtime and sentiment in weighting were set to 'False', using playtime.\", RuntimeWarning)\n",
      "c:\\Users\\Sam\\Documents\\GitHub\\AI-Project\\src\\recommenders.py:348: RuntimeWarning: Both playtime and sentiment in weighting were set to 'False', using playtime.\n",
      "  warnings.warn(\"Both playtime and sentiment in weighting were set to 'False', using playtime.\", RuntimeWarning)\n"
     ]
    },
    {
     "name": "stdout",
     "output_type": "stream",
     "text": [
      "{'playtime': False, 'sentiment': False, 'reviews': True} {'HR@10': 0.264, 'nDCG@10': 0.07926497169109241, 'recall@10': 0.09857171213828686, 'ideal_recall@10': 0.9429034701783022, 'nRecall@10': 0.10187431216931216}\n"
     ]
    },
    {
     "name": "stderr",
     "output_type": "stream",
     "text": [
      "c:\\Users\\Sam\\Documents\\GitHub\\AI-Project\\src\\recommenders.py:348: RuntimeWarning: Both playtime and sentiment in weighting were set to 'False', using playtime.\n",
      "  warnings.warn(\"Both playtime and sentiment in weighting were set to 'False', using playtime.\", RuntimeWarning)\n",
      "c:\\Users\\Sam\\Documents\\GitHub\\AI-Project\\src\\recommenders.py:348: RuntimeWarning: Both playtime and sentiment in weighting were set to 'False', using playtime.\n",
      "  warnings.warn(\"Both playtime and sentiment in weighting were set to 'False', using playtime.\", RuntimeWarning)\n",
      "c:\\Users\\Sam\\Documents\\GitHub\\AI-Project\\src\\recommenders.py:348: RuntimeWarning: Both playtime and sentiment in weighting were set to 'False', using playtime.\n",
      "  warnings.warn(\"Both playtime and sentiment in weighting were set to 'False', using playtime.\", RuntimeWarning)\n"
     ]
    },
    {
     "name": "stdout",
     "output_type": "stream",
     "text": [
      "{'playtime': False, 'sentiment': False, 'reviews': False} {'HR@10': 0.26366666666666666, 'nDCG@10': 0.0792388269982653, 'recall@10': 0.09852182418310478, 'ideal_recall@10': 0.9429034701783022, 'nRecall@10': 0.1018154232804233}\n"
     ]
    }
   ],
   "source": [
    "weighting_schemes = [{'playtime': playtime, 'sentiment': sentiment, 'reviews': reviews} for playtime in [True, False] for sentiment in ['rating', 'n_reviews', 'mixed', False] for reviews in [True, False]]\n",
    "def test_weighting_scheme(rec, weighting_scheme):\n",
    "    rec.set_weighting_scheme(weighting_scheme)\n",
    "    rec.generate_recommendations(read_max=5000, silence=True)\n",
    "    return rec.evaluate(k=10)\n",
    "\n",
    "results = []\n",
    "recs = [ImprovedRecommender(items_path, train_path=f\"{split}_train.parquet\", test_path=f\"{split}_test.parquet\", val_path=f\"{split}_val.parquet\", reviews_path=reviews_path, sparse=True, tfidf='smooth', normalize=True) for split in [data_path + str(i) for i in range(3)]]\n",
    "for weighting_scheme in weighting_schemes:\n",
    "    split_results = []\n",
    "    for rec in recs:\n",
    "        split_results.append(test_weighting_scheme(rec, weighting_scheme))\n",
    "    results.append(average_results(split_results))\n",
    "    print(weighting_scheme, results[-1])\n",
    "    \n",
    "with open('./evaluation/weighting_schemes.pickle', 'wb') as handle:\n",
    "    pickle.dump(weighting_schemes, handle, protocol=pickle.HIGHEST_PROTOCOL)\n",
    "\n",
    "with open('./evaluation/weighting_schemes_results.pickle', 'wb') as handle:\n",
    "    pickle.dump(results, handle, protocol=pickle.HIGHEST_PROTOCOL)"
   ]
  },
  {
   "cell_type": "markdown",
   "metadata": {},
   "source": [
    "Finally, let's check out dimensionality reduction"
   ]
  },
  {
   "cell_type": "code",
   "execution_count": 4,
   "metadata": {},
   "outputs": [
    {
     "name": "stderr",
     "output_type": "stream",
     "text": [
      "5000it [00:00, 40143.87it/s]\n",
      "5000it [02:00, 41.33it/s]\n",
      "5000it [00:00, 34598.76it/s]\n",
      "5000it [02:10, 38.31it/s]\n",
      "5000it [00:00, 36323.63it/s]\n",
      "5000it [02:01, 41.21it/s]\n",
      "5000it [00:00, 32679.66it/s]\n",
      "5000it [01:52, 44.61it/s]\n",
      "5000it [00:00, 35696.63it/s]\n",
      "5000it [02:06, 39.65it/s]\n",
      "5000it [00:00, 33774.15it/s]\n",
      "5000it [01:52, 44.53it/s]\n",
      "5000it [00:00, 35954.40it/s]\n",
      "5000it [02:01, 41.25it/s]\n",
      "5000it [00:00, 30298.05it/s]\n",
      "5000it [02:01, 41.30it/s]\n",
      "5000it [00:00, 29749.96it/s]\n",
      "5000it [02:09, 38.74it/s]\n",
      "5000it [00:00, 26316.14it/s]\n",
      "5000it [02:09, 38.50it/s]\n",
      "5000it [00:00, 25895.40it/s]\n",
      "5000it [02:05, 39.77it/s]\n",
      "5000it [00:00, 23364.64it/s]\n",
      "5000it [02:18, 36.20it/s]\n"
     ]
    }
   ],
   "source": [
    "dim_reds = [TruncatedSVD(n_components=300, random_state=500), PCA(n_components=300, random_state=500, whiten=False), IncrementalPCA(n_components=300, whiten=False), KernelPCA(n_components=300)]\n",
    "labels = [\"TruncatedSVD(n_components=300)\", \"PCA(n_components=300)\", \"IncrementalPCA(n_components=300)\", \"KernelPCA(n_components=300)\"]\n",
    "# use_data = ['specs', 'genres', 'tags', 'early_access', 'publisher', 'developer']\n",
    "results = []\n",
    "for dim_red in dim_reds:\n",
    "    split_results = []\n",
    "    for split in [data_path + str(i) for i in range(3)]:\n",
    "        rec = ImprovedRecommender(items_path, train_path=f\"{split}_train.parquet\", test_path=f\"{split}_test.parquet\", val_path=f\"{split}_val.parquet\", reviews_path=reviews_path, sparse=False, tfidf='smooth', normalize=True, dim_red=dim_red)\n",
    "        rec.generate_recommendations(read_max=5000)\n",
    "        split_results.append(rec.evaluate(k=10))\n",
    "    results.append(average_results(split_results))\n",
    "    \n",
    "with open('./evaluation/dim_reduction.pickle', 'wb') as handle:\n",
    "    pickle.dump(labels, handle, protocol=pickle.HIGHEST_PROTOCOL)\n",
    "\n",
    "with open('./evaluation/dim_reduction_results.pickle', 'wb') as handle:\n",
    "    pickle.dump(results, handle, protocol=pickle.HIGHEST_PROTOCOL)"
   ]
  },
  {
   "cell_type": "code",
   "execution_count": null,
   "metadata": {},
   "outputs": [],
   "source": [
    "dim_red = SparsePCA(n_components=300, n_jobs=8)\n",
    "rec = ImprovedRecommender(items_path, train_path=f\"{data_path}_train.parquet\", test_path=f\"{data_path}_test.parquet\", val_path=f\"{data_path}_val.parquet\", reviews_path=reviews_path, sparse=False, tfidf='smooth', normalize=True, dim_red=dim_red)\n",
    "rec.generate_recommendations(read_max=1000) # read_max=1000\n",
    "rec.evaluate(k=10)"
   ]
  }
 ],
 "metadata": {
  "interpreter": {
   "hash": "64dc3e748883430fd73e07c7431dac127012ab88bcfa4187114a89d6e3756f23"
  },
  "kernelspec": {
   "display_name": "Python 3.8.10 64-bit",
   "language": "python",
   "name": "python3"
  },
  "language_info": {
   "codemirror_mode": {
    "name": "ipython",
    "version": 3
   },
   "file_extension": ".py",
   "mimetype": "text/x-python",
   "name": "python",
   "nbconvert_exporter": "python",
   "pygments_lexer": "ipython3",
   "version": "3.8.8"
  },
  "orig_nbformat": 4
 },
 "nbformat": 4,
 "nbformat_minor": 2
}
