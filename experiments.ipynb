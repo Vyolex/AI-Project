{
 "cells": [
  {
   "cell_type": "markdown",
   "metadata": {},
   "source": [
    "This file implements all hyper-parameter optimization experiments. We try to select the ideal item representation, weighting scheme and dimensionality reduction technique based on the results of all possible combinations.\n",
    "All results are saved to pickle files within the `evaluation` folder of the repository.\n",
    "For visualizations of these results, we refer to `visualizations.ipynb`."
   ]
  },
  {
   "cell_type": "code",
   "execution_count": 5,
   "metadata": {},
   "outputs": [],
   "source": [
    "from src.recommenders import ImprovedRecommender\n",
    "from sklearn.decomposition import TruncatedSVD, PCA, IncrementalPCA, KernelPCA, SparsePCA\n",
    "import pandas as pd\n",
    "import numpy as np\n",
    "from os import cpu_count\n",
    "from multiprocessing import Pool\n",
    "from itertools import combinations\n",
    "import pickle"
   ]
  },
  {
   "cell_type": "code",
   "execution_count": 6,
   "metadata": {},
   "outputs": [],
   "source": [
    "qual_eval_folder = './evaluation'\n",
    "items_path = \"./data/games.pkl\"\n",
    "data_path = \"./data/interactions_splits_\"\n",
    "reviews_path = \"./data/reviews.parquet\""
   ]
  },
  {
   "cell_type": "code",
   "execution_count": 4,
   "metadata": {},
   "outputs": [],
   "source": [
    "def average_results(results):\n",
    "    average_dict = {}\n",
    "    for key in results[0]:\n",
    "        key_list = [result[key] for result in results]\n",
    "        average_dict[key] = sum(key_list)/len(key_list)\n",
    "    return average_dict\n"
   ]
  },
  {
   "cell_type": "markdown",
   "metadata": {},
   "source": [
    "Experiment for evaluating different item representations"
   ]
  },
  {
   "cell_type": "code",
   "execution_count": 12,
   "metadata": {},
   "outputs": [
    {
     "name": "stderr",
     "output_type": "stream",
     "text": [
      "5000it [00:00, 8446.30it/s]\n",
      "5000it [00:10, 472.60it/s]\n",
      "5000it [00:00, 8531.39it/s]\n",
      "5000it [00:10, 474.53it/s]\n",
      "5000it [00:00, 7721.89it/s]\n",
      "5000it [00:10, 467.30it/s]\n"
     ]
    },
    {
     "name": "stdout",
     "output_type": "stream",
     "text": [
      "['specs', 'tags'] {'HR@10': 0.1902, 'nDCG@10': 0.051539207908820474, 'recall@10': 0.06717211479669648, 'ideal_recall@10': 0.9429034701783022, 'nRecall@10': 0.06939227513227514}\n"
     ]
    },
    {
     "name": "stderr",
     "output_type": "stream",
     "text": [
      "5000it [00:00, 8516.16it/s]\n",
      "5000it [00:09, 518.66it/s]\n",
      "5000it [00:00, 8410.25it/s]\n",
      "5000it [00:09, 521.11it/s]\n",
      "5000it [00:00, 8665.30it/s]\n",
      "5000it [00:09, 524.44it/s]\n"
     ]
    },
    {
     "name": "stdout",
     "output_type": "stream",
     "text": [
      "['genres', 'tags'] {'HR@10': 0.19013333333333335, 'nDCG@10': 0.04837447216211648, 'recall@10': 0.06477183772303335, 'ideal_recall@10': 0.9429034701783022, 'nRecall@10': 0.06733669312169312}\n"
     ]
    },
    {
     "name": "stderr",
     "output_type": "stream",
     "text": [
      "5000it [00:00, 8675.92it/s]\n",
      "5000it [00:09, 512.81it/s]\n",
      "5000it [00:00, 8757.40it/s]\n",
      "5000it [00:09, 507.66it/s]\n",
      "5000it [00:00, 8127.73it/s]\n",
      "5000it [00:10, 495.57it/s]\n"
     ]
    },
    {
     "name": "stdout",
     "output_type": "stream",
     "text": [
      "['early_access', 'tags'] {'HR@10': 0.19053333333333333, 'nDCG@10': 0.04850597681774197, 'recall@10': 0.06500904155128008, 'ideal_recall@10': 0.9429034701783022, 'nRecall@10': 0.06756915343915343}\n"
     ]
    },
    {
     "name": "stderr",
     "output_type": "stream",
     "text": [
      "5000it [00:01, 3238.20it/s]\n",
      "5000it [00:13, 374.62it/s]\n",
      "5000it [00:01, 3148.72it/s]\n",
      "5000it [00:12, 393.92it/s]\n",
      "5000it [00:01, 3215.19it/s]\n",
      "5000it [00:12, 393.09it/s]\n"
     ]
    },
    {
     "name": "stdout",
     "output_type": "stream",
     "text": [
      "['publisher', 'tags'] {'HR@10': 0.2614666666666667, 'nDCG@10': 0.07419843603846196, 'recall@10': 0.0944219852957892, 'ideal_recall@10': 0.9429034701783022, 'nRecall@10': 0.09824222222222223}\n"
     ]
    },
    {
     "name": "stderr",
     "output_type": "stream",
     "text": [
      "5000it [00:02, 2470.06it/s]\n",
      "5000it [00:12, 400.92it/s]\n",
      "5000it [00:02, 2469.48it/s]\n",
      "5000it [00:12, 390.10it/s]\n",
      "5000it [00:02, 2412.35it/s]\n",
      "5000it [00:12, 389.72it/s]\n"
     ]
    },
    {
     "name": "stdout",
     "output_type": "stream",
     "text": [
      "['developer', 'tags'] {'HR@10': 0.2484666666666667, 'nDCG@10': 0.06991308061813012, 'recall@10': 0.08976327941508815, 'ideal_recall@10': 0.9429034701783022, 'nRecall@10': 0.0932865873015873}\n"
     ]
    },
    {
     "name": "stderr",
     "output_type": "stream",
     "text": [
      "5000it [00:00, 8246.44it/s]\n",
      "5000it [00:10, 472.12it/s]\n",
      "5000it [00:00, 8235.60it/s]\n",
      "5000it [00:10, 475.89it/s]\n",
      "5000it [00:00, 7942.81it/s]\n",
      "5000it [00:11, 441.32it/s]\n"
     ]
    },
    {
     "name": "stdout",
     "output_type": "stream",
     "text": [
      "['specs', 'genres', 'tags'] {'HR@10': 0.19013333333333335, 'nDCG@10': 0.051512375330560335, 'recall@10': 0.06709598426997455, 'ideal_recall@10': 0.9429034701783022, 'nRecall@10': 0.06932291005291005}\n"
     ]
    },
    {
     "name": "stderr",
     "output_type": "stream",
     "text": [
      "5000it [00:00, 8264.45it/s]\n",
      "5000it [00:10, 472.08it/s]\n",
      "5000it [00:00, 8441.87it/s]\n",
      "5000it [00:10, 471.72it/s]\n",
      "5000it [00:00, 8385.41it/s]\n",
      "5000it [00:10, 478.96it/s]\n"
     ]
    },
    {
     "name": "stdout",
     "output_type": "stream",
     "text": [
      "['specs', 'early_access', 'tags'] {'HR@10': 0.1902, 'nDCG@10': 0.051539207908820474, 'recall@10': 0.06717211479669648, 'ideal_recall@10': 0.9429034701783022, 'nRecall@10': 0.06939227513227514}\n"
     ]
    },
    {
     "name": "stderr",
     "output_type": "stream",
     "text": [
      "5000it [00:01, 3126.66it/s]\n",
      "5000it [00:13, 372.61it/s]\n",
      "5000it [00:01, 3204.06it/s]\n",
      "5000it [00:13, 377.57it/s]\n",
      "5000it [00:01, 3172.88it/s]\n",
      "5000it [00:13, 362.35it/s]\n"
     ]
    },
    {
     "name": "stdout",
     "output_type": "stream",
     "text": [
      "['specs', 'publisher', 'tags'] {'HR@10': 0.26313333333333333, 'nDCG@10': 0.07651871451299042, 'recall@10': 0.09571626259231343, 'ideal_recall@10': 0.9429034701783022, 'nRecall@10': 0.09928719576719576}\n"
     ]
    },
    {
     "name": "stderr",
     "output_type": "stream",
     "text": [
      "5000it [00:02, 2450.83it/s]\n",
      "5000it [00:13, 361.73it/s]\n",
      "5000it [00:02, 2364.78it/s]\n",
      "5000it [00:13, 366.94it/s]\n",
      "5000it [00:02, 2424.01it/s]\n",
      "5000it [00:14, 355.39it/s]\n"
     ]
    },
    {
     "name": "stdout",
     "output_type": "stream",
     "text": [
      "['specs', 'developer', 'tags'] {'HR@10': 0.25279999999999997, 'nDCG@10': 0.07369298590099534, 'recall@10': 0.09162933459030874, 'ideal_recall@10': 0.9429034701783022, 'nRecall@10': 0.09512396825396825}\n"
     ]
    },
    {
     "name": "stderr",
     "output_type": "stream",
     "text": [
      "5000it [00:00, 8582.96it/s]\n",
      "5000it [00:09, 515.76it/s]\n",
      "5000it [00:00, 8402.83it/s]\n",
      "5000it [00:09, 515.35it/s]\n",
      "5000it [00:00, 8625.39it/s]\n",
      "5000it [00:09, 502.72it/s]\n"
     ]
    },
    {
     "name": "stdout",
     "output_type": "stream",
     "text": [
      "['genres', 'early_access', 'tags'] {'HR@10': 0.19013333333333335, 'nDCG@10': 0.04837447216211648, 'recall@10': 0.06477183772303335, 'ideal_recall@10': 0.9429034701783022, 'nRecall@10': 0.06733669312169312}\n"
     ]
    },
    {
     "name": "stderr",
     "output_type": "stream",
     "text": [
      "5000it [00:01, 3235.87it/s]\n",
      "5000it [00:12, 391.71it/s]\n",
      "5000it [00:01, 3053.43it/s]\n",
      "5000it [00:12, 397.01it/s]\n",
      "5000it [00:01, 3092.27it/s]\n",
      "5000it [00:12, 386.27it/s]\n"
     ]
    },
    {
     "name": "stdout",
     "output_type": "stream",
     "text": [
      "['genres', 'publisher', 'tags'] {'HR@10': 0.26120000000000004, 'nDCG@10': 0.07417781192556498, 'recall@10': 0.094320090913855, 'ideal_recall@10': 0.9429034701783022, 'nRecall@10': 0.09813222222222222}\n"
     ]
    },
    {
     "name": "stderr",
     "output_type": "stream",
     "text": [
      "5000it [00:02, 2472.80it/s]\n",
      "5000it [00:12, 397.85it/s]\n",
      "5000it [00:02, 2443.52it/s]\n",
      "5000it [00:12, 393.88it/s]\n",
      "5000it [00:02, 2407.66it/s]\n",
      "5000it [00:12, 387.72it/s]\n"
     ]
    },
    {
     "name": "stdout",
     "output_type": "stream",
     "text": [
      "['genres', 'developer', 'tags'] {'HR@10': 0.24793333333333334, 'nDCG@10': 0.06985427355294115, 'recall@10': 0.08965999632030504, 'ideal_recall@10': 0.9429034701783022, 'nRecall@10': 0.09318949735449734}\n"
     ]
    },
    {
     "name": "stderr",
     "output_type": "stream",
     "text": [
      "5000it [00:01, 3159.24it/s]\n",
      "5000it [00:12, 392.94it/s]\n",
      "5000it [00:01, 3188.85it/s]\n",
      "5000it [00:12, 397.62it/s]\n",
      "5000it [00:01, 3137.64it/s]\n",
      "5000it [00:12, 392.00it/s]\n"
     ]
    },
    {
     "name": "stdout",
     "output_type": "stream",
     "text": [
      "['early_access', 'publisher', 'tags'] {'HR@10': 0.2614666666666667, 'nDCG@10': 0.07419843603846196, 'recall@10': 0.0944219852957892, 'ideal_recall@10': 0.9429034701783022, 'nRecall@10': 0.09824222222222223}\n"
     ]
    },
    {
     "name": "stderr",
     "output_type": "stream",
     "text": [
      "5000it [00:02, 2443.28it/s]\n",
      "5000it [00:12, 386.36it/s]\n",
      "5000it [00:02, 2465.74it/s]\n",
      "5000it [00:12, 389.74it/s]\n",
      "5000it [00:02, 2324.17it/s]\n",
      "5000it [00:13, 384.59it/s]\n"
     ]
    },
    {
     "name": "stdout",
     "output_type": "stream",
     "text": [
      "['early_access', 'developer', 'tags'] {'HR@10': 0.2484666666666667, 'nDCG@10': 0.06991308061813012, 'recall@10': 0.08976327941508815, 'ideal_recall@10': 0.9429034701783022, 'nRecall@10': 0.0932865873015873}\n"
     ]
    },
    {
     "name": "stderr",
     "output_type": "stream",
     "text": [
      "5000it [00:02, 2134.18it/s]\n",
      "5000it [00:13, 372.11it/s]\n",
      "5000it [00:02, 2140.26it/s]\n",
      "5000it [00:13, 383.15it/s]\n",
      "5000it [00:02, 2165.01it/s]\n",
      "5000it [00:13, 374.47it/s]\n"
     ]
    },
    {
     "name": "stdout",
     "output_type": "stream",
     "text": [
      "['publisher', 'developer', 'tags'] {'HR@10': 0.2594666666666667, 'nDCG@10': 0.07601606741859933, 'recall@10': 0.09694517402355, 'ideal_recall@10': 0.9429034701783022, 'nRecall@10': 0.10029952380952382}\n"
     ]
    },
    {
     "name": "stderr",
     "output_type": "stream",
     "text": [
      "5000it [00:00, 8221.29it/s]\n",
      "5000it [00:10, 476.53it/s]\n",
      "5000it [00:00, 8314.57it/s]\n",
      "5000it [00:10, 467.58it/s]\n",
      "5000it [00:00, 8223.52it/s]\n",
      "5000it [00:10, 467.84it/s]\n"
     ]
    },
    {
     "name": "stdout",
     "output_type": "stream",
     "text": [
      "['specs', 'genres', 'early_access', 'tags'] {'HR@10': 0.19013333333333335, 'nDCG@10': 0.051512375330560335, 'recall@10': 0.06709598426997455, 'ideal_recall@10': 0.9429034701783022, 'nRecall@10': 0.06932291005291005}\n"
     ]
    },
    {
     "name": "stderr",
     "output_type": "stream",
     "text": [
      "5000it [00:01, 3147.01it/s]\n",
      "5000it [00:13, 362.60it/s]\n",
      "5000it [00:01, 3078.46it/s]\n",
      "5000it [00:13, 365.61it/s]\n",
      "5000it [00:01, 3055.79it/s]\n",
      "5000it [00:13, 358.59it/s]\n"
     ]
    },
    {
     "name": "stdout",
     "output_type": "stream",
     "text": [
      "['specs', 'genres', 'publisher', 'tags'] {'HR@10': 0.2630666666666666, 'nDCG@10': 0.07650533060930705, 'recall@10': 0.09571198603553689, 'ideal_recall@10': 0.9429034701783022, 'nRecall@10': 0.09927878306878307}\n"
     ]
    },
    {
     "name": "stderr",
     "output_type": "stream",
     "text": [
      "5000it [00:02, 2336.47it/s]\n",
      "5000it [00:14, 355.91it/s]\n",
      "5000it [00:02, 2252.43it/s]\n",
      "5000it [00:13, 358.10it/s]\n",
      "5000it [00:02, 2454.53it/s]\n",
      "5000it [00:13, 364.31it/s]\n"
     ]
    },
    {
     "name": "stdout",
     "output_type": "stream",
     "text": [
      "['specs', 'genres', 'developer', 'tags'] {'HR@10': 0.25286666666666663, 'nDCG@10': 0.07365126912390114, 'recall@10': 0.09158171345928645, 'ideal_recall@10': 0.9429034701783022, 'nRecall@10': 0.09508650793650793}\n"
     ]
    },
    {
     "name": "stderr",
     "output_type": "stream",
     "text": [
      "5000it [00:01, 3112.44it/s]\n",
      "5000it [00:13, 364.38it/s]\n",
      "5000it [00:01, 3147.18it/s]\n",
      "5000it [00:13, 370.43it/s]\n",
      "5000it [00:01, 3140.68it/s]\n",
      "5000it [00:13, 360.59it/s]\n"
     ]
    },
    {
     "name": "stdout",
     "output_type": "stream",
     "text": [
      "['specs', 'early_access', 'publisher', 'tags'] {'HR@10': 0.26313333333333333, 'nDCG@10': 0.07651871451299042, 'recall@10': 0.09571626259231343, 'ideal_recall@10': 0.9429034701783022, 'nRecall@10': 0.09928719576719576}\n"
     ]
    },
    {
     "name": "stderr",
     "output_type": "stream",
     "text": [
      "5000it [00:02, 2400.17it/s]\n",
      "5000it [00:14, 355.94it/s]\n",
      "5000it [00:02, 2357.10it/s]\n",
      "5000it [00:13, 358.32it/s]\n",
      "5000it [00:02, 2381.58it/s]\n",
      "5000it [00:14, 357.09it/s]\n"
     ]
    },
    {
     "name": "stdout",
     "output_type": "stream",
     "text": [
      "['specs', 'early_access', 'developer', 'tags'] {'HR@10': 0.25279999999999997, 'nDCG@10': 0.07369298590099534, 'recall@10': 0.09162933459030874, 'ideal_recall@10': 0.9429034701783022, 'nRecall@10': 0.09512396825396825}\n"
     ]
    },
    {
     "name": "stderr",
     "output_type": "stream",
     "text": [
      "5000it [00:02, 2164.20it/s]\n",
      "5000it [00:14, 344.91it/s]\n",
      "5000it [00:02, 2158.60it/s]\n",
      "5000it [00:14, 341.06it/s]\n",
      "5000it [00:02, 2179.22it/s]\n",
      "5000it [00:14, 356.25it/s]\n"
     ]
    },
    {
     "name": "stdout",
     "output_type": "stream",
     "text": [
      "['specs', 'publisher', 'developer', 'tags'] {'HR@10': 0.26366666666666666, 'nDCG@10': 0.0792388269982653, 'recall@10': 0.09852182418310478, 'ideal_recall@10': 0.9429034701783022, 'nRecall@10': 0.1018154232804233}\n"
     ]
    },
    {
     "name": "stderr",
     "output_type": "stream",
     "text": [
      "5000it [00:01, 3151.97it/s]\n",
      "5000it [00:12, 394.82it/s]\n",
      "5000it [00:01, 3171.09it/s]\n",
      "5000it [00:12, 392.66it/s]\n",
      "5000it [00:01, 3140.57it/s]\n",
      "5000it [00:12, 394.65it/s]\n"
     ]
    },
    {
     "name": "stdout",
     "output_type": "stream",
     "text": [
      "['genres', 'early_access', 'publisher', 'tags'] {'HR@10': 0.26120000000000004, 'nDCG@10': 0.07417781192556498, 'recall@10': 0.094320090913855, 'ideal_recall@10': 0.9429034701783022, 'nRecall@10': 0.09813222222222222}\n"
     ]
    },
    {
     "name": "stderr",
     "output_type": "stream",
     "text": [
      "5000it [00:02, 2401.02it/s]\n",
      "5000it [00:12, 391.11it/s]\n",
      "5000it [00:02, 2439.21it/s]\n",
      "5000it [00:12, 387.98it/s]\n",
      "5000it [00:02, 2350.88it/s]\n",
      "5000it [00:13, 383.48it/s]\n"
     ]
    },
    {
     "name": "stdout",
     "output_type": "stream",
     "text": [
      "['genres', 'early_access', 'developer', 'tags'] {'HR@10': 0.24793333333333334, 'nDCG@10': 0.06985427355294115, 'recall@10': 0.08965999632030504, 'ideal_recall@10': 0.9429034701783022, 'nRecall@10': 0.09318949735449734}\n"
     ]
    },
    {
     "name": "stderr",
     "output_type": "stream",
     "text": [
      "5000it [00:02, 2179.56it/s]\n",
      "5000it [00:13, 378.84it/s]\n",
      "5000it [00:02, 2215.09it/s]\n",
      "5000it [00:12, 392.17it/s]\n",
      "5000it [00:02, 2215.62it/s]\n",
      "5000it [00:13, 374.54it/s]\n"
     ]
    },
    {
     "name": "stdout",
     "output_type": "stream",
     "text": [
      "['genres', 'publisher', 'developer', 'tags'] {'HR@10': 0.259, 'nDCG@10': 0.07588120370769746, 'recall@10': 0.09660555468863653, 'ideal_recall@10': 0.9429034701783022, 'nRecall@10': 0.09995698412698413}\n"
     ]
    },
    {
     "name": "stderr",
     "output_type": "stream",
     "text": [
      "5000it [00:02, 2155.40it/s]\n",
      "5000it [00:13, 371.63it/s]\n",
      "5000it [00:02, 2192.12it/s]\n",
      "5000it [00:13, 384.09it/s]\n",
      "5000it [00:02, 2190.60it/s]\n",
      "5000it [00:13, 384.37it/s]\n"
     ]
    },
    {
     "name": "stdout",
     "output_type": "stream",
     "text": [
      "['early_access', 'publisher', 'developer', 'tags'] {'HR@10': 0.2594666666666667, 'nDCG@10': 0.07601606741859933, 'recall@10': 0.09694517402355, 'ideal_recall@10': 0.9429034701783022, 'nRecall@10': 0.10029952380952382}\n"
     ]
    },
    {
     "name": "stderr",
     "output_type": "stream",
     "text": [
      "5000it [00:01, 3124.37it/s]\n",
      "5000it [00:13, 374.15it/s]\n",
      "5000it [00:01, 3122.54it/s]\n",
      "5000it [00:13, 374.98it/s]\n",
      "5000it [00:01, 3118.81it/s]\n",
      "5000it [00:13, 365.13it/s]\n"
     ]
    },
    {
     "name": "stdout",
     "output_type": "stream",
     "text": [
      "['specs', 'genres', 'early_access', 'publisher', 'tags'] {'HR@10': 0.2630666666666666, 'nDCG@10': 0.07650533060930705, 'recall@10': 0.09571198603553689, 'ideal_recall@10': 0.9429034701783022, 'nRecall@10': 0.09927878306878307}\n"
     ]
    },
    {
     "name": "stderr",
     "output_type": "stream",
     "text": [
      "5000it [00:02, 2272.72it/s]\n",
      "5000it [00:13, 357.65it/s]\n",
      "5000it [00:02, 2352.38it/s]\n",
      "5000it [00:13, 360.18it/s]\n",
      "5000it [00:02, 2412.98it/s]\n",
      "5000it [00:13, 363.06it/s]\n"
     ]
    },
    {
     "name": "stdout",
     "output_type": "stream",
     "text": [
      "['specs', 'genres', 'early_access', 'developer', 'tags'] {'HR@10': 0.25286666666666663, 'nDCG@10': 0.07365126912390114, 'recall@10': 0.09158171345928645, 'ideal_recall@10': 0.9429034701783022, 'nRecall@10': 0.09508650793650793}\n"
     ]
    },
    {
     "name": "stderr",
     "output_type": "stream",
     "text": [
      "5000it [00:02, 2100.06it/s]\n",
      "5000it [00:14, 351.00it/s]\n",
      "5000it [00:02, 2147.95it/s]\n",
      "5000it [00:14, 344.43it/s]\n",
      "5000it [00:02, 2121.04it/s]\n",
      "5000it [00:14, 340.63it/s]\n"
     ]
    },
    {
     "name": "stdout",
     "output_type": "stream",
     "text": [
      "['specs', 'genres', 'publisher', 'developer', 'tags'] {'HR@10': 0.26286666666666664, 'nDCG@10': 0.0790052078761835, 'recall@10': 0.09815592627909164, 'ideal_recall@10': 0.9429034701783022, 'nRecall@10': 0.10144746031746033}\n"
     ]
    },
    {
     "name": "stderr",
     "output_type": "stream",
     "text": [
      "5000it [00:02, 2154.34it/s]\n",
      "5000it [00:14, 350.59it/s]\n",
      "5000it [00:02, 2116.92it/s]\n",
      "5000it [00:14, 346.81it/s]\n",
      "5000it [00:02, 2114.54it/s]\n",
      "5000it [00:14, 343.76it/s]\n"
     ]
    },
    {
     "name": "stdout",
     "output_type": "stream",
     "text": [
      "['specs', 'early_access', 'publisher', 'developer', 'tags'] {'HR@10': 0.26366666666666666, 'nDCG@10': 0.0792388269982653, 'recall@10': 0.09852182418310478, 'ideal_recall@10': 0.9429034701783022, 'nRecall@10': 0.1018154232804233}\n"
     ]
    },
    {
     "name": "stderr",
     "output_type": "stream",
     "text": [
      "5000it [00:02, 2157.93it/s]\n",
      "5000it [00:13, 381.56it/s]\n",
      "5000it [00:02, 2210.30it/s]\n",
      "5000it [00:12, 390.10it/s]\n",
      "5000it [00:02, 2169.08it/s]\n",
      "5000it [00:13, 382.99it/s]\n"
     ]
    },
    {
     "name": "stdout",
     "output_type": "stream",
     "text": [
      "['genres', 'early_access', 'publisher', 'developer', 'tags'] {'HR@10': 0.259, 'nDCG@10': 0.07588120370769746, 'recall@10': 0.09660555468863653, 'ideal_recall@10': 0.9429034701783022, 'nRecall@10': 0.09995698412698413}\n"
     ]
    },
    {
     "name": "stderr",
     "output_type": "stream",
     "text": [
      "5000it [00:02, 2121.00it/s]\n",
      "5000it [00:14, 349.93it/s]\n",
      "5000it [00:02, 2077.72it/s]\n",
      "5000it [00:14, 349.85it/s]\n",
      "5000it [00:02, 2104.36it/s]\n",
      "5000it [00:14, 344.27it/s]\n"
     ]
    },
    {
     "name": "stdout",
     "output_type": "stream",
     "text": [
      "['specs', 'genres', 'early_access', 'publisher', 'developer', 'tags'] {'HR@10': 0.26286666666666664, 'nDCG@10': 0.0790052078761835, 'recall@10': 0.09815592627909164, 'ideal_recall@10': 0.9429034701783022, 'nRecall@10': 0.10144746031746033}\n"
     ]
    }
   ],
   "source": [
    "information = ['specs', 'genres', 'early_access', 'publisher', 'developer']\n",
    "def test_representation(columns, split):\n",
    "    rec = ImprovedRecommender(items_path, train_path=f\"{split}_train.parquet\", test_path=f\"{split}_test.parquet\", val_path=f\"{split}_val.parquet\", reviews_path=reviews_path, sparse=True, tfidf='smooth', normalize=True, columns=columns, weighting_scheme={})\n",
    "    rec.generate_recommendations(read_max=5000)\n",
    "    return rec.evaluate(k=10)\n",
    "\n",
    "results = []\n",
    "representations = [map(list, combinations(information, r)) for r in range(1, len(information)+1)]\n",
    "representations = [rep+['tags'] for sublist in representations for rep in sublist]\n",
    "for columns in representations:\n",
    "    split_results = []\n",
    "    for split in [data_path + str(i) for i in range(3)]:\n",
    "        split_results.append(test_representation(columns, split))\n",
    "    results.append(average_results(split_results))\n",
    "    print(columns, results[-1])\n",
    "\n",
    "with open('./evaluation/representations.pickle', 'wb') as handle:\n",
    "    pickle.dump(representations, handle, protocol=pickle.HIGHEST_PROTOCOL)\n",
    "\n",
    "with open('./evaluation/representations_results.pickle', 'wb') as handle:\n",
    "    pickle.dump(results, handle, protocol=pickle.HIGHEST_PROTOCOL)"
   ]
  },
  {
   "cell_type": "markdown",
   "metadata": {},
   "source": [
    "Experiment for evaluating different weighting schemes"
   ]
  },
  {
   "cell_type": "code",
   "execution_count": 8,
   "metadata": {},
   "outputs": [
    {
     "name": "stdout",
     "output_type": "stream",
     "text": [
      "{'playtime': True, 'sentiment': 'rating', 'reviews': True} {'HR@10': 0.215, 'nDCG@10': 0.059321776717981445, 'recall@10': 0.07618113972795272, 'ideal_recall@10': 0.9429034701783022, 'nRecall@10': 0.07930021164021163}\n",
      "{'playtime': True, 'sentiment': 'rating', 'reviews': False} {'HR@10': 0.215, 'nDCG@10': 0.05934824475332367, 'recall@10': 0.07626506438449554, 'ideal_recall@10': 0.9429034701783022, 'nRecall@10': 0.07936087301587301}\n",
      "{'playtime': True, 'sentiment': 'n_reviews', 'reviews': True} {'HR@10': 0.21153333333333335, 'nDCG@10': 0.05810909331975015, 'recall@10': 0.07449825934288308, 'ideal_recall@10': 0.9429034701783022, 'nRecall@10': 0.07763301587301587}\n",
      "{'playtime': True, 'sentiment': 'n_reviews', 'reviews': False} {'HR@10': 0.21206666666666665, 'nDCG@10': 0.05838593333343447, 'recall@10': 0.0750858663085082, 'ideal_recall@10': 0.9429034701783022, 'nRecall@10': 0.07819534391534393}\n",
      "{'playtime': True, 'sentiment': 'mixed', 'reviews': True} {'HR@10': 0.20593333333333333, 'nDCG@10': 0.0566274791962141, 'recall@10': 0.0720820358756656, 'ideal_recall@10': 0.9429034701783022, 'nRecall@10': 0.07512714285714285}\n",
      "{'playtime': True, 'sentiment': 'mixed', 'reviews': False} {'HR@10': 0.20646666666666666, 'nDCG@10': 0.056924701057354615, 'recall@10': 0.07273200317444013, 'ideal_recall@10': 0.9429034701783022, 'nRecall@10': 0.07574957671957672}\n",
      "{'playtime': True, 'sentiment': False, 'reviews': True} {'HR@10': 0.21853333333333333, 'nDCG@10': 0.06003614982009994, 'recall@10': 0.07728101373920489, 'ideal_recall@10': 0.9429034701783022, 'nRecall@10': 0.08046828042328043}\n",
      "{'playtime': True, 'sentiment': False, 'reviews': False} {'HR@10': 0.21853333333333333, 'nDCG@10': 0.0600698899116, 'recall@10': 0.0774870529135917, 'ideal_recall@10': 0.9429034701783022, 'nRecall@10': 0.08063973544973545}\n",
      "{'playtime': False, 'sentiment': 'rating', 'reviews': True} {'HR@10': 0.26099999999999995, 'nDCG@10': 0.07805217333678031, 'recall@10': 0.09673633852311216, 'ideal_recall@10': 0.9429034701783022, 'nRecall@10': 0.10001457671957671}\n",
      "{'playtime': False, 'sentiment': 'rating', 'reviews': False} {'HR@10': 0.261, 'nDCG@10': 0.0780821995002138, 'recall@10': 0.09678312204843866, 'ideal_recall@10': 0.9429034701783022, 'nRecall@10': 0.100055873015873}\n",
      "{'playtime': False, 'sentiment': 'n_reviews', 'reviews': True} {'HR@10': 0.25426666666666664, 'nDCG@10': 0.07587667084984767, 'recall@10': 0.09503123169852028, 'ideal_recall@10': 0.9429034701783022, 'nRecall@10': 0.0981907671957672}\n",
      "{'playtime': False, 'sentiment': 'n_reviews', 'reviews': False} {'HR@10': 0.25486666666666663, 'nDCG@10': 0.07598542608359711, 'recall@10': 0.09524486334491351, 'ideal_recall@10': 0.9429034701783022, 'nRecall@10': 0.098400291005291}\n",
      "{'playtime': False, 'sentiment': 'mixed', 'reviews': True} {'HR@10': 0.2488, 'nDCG@10': 0.07367831328195433, 'recall@10': 0.09216115613727398, 'ideal_recall@10': 0.9429034701783022, 'nRecall@10': 0.0952635714285714}\n",
      "{'playtime': False, 'sentiment': 'mixed', 'reviews': False} {'HR@10': 0.2492, 'nDCG@10': 0.07389927849156373, 'recall@10': 0.09253821660097854, 'ideal_recall@10': 0.9429034701783022, 'nRecall@10': 0.09563034391534392}\n",
      "{'playtime': False, 'sentiment': False, 'reviews': True} {'HR@10': 0.264, 'nDCG@10': 0.07926497169109241, 'recall@10': 0.09857171213828686, 'ideal_recall@10': 0.9429034701783022, 'nRecall@10': 0.10187431216931216}\n",
      "{'playtime': False, 'sentiment': False, 'reviews': False} {'HR@10': 0.26366666666666666, 'nDCG@10': 0.0792388269982653, 'recall@10': 0.09852182418310478, 'ideal_recall@10': 0.9429034701783022, 'nRecall@10': 0.1018154232804233}\n"
     ]
    }
   ],
   "source": [
    "weighting_schemes = [{'playtime': playtime, 'sentiment': sentiment, 'reviews': reviews} for playtime in [True, False] for sentiment in ['rating', 'n_reviews', 'mixed', False] for reviews in [True, False]]\n",
    "def test_weighting_scheme(rec, weighting_scheme):\n",
    "    rec.set_weighting_scheme(weighting_scheme)\n",
    "    rec.generate_recommendations(read_max=5000, silence=True)\n",
    "    return rec.evaluate(k=10)\n",
    "\n",
    "results = []\n",
    "recs = [ImprovedRecommender(items_path, train_path=f\"{split}_train.parquet\", test_path=f\"{split}_test.parquet\", val_path=f\"{split}_val.parquet\", reviews_path=reviews_path, sparse=True, tfidf='smooth', normalize=True) for split in [data_path + str(i) for i in range(3)]]\n",
    "for weighting_scheme in weighting_schemes:\n",
    "    split_results = []\n",
    "    for rec in recs:\n",
    "        split_results.append(test_weighting_scheme(rec, weighting_scheme))\n",
    "    results.append(average_results(split_results))\n",
    "    print(weighting_scheme, results[-1])\n",
    "    \n",
    "with open('./evaluation/weighting_schemes.pickle', 'wb') as handle:\n",
    "    pickle.dump(weighting_schemes, handle, protocol=pickle.HIGHEST_PROTOCOL)\n",
    "\n",
    "with open('./evaluation/weighting_schemes_results.pickle', 'wb') as handle:\n",
    "    pickle.dump(results, handle, protocol=pickle.HIGHEST_PROTOCOL)"
   ]
  },
  {
   "cell_type": "markdown",
   "metadata": {},
   "source": [
    "Experiment for evaluating different dimensionality reduction techniques"
   ]
  },
  {
   "cell_type": "code",
   "execution_count": 4,
   "metadata": {},
   "outputs": [
    {
     "name": "stderr",
     "output_type": "stream",
     "text": [
      "5000it [00:00, 40143.87it/s]\n",
      "5000it [02:00, 41.33it/s]\n",
      "5000it [00:00, 34598.76it/s]\n",
      "5000it [02:10, 38.31it/s]\n",
      "5000it [00:00, 36323.63it/s]\n",
      "5000it [02:01, 41.21it/s]\n",
      "5000it [00:00, 32679.66it/s]\n",
      "5000it [01:52, 44.61it/s]\n",
      "5000it [00:00, 35696.63it/s]\n",
      "5000it [02:06, 39.65it/s]\n",
      "5000it [00:00, 33774.15it/s]\n",
      "5000it [01:52, 44.53it/s]\n",
      "5000it [00:00, 35954.40it/s]\n",
      "5000it [02:01, 41.25it/s]\n",
      "5000it [00:00, 30298.05it/s]\n",
      "5000it [02:01, 41.30it/s]\n",
      "5000it [00:00, 29749.96it/s]\n",
      "5000it [02:09, 38.74it/s]\n",
      "5000it [00:00, 26316.14it/s]\n",
      "5000it [02:09, 38.50it/s]\n",
      "5000it [00:00, 25895.40it/s]\n",
      "5000it [02:05, 39.77it/s]\n",
      "5000it [00:00, 23364.64it/s]\n",
      "5000it [02:18, 36.20it/s]\n"
     ]
    }
   ],
   "source": [
    "dim_reds = [TruncatedSVD(n_components=300, random_state=500), PCA(n_components=300, random_state=500, whiten=False), IncrementalPCA(n_components=300, whiten=False), KernelPCA(n_components=300)]\n",
    "labels = [\"TruncatedSVD(n_components=300)\", \"PCA(n_components=300)\", \"IncrementalPCA(n_components=300)\", \"KernelPCA(n_components=300)\"]\n",
    "# use_data = ['specs', 'genres', 'tags', 'early_access', 'publisher', 'developer']\n",
    "results = []\n",
    "for i, dim_red in enumerate(dim_reds):\n",
    "    split_results = []\n",
    "    for split in [data_path + str(i) for i in range(3)]:\n",
    "        rec = ImprovedRecommender(items_path, train_path=f\"{split}_train.parquet\", test_path=f\"{split}_test.parquet\", val_path=f\"{split}_val.parquet\", reviews_path=reviews_path, sparse=False, tfidf='smooth', normalize=True, dim_red=dim_red)\n",
    "        rec.generate_recommendations(read_max=5000, silence=True)\n",
    "        split_results.append(rec.evaluate(k=10))\n",
    "    results.append(average_results(split_results))\n",
    "    print(labels[i], results[-1])\n",
    "    \n",
    "with open('./evaluation/dim_reduction.pickle', 'wb') as handle:\n",
    "    pickle.dump(labels, handle, protocol=pickle.HIGHEST_PROTOCOL)\n",
    "\n",
    "with open('./evaluation/dim_reduction_results.pickle', 'wb') as handle:\n",
    "    pickle.dump(results, handle, protocol=pickle.HIGHEST_PROTOCOL)"
   ]
  },
  {
   "cell_type": "markdown",
   "metadata": {},
   "source": [
    "Experiment for sparse PCA, it can be observed that this technique takes a very long time to provide the reduced item output, which immediately invalidates this technique as being useful."
   ]
  },
  {
   "cell_type": "code",
   "execution_count": 4,
   "metadata": {},
   "outputs": [
    {
     "name": "stderr",
     "output_type": "stream",
     "text": [
      "5000it [00:00, 22409.64it/s]\n",
      "5000it [03:02, 27.39it/s]\n"
     ]
    },
    {
     "name": "stdout",
     "output_type": "stream",
     "text": [
      "Wall time: 16min 37s\n"
     ]
    },
    {
     "data": {
      "text/plain": [
       "{'HR@10': 0.2302,\n",
       " 'nDCG@10': 0.05956175198640447,\n",
       " 'recall@10': 0.0714757177844029,\n",
       " 'ideal_recall@10': 0.9429034701783021,\n",
       " 'nRecall@10': 0.07638436507936508}"
      ]
     },
     "execution_count": 4,
     "metadata": {},
     "output_type": "execute_result"
    }
   ],
   "source": [
    "%%time\n",
    "dim_red = SparsePCA(n_components=300, n_jobs=8)\n",
    "rec = ImprovedRecommender(items_path, train_path=f\"{data_path}0_train.parquet\", test_path=f\"{data_path}0_test.parquet\", val_path=f\"{data_path}0_val.parquet\", reviews_path=reviews_path, sparse=False, tfidf='smooth', normalize=True, dim_red=dim_red)\n",
    "rec.generate_recommendations(read_max=5000) # read_max=1000\n",
    "rec.evaluate(k=10)"
   ]
  },
  {
   "cell_type": "code",
   "execution_count": 3,
   "metadata": {},
   "outputs": [],
   "source": [
    "am_splits = 5\n",
    "am_recommended = 20\n",
    "k_values = [5, 10, 20]\n",
    "data_basepath = \"./data/v3/\"\n",
    "quant_output_path = \"./evaluation/v3/quantitative/\"\n",
    "qual_output_path = \"./evaluation/v3/qualitative/\"\n",
    "items_path = data_basepath + \"games.pkl.gz\"\n",
    "reviews_path = data_basepath + \"reviews.parquet\"\n",
    "data_path = data_basepath + \"interactions_splits_\""
   ]
  },
  {
   "cell_type": "code",
   "execution_count": 1,
   "metadata": {},
   "outputs": [],
   "source": [
    "def save_pickle(save_path: str, data:object) -> None:\n",
    "    with open(save_path, \"wb\") as handle:\n",
    "        pickle.dump(data, handle, protocol=pickle.HIGHEST_PROTOCOL)"
   ]
  },
  {
   "cell_type": "code",
   "execution_count": 4,
   "metadata": {},
   "outputs": [],
   "source": [
    "def invert_dict(dicts:list) -> dict:\n",
    "    new_dict = dict()\n",
    "    for i, d in enumerate(dicts):\n",
    "        for key in d.keys():\n",
    "            ar = new_dict.get(key, np.zeros(len(dicts)))\n",
    "            ar[i] = d[key]\n",
    "            new_dict[key] = ar\n",
    "    return new_dict"
   ]
  },
  {
   "cell_type": "markdown",
   "metadata": {},
   "source": [
    "Experiment for PCA with different output sizes"
   ]
  },
  {
   "cell_type": "code",
   "execution_count": 5,
   "metadata": {},
   "outputs": [
    {
     "data": {
      "text/plain": [
       "[{'HR@5': array([0.1804, 0.1784, 0.1802, 0.1804, 0.178 ]),\n",
       "  'nDCG@5': array([0.06248786, 0.0625275 , 0.06613434, 0.06455479, 0.06314145]),\n",
       "  'recall@5': array([0.05730968, 0.05721413, 0.0615682 , 0.06079072, 0.05967371]),\n",
       "  'ideal_recall@5': array([0.85512594, 0.85512594, 0.85512594, 0.85512594, 0.85512594]),\n",
       "  'nRecall@5': array([0.06974667, 0.06860333, 0.07293   , 0.07199667, 0.07113667]),\n",
       "  'HR@10': array([0.251 , 0.2562, 0.2562, 0.2592, 0.259 ]),\n",
       "  'nDCG@10': array([0.0683486 , 0.06924959, 0.07303678, 0.07240726, 0.07144234]),\n",
       "  'recall@10': array([0.08292479, 0.08263495, 0.0876824 , 0.08832863, 0.08789034]),\n",
       "  'ideal_recall@10': array([0.94290347, 0.94290347, 0.94290347, 0.94290347, 0.94290347]),\n",
       "  'nRecall@10': array([0.0879931 , 0.08743421, 0.0924881 , 0.09309143, 0.09290341]),\n",
       "  'HR@20': array([0.355 , 0.3538, 0.3594, 0.3538, 0.3564]),\n",
       "  'nDCG@20': array([0.08099801, 0.08141371, 0.08575252, 0.08462381, 0.083721  ]),\n",
       "  'recall@20': array([0.12417113, 0.12181307, 0.12956648, 0.12804008, 0.12751778]),\n",
       "  'ideal_recall@20': array([0.98262082, 0.98262082, 0.98262082, 0.98262082, 0.98262082]),\n",
       "  'nRecall@20': array([0.12598833, 0.12351847, 0.13119578, 0.12974183, 0.12924962])},\n",
       " {'HR@5': array([0.1932, 0.19  , 0.1882, 0.1886, 0.1964]),\n",
       "  'nDCG@5': array([0.06914927, 0.0690689 , 0.06994553, 0.06998836, 0.07127989]),\n",
       "  'recall@5': array([0.05861773, 0.05797805, 0.06113676, 0.06097344, 0.06179735]),\n",
       "  'ideal_recall@5': array([0.85512594, 0.85512594, 0.85512594, 0.85512594, 0.85512594]),\n",
       "  'nRecall@5': array([0.07423   , 0.07244333, 0.07579667, 0.07534333, 0.07677333]),\n",
       "  'HR@10': array([0.2658, 0.2596, 0.26  , 0.2618, 0.2712]),\n",
       "  'nDCG@10': array([0.07345723, 0.07328099, 0.0749493 , 0.07581913, 0.07713818]),\n",
       "  'recall@10': array([0.08262482, 0.08054039, 0.08577625, 0.08659109, 0.088786  ]),\n",
       "  'ideal_recall@10': array([0.94290347, 0.94290347, 0.94290347, 0.94290347, 0.94290347]),\n",
       "  'nRecall@10': array([0.08918738, 0.08652754, 0.09184873, 0.09253246, 0.09510302]),\n",
       "  'HR@20': array([0.3484, 0.3476, 0.345 , 0.3508, 0.3512]),\n",
       "  'nDCG@20': array([0.08328745, 0.08316816, 0.0842245 , 0.08651478, 0.08632925]),\n",
       "  'recall@20': array([0.11807118, 0.11354393, 0.11730734, 0.1219608 , 0.12076045]),\n",
       "  'ideal_recall@20': array([0.98262082, 0.98262082, 0.98262082, 0.98262082, 0.98262082]),\n",
       "  'nRecall@20': array([0.12030049, 0.11556884, 0.11934829, 0.12390885, 0.12284248])},\n",
       " {'HR@5': array([0.1806, 0.1884, 0.1864, 0.1876, 0.1876]),\n",
       "  'nDCG@5': array([0.06488244, 0.06712209, 0.07017978, 0.06826253, 0.06760648]),\n",
       "  'recall@5': array([0.06031395, 0.06122066, 0.06580707, 0.06446373, 0.06418756]),\n",
       "  'ideal_recall@5': array([0.85512594, 0.85512594, 0.85512594, 0.85512594, 0.85512594]),\n",
       "  'nRecall@5': array([0.07231   , 0.07329333, 0.07723   , 0.07596   , 0.07630333]),\n",
       "  'HR@10': array([0.2582, 0.2616, 0.2622, 0.2684, 0.2684]),\n",
       "  'nDCG@10': array([0.07192667, 0.07296367, 0.07706905, 0.07644128, 0.0757943 ]),\n",
       "  'recall@10': array([0.08763633, 0.08554199, 0.09144464, 0.09333782, 0.09336258]),\n",
       "  'ideal_recall@10': array([0.94290347, 0.94290347, 0.94290347, 0.94290347, 0.94290347]),\n",
       "  'nRecall@10': array([0.09261873, 0.09042532, 0.09610897, 0.09823905, 0.09853698]),\n",
       "  'HR@20': array([0.3594, 0.3592, 0.3684, 0.3644, 0.3694]),\n",
       "  'nDCG@20': array([0.0844693 , 0.08558278, 0.0898594 , 0.08925549, 0.08855125]),\n",
       "  'recall@20': array([0.12806302, 0.12534482, 0.13241341, 0.13469858, 0.13447388]),\n",
       "  'ideal_recall@20': array([0.98262082, 0.98262082, 0.98262082, 0.98262082, 0.98262082]),\n",
       "  'nRecall@20': array([0.12979791, 0.12704996, 0.13402196, 0.136422  , 0.13619834])},\n",
       " {'HR@5': array([0.1988, 0.1912, 0.1862, 0.195 , 0.2042]),\n",
       "  'nDCG@5': array([0.07055104, 0.06702791, 0.06912812, 0.07099781, 0.07386624]),\n",
       "  'recall@5': array([0.05959713, 0.05625329, 0.05981576, 0.0619959 , 0.06390055]),\n",
       "  'ideal_recall@5': array([0.85512594, 0.85512594, 0.85512594, 0.85512594, 0.85512594]),\n",
       "  'nRecall@5': array([0.07611   , 0.07105333, 0.07446667, 0.07687   , 0.07944   ]),\n",
       "  'HR@10': array([0.2662, 0.266 , 0.2564, 0.2736, 0.279 ]),\n",
       "  'nDCG@10': array([0.07443005, 0.07221462, 0.07385305, 0.07796223, 0.07898851]),\n",
       "  'recall@10': array([0.08474619, 0.08110612, 0.08380736, 0.09178388, 0.08923058]),\n",
       "  'ideal_recall@10': array([0.94290347, 0.94290347, 0.94290347, 0.94290347, 0.94290347]),\n",
       "  'nRecall@10': array([0.09165222, 0.08725071, 0.0899246 , 0.09801952, 0.09593381]),\n",
       "  'HR@20': array([0.3478, 0.3488, 0.3512, 0.3558, 0.3594]),\n",
       "  'nDCG@20': array([0.0839906 , 0.08238384, 0.08424624, 0.08756267, 0.088723  ]),\n",
       "  'recall@20': array([0.11956154, 0.11555571, 0.11866666, 0.12453702, 0.12299876]),\n",
       "  'ideal_recall@20': array([0.98262082, 0.98262082, 0.98262082, 0.98262082, 0.98262082]),\n",
       "  'nRecall@20': array([0.12181924, 0.11761115, 0.12063948, 0.1264459 , 0.1252172 ])},\n",
       " {'HR@5': array([0.185 , 0.191 , 0.1872, 0.1912, 0.19  ]),\n",
       "  'nDCG@5': array([0.06653117, 0.06818654, 0.07195897, 0.07068003, 0.06978333]),\n",
       "  'recall@5': array([0.0623692 , 0.06174462, 0.06785673, 0.06724724, 0.06664021]),\n",
       "  'ideal_recall@5': array([0.85512594, 0.85512594, 0.85512594, 0.85512594, 0.85512594]),\n",
       "  'nRecall@5': array([0.07444333, 0.07391667, 0.07893333, 0.07912333, 0.07872333]),\n",
       "  'HR@10': array([0.264 , 0.268 , 0.2656, 0.274 , 0.2724]),\n",
       "  'nDCG@10': array([0.07370624, 0.07480175, 0.07881435, 0.07891363, 0.07756615]),\n",
       "  'recall@10': array([0.09054981, 0.08837243, 0.09268989, 0.09693774, 0.09443689]),\n",
       "  'ideal_recall@10': array([0.94290347, 0.94290347, 0.94290347, 0.94290347, 0.94290347]),\n",
       "  'nRecall@10': array([0.09541976, 0.09310913, 0.09735008, 0.10181095, 0.09956024]),\n",
       "  'HR@20': array([0.3612, 0.361 , 0.3702, 0.3712, 0.3758]),\n",
       "  'nDCG@20': array([0.08600608, 0.08696445, 0.09157393, 0.09197165, 0.09075139]),\n",
       "  'recall@20': array([0.13056037, 0.12685556, 0.13389234, 0.13843914, 0.136356  ]),\n",
       "  'ideal_recall@20': array([0.98262082, 0.98262082, 0.98262082, 0.98262082, 0.98262082]),\n",
       "  'nRecall@20': array([0.1322601 , 0.12855656, 0.13545476, 0.14011547, 0.13807149])},\n",
       " {'HR@5': array([0.1952, 0.1916, 0.1952, 0.202 , 0.2064]),\n",
       "  'nDCG@5': array([0.07181119, 0.06743862, 0.07335973, 0.07454801, 0.07575093]),\n",
       "  'recall@5': array([0.06086332, 0.05621281, 0.06381136, 0.06584441, 0.0630027 ]),\n",
       "  'ideal_recall@5': array([0.85512594, 0.85512594, 0.85512594, 0.85512594, 0.85512594]),\n",
       "  'nRecall@5': array([0.07691333, 0.07121   , 0.07847   , 0.08119333, 0.07961667]),\n",
       "  'HR@10': array([0.2696, 0.265 , 0.2626, 0.2808, 0.2798]),\n",
       "  'nDCG@10': array([0.07621005, 0.07289254, 0.07742222, 0.08083043, 0.08079121]),\n",
       "  'recall@10': array([0.08544422, 0.0825916 , 0.08677927, 0.09434971, 0.09005788]),\n",
       "  'ideal_recall@10': array([0.94290347, 0.94290347, 0.94290347, 0.94290347, 0.94290347]),\n",
       "  'nRecall@10': array([0.09238524, 0.08872325, 0.09277135, 0.1007727 , 0.0967769 ]),\n",
       "  'HR@20': array([0.3494, 0.3498, 0.3492, 0.3602, 0.3614]),\n",
       "  'nDCG@20': array([0.08512864, 0.08322117, 0.08677795, 0.08966847, 0.08998182]),\n",
       "  'recall@20': array([0.11788223, 0.11618921, 0.11822448, 0.12479815, 0.12164283]),\n",
       "  'ideal_recall@20': array([0.98262082, 0.98262082, 0.98262082, 0.98262082, 0.98262082]),\n",
       "  'nRecall@20': array([0.1200643 , 0.11822417, 0.12022638, 0.12678257, 0.12386987])},\n",
       " {'HR@5': array([0.1888, 0.1942, 0.1904, 0.1934, 0.194 ]),\n",
       "  'nDCG@5': array([0.06810271, 0.0689822 , 0.07283612, 0.07190223, 0.07113105]),\n",
       "  'recall@5': array([0.06440861, 0.06270494, 0.06911486, 0.06920082, 0.06841817]),\n",
       "  'ideal_recall@5': array([0.85512594, 0.85512594, 0.85512594, 0.85512594, 0.85512594]),\n",
       "  'nRecall@5': array([0.07665667, 0.07489333, 0.07997   , 0.08108   , 0.08041667]),\n",
       "  'HR@10': array([0.264 , 0.2708, 0.27  , 0.2748, 0.2768]),\n",
       "  'nDCG@10': array([0.07472504, 0.07589859, 0.0803156 , 0.08026186, 0.0793403 ]),\n",
       "  'recall@10': array([0.09187949, 0.09096981, 0.0956725 , 0.09927646, 0.09739059]),\n",
       "  'ideal_recall@10': array([0.94290347, 0.94290347, 0.94290347, 0.94290347, 0.94290347]),\n",
       "  'nRecall@10': array([0.09664063, 0.09552968, 0.10016389, 0.10404476, 0.10266048]),\n",
       "  'HR@20': array([0.3622, 0.3644, 0.3692, 0.3688, 0.377 ]),\n",
       "  'nDCG@20': array([0.08663983, 0.08813435, 0.09221718, 0.09244144, 0.09196726]),\n",
       "  'recall@20': array([0.1307674 , 0.12844185, 0.13416987, 0.13852759, 0.13765845]),\n",
       "  'ideal_recall@20': array([0.98262082, 0.98262082, 0.98262082, 0.98262082, 0.98262082]),\n",
       "  'nRecall@20': array([0.13240557, 0.13008571, 0.13568505, 0.14012123, 0.13933466])},\n",
       " {'HR@5': array([0.1968, 0.194 , 0.1974, 0.2052, 0.2076]),\n",
       "  'nDCG@5': array([0.07221759, 0.06858665, 0.07392902, 0.07596053, 0.07615423]),\n",
       "  'recall@5': array([0.06026353, 0.05846807, 0.0644439 , 0.0663927 , 0.06300919]),\n",
       "  'ideal_recall@5': array([0.85512594, 0.85512594, 0.85512594, 0.85512594, 0.85512594]),\n",
       "  'nRecall@5': array([0.07652333, 0.07355333, 0.07915   , 0.08254   , 0.07979333]),\n",
       "  'HR@10': array([0.2712, 0.268 , 0.2644, 0.2826, 0.2822]),\n",
       "  'nDCG@10': array([0.07679117, 0.07406262, 0.07741394, 0.08218413, 0.0814483 ]),\n",
       "  'recall@10': array([0.08551858, 0.08410729, 0.08590883, 0.09448296, 0.09018656]),\n",
       "  'ideal_recall@10': array([0.94290347, 0.94290347, 0.94290347, 0.94290347, 0.94290347]),\n",
       "  'nRecall@10': array([0.09227698, 0.0905546 , 0.09185452, 0.10105929, 0.0973473 ]),\n",
       "  'HR@20': array([0.3542, 0.352 , 0.3534, 0.3636, 0.3654]),\n",
       "  'nDCG@20': array([0.08672046, 0.08420233, 0.08773063, 0.091416  , 0.09065055]),\n",
       "  'recall@20': array([0.12077874, 0.11821331, 0.12091301, 0.12689843, 0.12231956]),\n",
       "  'ideal_recall@20': array([0.98262082, 0.98262082, 0.98262082, 0.98262082, 0.98262082]),\n",
       "  'nRecall@20': array([0.12298706, 0.12023154, 0.12287519, 0.1289193 , 0.12460668])}]"
      ]
     },
     "execution_count": 5,
     "metadata": {},
     "output_type": "execute_result"
    }
   ],
   "source": [
    "dim_reds = [\n",
    "    PCA(n_components=200, random_state=500, whiten=False), PCA(n_components=200, random_state=500, whiten=True),\n",
    "    PCA(n_components=300, random_state=500, whiten=False), PCA(n_components=300, random_state=500, whiten=True),\n",
    "    PCA(n_components=400, random_state=500, whiten=False), PCA(n_components=400, random_state=500, whiten=True),\n",
    "    PCA(n_components=500, random_state=500, whiten=False), PCA(n_components=500, random_state=500, whiten=True)]\n",
    "labels = [\n",
    "    \"PCA nc=200\", \"PCA nc=200 whitened\",\n",
    "    \"PCA nc=300\", \"PCA nc=300 whitened\",\n",
    "    \"PCA nc=400\", \"PCA nc=400 Whitened\",\n",
    "    \"PCA nc=500\", \"PCA nc=500 Whitened\"]\n",
    "# use_data = ['specs', 'genres', 'tags', 'early_access', 'publisher', 'developer']\n",
    "results = []\n",
    "for dim_red in dim_reds:\n",
    "    evaluations = []\n",
    "    for split in range(am_splits):\n",
    "        rec = ImprovedRecommender(items_path, train_path=f\"{data_path}{split}_train.parquet\", test_path=f\"{data_path}{split}_test.parquet\",\n",
    "                                val_path=f\"{data_path}{split}_val.parquet\", reviews_path=reviews_path, sparse=False, tfidf=\"smooth\", normalize=True, dim_red=dim_red)\n",
    "        rec.generate_recommendations(amount=am_recommended, read_max=5000, silence=True)\n",
    "        evaluation = dict()\n",
    "        for k in k_values:\n",
    "            evaluation.update(rec.evaluate(val=False, k=k))\n",
    "        evaluations.append(evaluation)\n",
    "    evaluations = invert_dict(evaluations)\n",
    "    results.append(evaluations)\n",
    "\n",
    "\n",
    "save_pickle(quant_output_path + f\"ImprovedRec_PCA.pickle.gz\", labels)\n",
    "save_pickle(quant_output_path + f\"ImprovedRec_PCA_results.pickle.gz\", results)\n",
    "\n",
    "results"
   ]
  },
  {
   "cell_type": "markdown",
   "metadata": {},
   "source": [
    "Experiment for PCA with differen output sizes, using all data that is available in the steam data set for the original item representations."
   ]
  },
  {
   "cell_type": "code",
   "execution_count": 7,
   "metadata": {},
   "outputs": [
    {
     "data": {
      "text/plain": [
       "[{'HR@5': array([0.1778, 0.1794, 0.1828, 0.1782, 0.1776]),\n",
       "  'nDCG@5': array([0.06175334, 0.06231263, 0.06651293, 0.06353535, 0.06281053]),\n",
       "  'recall@5': array([0.05691302, 0.05659321, 0.06178801, 0.05997881, 0.05909648]),\n",
       "  'ideal_recall@5': array([0.85512594, 0.85512594, 0.85512594, 0.85512594, 0.85512594]),\n",
       "  'nRecall@5': array([0.06903667, 0.06821667, 0.07322   , 0.07114   , 0.07072   ]),\n",
       "  'HR@10': array([0.2502, 0.2552, 0.2562, 0.2584, 0.2574]),\n",
       "  'nDCG@10': array([0.06762756, 0.06891715, 0.07299892, 0.07153927, 0.07082147]),\n",
       "  'recall@10': array([0.08190123, 0.08194935, 0.08747443, 0.08758985, 0.08700981]),\n",
       "  'ideal_recall@10': array([0.94290347, 0.94290347, 0.94290347, 0.94290347, 0.94290347]),\n",
       "  'nRecall@10': array([0.0868973 , 0.08680643, 0.09217246, 0.09238468, 0.09198738]),\n",
       "  'HR@20': array([0.354 , 0.3492, 0.36  , 0.3548, 0.3578]),\n",
       "  'nDCG@20': array([0.08070514, 0.08069851, 0.08571034, 0.08418825, 0.08346659]),\n",
       "  'recall@20': array([0.12426492, 0.12046479, 0.12880275, 0.12873571, 0.12777613]),\n",
       "  'ideal_recall@20': array([0.98262082, 0.98262082, 0.98262082, 0.98262082, 0.98262082]),\n",
       "  'nRecall@20': array([0.12608556, 0.12216558, 0.1304771 , 0.13040194, 0.12946421])},\n",
       " {'HR@5': array([0.1876, 0.1886, 0.1914, 0.1914, 0.1956]),\n",
       "  'nDCG@5': array([0.06800426, 0.06909591, 0.07008612, 0.07046665, 0.06933942]),\n",
       "  'recall@5': array([0.0574989 , 0.05876704, 0.06192004, 0.06113452, 0.06121281]),\n",
       "  'ideal_recall@5': array([0.85512594, 0.85512594, 0.85512594, 0.85512594, 0.85512594]),\n",
       "  'nRecall@5': array([0.07262667, 0.0728    , 0.07609   , 0.07558   , 0.07575   ]),\n",
       "  'HR@10': array([0.2624, 0.2614, 0.2594, 0.264 , 0.2724]),\n",
       "  'nDCG@10': array([0.07269279, 0.07344535, 0.07437509, 0.07626187, 0.07534133]),\n",
       "  'recall@10': array([0.08139452, 0.08050863, 0.08402091, 0.08741497, 0.08752523]),\n",
       "  'ideal_recall@10': array([0.94290347, 0.94290347, 0.94290347, 0.94290347, 0.94290347]),\n",
       "  'nRecall@10': array([0.08784397, 0.08641492, 0.08995905, 0.09325278, 0.09364698]),\n",
       "  'HR@20': array([0.349 , 0.3456, 0.3404, 0.3502, 0.3558]),\n",
       "  'nDCG@20': array([0.08343833, 0.08289458, 0.08360867, 0.08638389, 0.08546043]),\n",
       "  'recall@20': array([0.11951726, 0.11275613, 0.11520347, 0.12112023, 0.12177421]),\n",
       "  'ideal_recall@20': array([0.98262082, 0.98262082, 0.98262082, 0.98262082, 0.98262082]),\n",
       "  'nRecall@20': array([0.12175543, 0.11470159, 0.11720421, 0.1229984 , 0.12388153])},\n",
       " {'HR@5': array([0.1808, 0.1902, 0.189 , 0.1884, 0.188 ]),\n",
       "  'nDCG@5': array([0.06501754, 0.06711458, 0.07061434, 0.06860853, 0.06769069]),\n",
       "  'recall@5': array([0.06068078, 0.0614611 , 0.06578037, 0.06422597, 0.06456056]),\n",
       "  'ideal_recall@5': array([0.85512594, 0.85512594, 0.85512594, 0.85512594, 0.85512594]),\n",
       "  'nRecall@5': array([0.07266   , 0.07355   , 0.07745   , 0.07583333, 0.07655333]),\n",
       "  'HR@10': array([0.2596, 0.2624, 0.2622, 0.2682, 0.2676]),\n",
       "  'nDCG@10': array([0.07225828, 0.07286404, 0.07720125, 0.07667222, 0.07540672]),\n",
       "  'recall@10': array([0.08820072, 0.08562503, 0.09158538, 0.09339308, 0.09227755]),\n",
       "  'ideal_recall@10': array([0.94290347, 0.94290347, 0.94290347, 0.94290347, 0.94290347]),\n",
       "  'nRecall@10': array([0.09325333, 0.09043532, 0.09616413, 0.09829476, 0.0974896 ]),\n",
       "  'HR@20': array([0.3584, 0.358 , 0.368 , 0.364 , 0.3704]),\n",
       "  'nDCG@20': array([0.08460077, 0.08530977, 0.08994187, 0.08952187, 0.0884922 ]),\n",
       "  'recall@20': array([0.12875647, 0.12481595, 0.13235154, 0.13502546, 0.13451911]),\n",
       "  'ideal_recall@20': array([0.98262082, 0.98262082, 0.98262082, 0.98262082, 0.98262082]),\n",
       "  'nRecall@20': array([0.130525  , 0.1265031 , 0.13397148, 0.13675376, 0.13622237])},\n",
       " {'HR@5': array([0.1936, 0.1916, 0.1884, 0.1924, 0.2028]),\n",
       "  'nDCG@5': array([0.07000966, 0.06688752, 0.06879034, 0.07028007, 0.07334575]),\n",
       "  'recall@5': array([0.05945759, 0.05632415, 0.05986368, 0.06212549, 0.06255264]),\n",
       "  'ideal_recall@5': array([0.85512594, 0.85512594, 0.85512594, 0.85512594, 0.85512594]),\n",
       "  'nRecall@5': array([0.0752    , 0.07132333, 0.07453667, 0.07670333, 0.07811   ]),\n",
       "  'HR@10': array([0.266 , 0.2646, 0.2586, 0.2758, 0.2788]),\n",
       "  'nDCG@10': array([0.0742248 , 0.07181893, 0.07337492, 0.07742129, 0.0790773 ]),\n",
       "  'recall@10': array([0.08391827, 0.0812615 , 0.08332069, 0.09167769, 0.0892981 ]),\n",
       "  'ideal_recall@10': array([0.94290347, 0.94290347, 0.94290347, 0.94290347, 0.94290347]),\n",
       "  'nRecall@10': array([0.09073698, 0.08731206, 0.08947794, 0.09781135, 0.09603056]),\n",
       "  'HR@20': array([0.346 , 0.35  , 0.351 , 0.36  , 0.3602]),\n",
       "  'nDCG@20': array([0.0835281 , 0.08229803, 0.08370653, 0.0871498 , 0.08860827]),\n",
       "  'recall@20': array([0.11792124, 0.11620003, 0.11839069, 0.12496492, 0.12303891]),\n",
       "  'ideal_recall@20': array([0.98262082, 0.98262082, 0.98262082, 0.98262082, 0.98262082]),\n",
       "  'nRecall@20': array([0.12019473, 0.11818945, 0.12037094, 0.12688335, 0.12520882])},\n",
       " {'HR@5': array([0.1848, 0.1914, 0.1888, 0.19  , 0.1918]),\n",
       "  'nDCG@5': array([0.06640383, 0.06806532, 0.07216883, 0.07051292, 0.07000708]),\n",
       "  'recall@5': array([0.06256346, 0.06174927, 0.06833579, 0.06735582, 0.06728005]),\n",
       "  'ideal_recall@5': array([0.85512594, 0.85512594, 0.85512594, 0.85512594, 0.85512594]),\n",
       "  'nRecall@5': array([0.07456667, 0.07389667, 0.07934667, 0.07905333, 0.07932667]),\n",
       "  'HR@10': array([0.2652, 0.2684, 0.2664, 0.2746, 0.2732]),\n",
       "  'nDCG@10': array([0.07355049, 0.0747417 , 0.07910761, 0.07873728, 0.07752554]),\n",
       "  'recall@10': array([0.09047893, 0.08847808, 0.09338141, 0.0964733 , 0.09427251]),\n",
       "  'ideal_recall@10': array([0.94290347, 0.94290347, 0.94290347, 0.94290347, 0.94290347]),\n",
       "  'nRecall@10': array([0.09537246, 0.09323635, 0.09805476, 0.10128984, 0.09943492]),\n",
       "  'HR@20': array([0.3602, 0.363 , 0.3682, 0.372 , 0.3756]),\n",
       "  'nDCG@20': array([0.08570633, 0.08716955, 0.09125046, 0.0919391 , 0.09088703]),\n",
       "  'recall@20': array([0.1302562 , 0.12791433, 0.13254701, 0.13835484, 0.13683207]),\n",
       "  'ideal_recall@20': array([0.98262082, 0.98262082, 0.98262082, 0.98262082, 0.98262082]),\n",
       "  'nRecall@20': array([0.1319505 , 0.12959041, 0.13409776, 0.1400442 , 0.13854045])},\n",
       " {'HR@5': array([0.195 , 0.1908, 0.1968, 0.2044, 0.2066]),\n",
       "  'nDCG@5': array([0.07038023, 0.06712884, 0.07367018, 0.07405739, 0.07551803]),\n",
       "  'recall@5': array([0.05940817, 0.05635946, 0.06408332, 0.06485489, 0.06327517]),\n",
       "  'ideal_recall@5': array([0.85512594, 0.85512594, 0.85512594, 0.85512594, 0.85512594]),\n",
       "  'nRecall@5': array([0.07565333, 0.07120333, 0.07907667, 0.08054667, 0.07954   ]),\n",
       "  'HR@10': array([0.2684, 0.2652, 0.2618, 0.2832, 0.28  ]),\n",
       "  'nDCG@10': array([0.07506382, 0.07282129, 0.07725441, 0.08060657, 0.08089653]),\n",
       "  'recall@10': array([0.08510569, 0.0823642 , 0.08638315, 0.09413973, 0.0904265 ]),\n",
       "  'ideal_recall@10': array([0.94290347, 0.94290347, 0.94290347, 0.94290347, 0.94290347]),\n",
       "  'nRecall@10': array([0.09185   , 0.08861746, 0.09240802, 0.10055786, 0.0973019 ]),\n",
       "  'HR@20': array([0.3518, 0.3502, 0.348 , 0.3586, 0.3606]),\n",
       "  'nDCG@20': array([0.08463818, 0.08332426, 0.08650902, 0.08943604, 0.08987851]),\n",
       "  'recall@20': array([0.11866931, 0.1171477 , 0.11757152, 0.12486724, 0.12144827]),\n",
       "  'ideal_recall@20': array([0.98262082, 0.98262082, 0.98262082, 0.98262082, 0.98262082]),\n",
       "  'nRecall@20': array([0.12087679, 0.11917095, 0.11956774, 0.12685889, 0.12363292])},\n",
       " {'HR@5': array([0.1884, 0.194 , 0.1918, 0.1928, 0.1934]),\n",
       "  'nDCG@5': array([0.06818411, 0.06912778, 0.07269782, 0.0717348 , 0.07088218]),\n",
       "  'recall@5': array([0.06465953, 0.06299865, 0.06941262, 0.06879352, 0.06821109]),\n",
       "  'ideal_recall@5': array([0.85512594, 0.85512594, 0.85512594, 0.85512594, 0.85512594]),\n",
       "  'nRecall@5': array([0.07681333, 0.07523333, 0.0803    , 0.08053   , 0.08005333]),\n",
       "  'HR@10': array([0.2658, 0.2696, 0.2692, 0.2752, 0.277 ]),\n",
       "  'nDCG@10': array([0.0749588 , 0.07590627, 0.08004132, 0.08055539, 0.07940945]),\n",
       "  'recall@10': array([0.09220728, 0.09097718, 0.09574027, 0.09988698, 0.09766504]),\n",
       "  'ideal_recall@10': array([0.94290347, 0.94290347, 0.94290347, 0.94290347, 0.94290347]),\n",
       "  'nRecall@10': array([0.09694873, 0.09554135, 0.10018548, 0.10470262, 0.10293016]),\n",
       "  'HR@20': array([0.3622, 0.3632, 0.3686, 0.3696, 0.378 ]),\n",
       "  'nDCG@20': array([0.08683794, 0.088154  , 0.09206034, 0.09270489, 0.09210391]),\n",
       "  'recall@20': array([0.131027  , 0.12866765, 0.13444292, 0.13896502, 0.13811946]),\n",
       "  'ideal_recall@20': array([0.98262082, 0.98262082, 0.98262082, 0.98262082, 0.98262082]),\n",
       "  'nRecall@20': array([0.13266963, 0.13031084, 0.13596691, 0.1405554 , 0.13980667])},\n",
       " {'HR@5': array([0.1962, 0.1976, 0.1952, 0.2062, 0.209 ]),\n",
       "  'nDCG@5': array([0.07213803, 0.06913075, 0.07414424, 0.07557867, 0.07575626]),\n",
       "  'recall@5': array([0.06002458, 0.05836315, 0.06365367, 0.06663027, 0.06350306]),\n",
       "  'ideal_recall@5': array([0.85512594, 0.85512594, 0.85512594, 0.85512594, 0.85512594]),\n",
       "  'nRecall@5': array([0.07631   , 0.07426333, 0.07827   , 0.08268667, 0.08023   ]),\n",
       "  'HR@10': array([0.2726, 0.2662, 0.266 , 0.2804, 0.2816]),\n",
       "  'nDCG@10': array([0.07676162, 0.07379184, 0.0781134 , 0.08144077, 0.08104915]),\n",
       "  'recall@10': array([0.08556402, 0.08340247, 0.08611261, 0.09354101, 0.0902644 ]),\n",
       "  'ideal_recall@10': array([0.94290347, 0.94290347, 0.94290347, 0.94290347, 0.94290347]),\n",
       "  'nRecall@10': array([0.09234952, 0.08973484, 0.09202143, 0.10024667, 0.09728667]),\n",
       "  'HR@20': array([0.355 , 0.3502, 0.3546, 0.3622, 0.366 ]),\n",
       "  'nDCG@20': array([0.08683169, 0.08387644, 0.08848121, 0.09068074, 0.09033553]),\n",
       "  'recall@20': array([0.12142137, 0.11694069, 0.12079157, 0.12576717, 0.12247719]),\n",
       "  'ideal_recall@20': array([0.98262082, 0.98262082, 0.98262082, 0.98262082, 0.98262082]),\n",
       "  'nRecall@20': array([0.12363615, 0.11893645, 0.12280269, 0.12782067, 0.12476751])}]"
      ]
     },
     "execution_count": 7,
     "metadata": {},
     "output_type": "execute_result"
    }
   ],
   "source": [
    "dim_reds = [\n",
    "    PCA(n_components=200, random_state=500, whiten=False), PCA(n_components=200, random_state=500, whiten=True),\n",
    "    PCA(n_components=300, random_state=500, whiten=False), PCA(n_components=300, random_state=500, whiten=True),\n",
    "    PCA(n_components=400, random_state=500, whiten=False), PCA(n_components=400, random_state=500, whiten=True),\n",
    "    PCA(n_components=500, random_state=500, whiten=False), PCA(n_components=500, random_state=500, whiten=True)]\n",
    "labels = [\n",
    "    \"PCA AllData nc=200\", \"PCA AllData nc=200 whitened\",\n",
    "    \"PCA AllData nc=300\", \"PCA AllData nc=300 whitened\",\n",
    "    \"PCA AllData nc=400\", \"PCA AllData nc=400 Whitened\",\n",
    "    \"PCA AllData nc=500\", \"PCA AllData nc=500 Whitened\"]\n",
    "columns = ['specs', 'genres', 'tags', 'early_access', 'publisher', 'developer']\n",
    "results = []\n",
    "for dim_red in dim_reds:\n",
    "    evaluations = []\n",
    "    for split in range(am_splits):\n",
    "        rec = ImprovedRecommender(items_path, train_path=f\"{data_path}{split}_train.parquet\", test_path=f\"{data_path}{split}_test.parquet\",\n",
    "                                val_path=f\"{data_path}{split}_val.parquet\", reviews_path=reviews_path, sparse=False, tfidf=\"smooth\", normalize=True, dim_red=dim_red, columns=columns)\n",
    "        rec.generate_recommendations(amount=am_recommended, read_max=5000, silence=True)\n",
    "        evaluation = dict()\n",
    "        for k in k_values:\n",
    "            evaluation.update(rec.evaluate(val=False, k=k))\n",
    "        evaluations.append(evaluation)\n",
    "    evaluations = invert_dict(evaluations)\n",
    "    results.append(evaluations)\n",
    "\n",
    "\n",
    "save_pickle(quant_output_path + f\"ImprovedRec_PCA_alldata.pickle.gz\", labels)\n",
    "save_pickle(quant_output_path + f\"ImprovedRec_PCA_alldata_results.pickle.gz\", results)\n",
    "\n",
    "results"
   ]
  }
 ],
 "metadata": {
  "interpreter": {
   "hash": "64dc3e748883430fd73e07c7431dac127012ab88bcfa4187114a89d6e3756f23"
  },
  "kernelspec": {
   "display_name": "Python 3.8.10 64-bit",
   "language": "python",
   "name": "python3"
  },
  "language_info": {
   "codemirror_mode": {
    "name": "ipython",
    "version": 3
   },
   "file_extension": ".py",
   "mimetype": "text/x-python",
   "name": "python",
   "nbconvert_exporter": "python",
   "pygments_lexer": "ipython3",
   "version": "3.8.8"
  },
  "orig_nbformat": 4
 },
 "nbformat": 4,
 "nbformat_minor": 2
}
