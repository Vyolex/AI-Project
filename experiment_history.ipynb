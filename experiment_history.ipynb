{
 "cells": [
  {
   "cell_type": "code",
   "execution_count": 1,
   "metadata": {},
   "outputs": [],
   "source": [
    "from src.recommenders import ImprovedRecommender, PopBasedRecommender\n",
    "from sklearn.decomposition import TruncatedSVD, PCA, IncrementalPCA, KernelPCA, SparsePCA\n",
    "import numpy as np\n",
    "import pickle"
   ]
  },
  {
   "cell_type": "code",
   "execution_count": 2,
   "metadata": {},
   "outputs": [],
   "source": [
    "output_path = \"./evaluation/\"\n",
    "items_path = \"./data/games.pkl\"\n",
    "data_path = \"./data/interactions_splits_\"\n",
    "reviews_path = \"./data/reviews.parquet\""
   ]
  },
  {
   "cell_type": "code",
   "execution_count": 3,
   "metadata": {},
   "outputs": [],
   "source": [
    "am_splits = 5\n",
    "k_values = [5, 10, 20]"
   ]
  },
  {
   "cell_type": "code",
   "execution_count": 4,
   "metadata": {},
   "outputs": [],
   "source": [
    "def save_pickle(save_path: str, data) -> None:\n",
    "    with open(save_path + \".pickle\", \"wb\") as handle:\n",
    "        pickle.dump(data, handle, protocol=pickle.HIGHEST_PROTOCOL)\n"
   ]
  },
  {
   "cell_type": "code",
   "execution_count": 5,
   "metadata": {},
   "outputs": [],
   "source": [
    "def invert_dict(dicts:list) -> dict:\n",
    "    new_dict = dict()\n",
    "    for i, d in enumerate(dicts):\n",
    "        for key in d.keys():\n",
    "            ar = new_dict.get(key, np.zeros(len(dicts)))\n",
    "            ar[i] = d[key]\n",
    "            new_dict[key] = ar\n",
    "    return new_dict"
   ]
  },
  {
   "cell_type": "code",
   "execution_count": 19,
   "metadata": {},
   "outputs": [
    {
     "data": {
      "text/plain": [
       "{'HR@5': array([0.50643163, 0.50444656, 0.50382722, 0.50357313, 0.50558996]),\n",
       " 'nDCG@5': array([0.18972128, 0.18966486, 0.19010971, 0.18954848, 0.19111418]),\n",
       " 'recall@5': array([0.15457402, 0.15466747, 0.15479303, 0.1544612 , 0.1565749 ]),\n",
       " 'ideal_recall@5': array([0.78360788, 0.78360788, 0.78360788, 0.78360788, 0.78360788]),\n",
       " 'nRecall@5': array([0.20047324, 0.20037425, 0.20040178, 0.19983299, 0.20214679]),\n",
       " 'HR@10': array([0.63258695, 0.63071304, 0.63049071, 0.63109417, 0.63385739]),\n",
       " 'nDCG@10': array([0.19870568, 0.19873141, 0.19913717, 0.19852995, 0.20022896]),\n",
       " 'recall@10': array([0.21966529, 0.21943092, 0.22015371, 0.21925797, 0.22141995]),\n",
       " 'ideal_recall@10': array([0.91868049, 0.91868049, 0.91868049, 0.91868049, 0.91868049]),\n",
       " 'nRecall@10': array([0.23557168, 0.23525505, 0.23582393, 0.23489248, 0.23715273]),\n",
       " 'HR@20': array([0.74734   , 0.74595839, 0.74622836, 0.74662538, 0.74997618]),\n",
       " 'nDCG@20': array([0.22531723, 0.22525447, 0.22569324, 0.22517075, 0.22728064]),\n",
       " 'recall@20': array([0.30800674, 0.30767486, 0.30825237, 0.3077948 , 0.31111677]),\n",
       " 'ideal_recall@20': array([0.97835478, 0.97835478, 0.97835478, 0.97835478, 0.97835478]),\n",
       " 'nRecall@20': array([0.31200404, 0.31163661, 0.31216609, 0.31176456, 0.31508349])}"
      ]
     },
     "execution_count": 19,
     "metadata": {},
     "output_type": "execute_result"
    }
   ],
   "source": [
    "evaluations = list()\n",
    "\n",
    "for split in range(am_splits):\n",
    "    rec = PopBasedRecommender(train_path=f\"{data_path}{split}_train.parquet\", test_path=f\"{data_path}{split}_test.parquet\", val_path=f\"{data_path}{split}_val.parquet\")\n",
    "    rec.generate_recommendations(amount=20)\n",
    "    evaluation = dict()\n",
    "    for k in k_values:\n",
    "        evaluation.update(rec.evaluate(val=False, k=k))\n",
    "    evaluations.append(evaluation)\n",
    "        \n",
    "evaluations = invert_dict(evaluations)\n",
    "save_pickle(output_path + \"pop_based_old\", evaluations)\n",
    "evaluations"
   ]
  },
  {
   "cell_type": "code",
   "execution_count": 7,
   "metadata": {},
   "outputs": [
    {
     "data": {
      "text/plain": [
       "{'HR@5': array([0.24295696, 0.24618072, 0.24451326, 0.24498968, 0.24591075]),\n",
       " 'nDCG@5': array([0.07642187, 0.07635879, 0.07571041, 0.07651719, 0.07639398]),\n",
       " 'recall@5': array([0.05850485, 0.05832972, 0.05797425, 0.05875014, 0.05801129]),\n",
       " 'ideal_recall@5': array([0.78360788, 0.78360788, 0.78360788, 0.78360788, 0.78360788]),\n",
       " 'nRecall@5': array([0.08016939, 0.08050077, 0.07987798, 0.08055926, 0.08008973]),\n",
       " 'HR@10': array([0.35794823, 0.35979038, 0.35945688, 0.36072733, 0.3598539 ]),\n",
       " 'nDCG@10': array([0.08423492, 0.08362828, 0.08382418, 0.08438959, 0.08378751]),\n",
       " 'recall@10': array([0.09527999, 0.09429938, 0.09546468, 0.09594863, 0.09453092]),\n",
       " 'ideal_recall@10': array([0.91868049, 0.91868049, 0.91868049, 0.91868049, 0.91868049]),\n",
       " 'nRecall@10': array([0.10369078, 0.1026387 , 0.10387667, 0.10434023, 0.10292392]),\n",
       " 'HR@20': array([0.48931237, 0.49016992, 0.48867715, 0.48997936, 0.4891218 ]),\n",
       " 'nDCG@20': array([0.10043774, 0.10009629, 0.10006259, 0.10071702, 0.10012304]),\n",
       " 'recall@20': array([0.14900207, 0.14843518, 0.14907048, 0.14984189, 0.14821814]),\n",
       " 'ideal_recall@20': array([0.97835478, 0.97835478, 0.97835478, 0.97835478, 0.97835478]),\n",
       " 'nRecall@20': array([0.15112733, 0.15060231, 0.15121494, 0.15199705, 0.15039626])}"
      ]
     },
     "execution_count": 7,
     "metadata": {},
     "output_type": "execute_result"
    }
   ],
   "source": [
    "evaluations = list()\n",
    "use_data = [\"specs\", \"genres\", \"tags\", \"early_access\", \"publisher\"]\n",
    "weighting_scheme = {\"playtime\": True, \"sentiment\": \"mixed\", \"reviews\": True}\n",
    "for split in range(am_splits):\n",
    "    rec = ImprovedRecommender(items_path, train_path=f\"{data_path}{split}_train.parquet\", test_path=f\"{data_path}{split}_test.parquet\",\n",
    "                              val_path=f\"{data_path}{split}_val.parquet\", reviews_path=reviews_path, sparse=True, tfidf=\"smooth\", normalize=True, dim_red=None, columns=use_data, weighting_scheme=weighting_scheme)\n",
    "    rec.generate_recommendations(amount=20, silence=True)\n",
    "    evaluation = dict()\n",
    "    for k in k_values:\n",
    "        evaluation.update(rec.evaluate(val=False, k=k))\n",
    "    evaluations.append(evaluation)\n",
    "\n",
    "evaluations = invert_dict(evaluations)\n",
    "save_pickle(output_path + \"improved_old\", evaluations)\n",
    "evaluations"
   ]
  },
  {
   "cell_type": "code",
   "execution_count": 6,
   "metadata": {},
   "outputs": [
    {
     "data": {
      "text/plain": [
       "{'HR@5': array([0.32709227, 0.32472606, 0.32707639, 0.32713991, 0.3247737 ]),\n",
       " 'nDCG@5': array([0.10327671, 0.10219285, 0.1030295 , 0.10308206, 0.10242568]),\n",
       " 'recall@5': array([0.08724234, 0.08643466, 0.08698744, 0.08757959, 0.08593902]),\n",
       " 'ideal_recall@5': array([0.78360788, 0.78360788, 0.78360788, 0.78360788, 0.78360788]),\n",
       " 'nRecall@5': array([0.11322932, 0.11204198, 0.11294214, 0.11326002, 0.11158806]),\n",
       " 'HR@10': array([0.46055264, 0.4578053 , 0.460505  , 0.46025091, 0.45952041]),\n",
       " 'nDCG@10': array([0.11589327, 0.11516996, 0.11581641, 0.11579307, 0.11549489]),\n",
       " 'recall@10': array([0.1377144 , 0.13726897, 0.13766463, 0.13807317, 0.13757186]),\n",
       " 'ideal_recall@10': array([0.91868049, 0.91868049, 0.91868049, 0.91868049, 0.91868049]),\n",
       " 'nRecall@10': array([0.1466803 , 0.14620667, 0.14657176, 0.14686447, 0.14640347]),\n",
       " 'HR@20': array([0.58759727, 0.58537399, 0.58788312, 0.58893124, 0.58821661]),\n",
       " 'nDCG@20': array([0.13570283, 0.13498625, 0.13587094, 0.13594861, 0.13547466]),\n",
       " 'recall@20': array([0.20005438, 0.19926393, 0.20047448, 0.20129813, 0.19988986]),\n",
       " 'ideal_recall@20': array([0.97835478, 0.97835478, 0.97835478, 0.97835478, 0.97835478]),\n",
       " 'nRecall@20': array([0.20221437, 0.2014207 , 0.20261913, 0.20343272, 0.20203975])}"
      ]
     },
     "execution_count": 6,
     "metadata": {},
     "output_type": "execute_result"
    }
   ],
   "source": [
    "evaluations = list()\n",
    "use_data = [\"specs\", \"genres\", \"tags\", \"early_access\", \"publisher\"]\n",
    "weighting_scheme = {\"playtime\": False, \"sentiment\": \"mixed\", \"reviews\": True}\n",
    "for split in range(am_splits):\n",
    "    rec = ImprovedRecommender(items_path, train_path=f\"{data_path}{split}_train.parquet\", test_path=f\"{data_path}{split}_test.parquet\",\n",
    "                              val_path=f\"{data_path}{split}_val.parquet\", reviews_path=reviews_path, sparse=True, tfidf=\"smooth\", normalize=True, dim_red=None, columns=use_data, weighting_scheme=weighting_scheme)\n",
    "    rec.generate_recommendations(amount=20, silence=True)\n",
    "    evaluation = dict()\n",
    "    for k in k_values:\n",
    "        evaluation.update(rec.evaluate(val=False, k=k))\n",
    "    evaluations.append(evaluation)\n",
    "\n",
    "evaluations = invert_dict(evaluations)\n",
    "save_pickle(output_path + \"improved_noplay_old\", evaluations)\n",
    "evaluations"
   ]
  },
  {
   "cell_type": "code",
   "execution_count": 7,
   "metadata": {},
   "outputs": [
    {
     "name": "stderr",
     "output_type": "stream",
     "text": [
      "d:\\Documents\\University\\Master\\AI Project\\AI-Project\\src\\recommenders.py:348: RuntimeWarning: Both playtime and sentiment in weighting were set to 'False', using playtime.\n",
      "  warnings.warn(\"Both playtime and sentiment in weighting were set to 'False', using playtime.\", RuntimeWarning)\n"
     ]
    },
    {
     "data": {
      "text/plain": [
       "{'HR@10': 0.4482293155470859,\n",
       " 'nDCG@10': 0.11380874154233078,\n",
       " 'recall@10': 0.13496189808065726,\n",
       " 'ideal_recall@10': 0.9186804883480776,\n",
       " 'nRecall@10': 0.14345050301100803}"
      ]
     },
     "execution_count": 7,
     "metadata": {},
     "output_type": "execute_result"
    }
   ],
   "source": [
    "use_data = [\"specs\", \"genres\", \"tags\", \"early_access\", \"publisher\"]\n",
    "weighting_scheme = {\"playtime\": False, \"sentiment\": False, \"reviews\": False}\n",
    "\n",
    "rec = ImprovedRecommender(items_path, train_path=f\"{data_path}0_train.parquet\", test_path=f\"{data_path}0_test.parquet\", val_path=f\"{data_path}0_val.parquet\", reviews_path=reviews_path, sparse=True, tfidf=\"smooth\", normalize=True, dim_red=None, columns=use_data, weighting_scheme=weighting_scheme)\n",
    "rec.generate_recommendations(amount=10, silence=True)\n",
    "evaluate = rec.evaluate(val=False, k=10)\n",
    "evaluate"
   ]
  },
  {
   "cell_type": "code",
   "execution_count": null,
   "metadata": {},
   "outputs": [],
   "source": []
  }
 ],
 "metadata": {
  "interpreter": {
   "hash": "9cd4d607d09f139598d14dd337305a88b08d69fdc0c33185f91e0af2ee72dd65"
  },
  "kernelspec": {
   "display_name": "Python 3.9.9 64-bit ('venv': venv)",
   "language": "python",
   "name": "python3"
  },
  "language_info": {
   "codemirror_mode": {
    "name": "ipython",
    "version": 3
   },
   "file_extension": ".py",
   "mimetype": "text/x-python",
   "name": "python",
   "nbconvert_exporter": "python",
   "pygments_lexer": "ipython3",
   "version": "3.9.9"
  },
  "orig_nbformat": 4
 },
 "nbformat": 4,
 "nbformat_minor": 2
}
