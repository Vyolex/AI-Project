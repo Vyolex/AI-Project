{
 "cells": [
  {
   "cell_type": "code",
   "execution_count": null,
   "source": [
    "import itertools\r\n",
    "import shutil\r\n",
    "from multiprocessing import Pool\r\n",
    "from src.evaluate_recommender import evaluate_recommender, generate_gt, map_id_to_name, parse_json\r\n",
    "from os import cpu_count\r\n",
    "from os.path import exists\r\n",
    "qual_eval_folder = './evaluation'"
   ],
   "outputs": [],
   "metadata": {}
  },
  {
   "cell_type": "markdown",
   "source": [
    "From the base recommender results, we will now continue to use the ideal combination of methods as a baseline before we make further improvements.\r\n",
    "This means we use cosine distance and normalized feature vectors. We also don't use feedback weighting.\r\n",
    "\r\n",
    "The following cell runs the basic recommender and provides more in-depth evaluation and compares it to a popularity-based recommender."
   ],
   "metadata": {}
  },
  {
   "cell_type": "code",
   "execution_count": null,
   "source": [],
   "outputs": [],
   "metadata": {}
  }
 ],
 "metadata": {
  "orig_nbformat": 4,
  "language_info": {
   "name": "python"
  }
 },
 "nbformat": 4,
 "nbformat_minor": 2
}