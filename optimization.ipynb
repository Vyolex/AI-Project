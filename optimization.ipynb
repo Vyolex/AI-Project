{
 "cells": [
  {
   "cell_type": "code",
   "execution_count": 1,
   "metadata": {},
   "outputs": [],
   "source": [
    "import itertools\n",
    "import shutil\n",
    "from multiprocessing import Pool\n",
    "from src.recommenders import ImprovedRecommender, PopBasedRecommender\n",
    "from os import cpu_count\n",
    "from os.path import exists\n",
    "from sklearn.decomposition import TruncatedSVD\n",
    "qual_eval_folder = './evaluation'"
   ]
  },
  {
   "cell_type": "markdown",
   "metadata": {},
   "source": [
    "From the base recommender results, we will now continue to use the ideal combination of methods as a baseline before we make further improvements.\n",
    "This means we use cosine distance and normalized feature vectors. We also don't use feedback weighting.\n",
    "\n",
    "The following cell runs the basic recommender and provides more in-depth evaluation and compares it to a popularity-based recommender."
   ]
  },
  {
   "cell_type": "code",
   "execution_count": 6,
   "metadata": {},
   "outputs": [
    {
     "name": "stderr",
     "output_type": "stream",
     "text": [
      "1000it [00:00, 19590.03it/s]\n"
     ]
    },
    {
     "name": "stdout",
     "output_type": "stream",
     "text": [
      "Break reading after 1000 records\n",
      "Reading 1001 rows.\n",
      "{'nDCG@k': 0.506053017999911, 'recall@k': 0.06972603153421748, 'ideal_recall@k': 0.1745280595968364, 'nRecall@k': 0.493580313359646}\n"
     ]
    },
    {
     "name": "stderr",
     "output_type": "stream",
     "text": [
      "32135it [00:01, 21770.31it/s]\n"
     ]
    },
    {
     "name": "stdout",
     "output_type": "stream",
     "text": [
      "Reading 32135 rows.\n"
     ]
    },
    {
     "name": "stderr",
     "output_type": "stream",
     "text": [
      "1000it [00:00, 19589.94it/s]\n"
     ]
    },
    {
     "name": "stdout",
     "output_type": "stream",
     "text": [
      "Break reading after 1000 records\n",
      "Reading 1001 rows.\n"
     ]
    },
    {
     "name": "stderr",
     "output_type": "stream",
     "text": [
      "c:\\Users\\Sam\\Documents\\GitHub\\AI-Project\\src\\recommenders.py:405: RuntimeWarning: Sparse was set to 'True' but dimensionality reduction is used, using dense matrix representation instead.\n",
      "  warnings.warn(\"Sparse was set to 'True' but dimensionality reduction is used, using dense matrix representation instead.\", RuntimeWarning)\n",
      "999it [00:38, 26.06it/s]\n"
     ]
    },
    {
     "data": {
      "text/plain": [
       "{'nDCG@k': 0.18435874971021057,\n",
       " 'recall@k': 0.021854696803229632,\n",
       " 'ideal_recall@k': 0.17286358361933224,\n",
       " 'nRecall@k': 0.17024927971940373}"
      ]
     },
     "execution_count": 6,
     "metadata": {},
     "output_type": "execute_result"
    }
   ],
   "source": [
    "rec = PopBasedRecommender()\n",
    "rec.generate_recommendations(\"./data/australian_user_reviews.json\", read_max=1000)\n",
    "print(rec.evaluate())\n",
    "dim_red = TruncatedSVD(n_components=200)\n",
    "rec = ImprovedRecommender(\"./data/steam_games.json\", sparse=True, tfidf='smooth', use_feedback=False, normalize=True, dim_red=dim_red)\n",
    "rec.generate_recommendations(\"./data/australian_user_reviews.json\", read_max=1000)\n",
    "rec.evaluate()"
   ]
  }
 ],
 "metadata": {
  "interpreter": {
   "hash": "64dc3e748883430fd73e07c7431dac127012ab88bcfa4187114a89d6e3756f23"
  },
  "kernelspec": {
   "display_name": "Python 3.8.10 64-bit",
   "language": "python",
   "name": "python3"
  },
  "language_info": {
   "codemirror_mode": {
    "name": "ipython",
    "version": 3
   },
   "file_extension": ".py",
   "mimetype": "text/x-python",
   "name": "python",
   "nbconvert_exporter": "python",
   "pygments_lexer": "ipython3",
   "version": "3.8.10"
  },
  "orig_nbformat": 4
 },
 "nbformat": 4,
 "nbformat_minor": 2
}
