{
 "cells": [
  {
   "cell_type": "code",
   "execution_count": 3,
   "metadata": {},
   "outputs": [],
   "source": [
    "import itertools\n",
    "import shutil\n",
    "from multiprocessing import Pool\n",
    "from src.recommenders import ImprovedRecommender, PopBasedRecommender\n",
    "from os import cpu_count\n",
    "from os.path import exists\n",
    "from sklearn.decomposition import TruncatedSVD\n",
    "qual_eval_folder = './evaluation'"
   ]
  },
  {
   "cell_type": "markdown",
   "metadata": {},
   "source": [
    "From the base recommender results, we will now continue to use the ideal combination of methods as a baseline before we make further improvements.\n",
    "This means we use cosine distance and normalized feature vectors. We also don't use feedback weighting.\n",
    "\n",
    "The following cell runs the basic recommender and provides more in-depth evaluation and compares it to a popularity-based recommender."
   ]
  },
  {
   "cell_type": "code",
   "execution_count": 5,
   "metadata": {},
   "outputs": [
    {
     "name": "stderr",
     "output_type": "stream",
     "text": [
      "1000it [00:00, 14492.50it/s]\n"
     ]
    },
    {
     "name": "stdout",
     "output_type": "stream",
     "text": [
      "Break reading after 1000 records\n",
      "Reading 1001 rows.\n"
     ]
    },
    {
     "name": "stderr",
     "output_type": "stream",
     "text": [
      "3489it [00:00, 17424.43it/s]"
     ]
    },
    {
     "name": "stdout",
     "output_type": "stream",
     "text": [
      "{'HR@5': 0.9547900968783638, 'nDCG@5': 0.4959111751481147, 'recall@5': 0.036132772974029226, 'ideal_recall@5': 0.09192854361255526, 'nRecall@5': 0.4655005382131325}\n"
     ]
    },
    {
     "name": "stderr",
     "output_type": "stream",
     "text": [
      "32135it [00:01, 16684.51it/s]\n"
     ]
    },
    {
     "name": "stdout",
     "output_type": "stream",
     "text": [
      "Reading 32135 rows.\n"
     ]
    },
    {
     "name": "stderr",
     "output_type": "stream",
     "text": [
      "1000it [00:00, 15384.43it/s]\n"
     ]
    },
    {
     "name": "stdout",
     "output_type": "stream",
     "text": [
      "Break reading after 1000 records\n",
      "Reading 1001 rows.\n"
     ]
    },
    {
     "name": "stderr",
     "output_type": "stream",
     "text": [
      "c:\\Users\\Sam\\Documents\\GitHub\\AI-Project\\src\\recommenders.py:413: RuntimeWarning: Sparse was set to 'True' but dimensionality reduction is used, using dense matrix representation instead.\n",
      "  warnings.warn(\"Sparse was set to 'True' but dimensionality reduction is used, using dense matrix representation instead.\", RuntimeWarning)\n",
      "999it [00:32, 30.30it/s]\n"
     ]
    },
    {
     "data": {
      "text/plain": [
       "{'HR@5': 0.5918827508455468,\n",
       " 'nDCG@5': 0.1973098631812937,\n",
       " 'recall@5': 0.012244252484889617,\n",
       " 'ideal_recall@5': 0.09132511265166662,\n",
       " 'nRecall@5': 0.18038331454340473}"
      ]
     },
     "execution_count": 5,
     "metadata": {},
     "output_type": "execute_result"
    }
   ],
   "source": [
    "rec = PopBasedRecommender()\n",
    "rec.generate_recommendations(\"./data/australian_user_reviews.json\", read_max=1000)\n",
    "print(rec.evaluate(k=5))\n",
    "dim_red = TruncatedSVD(n_components=200, random_state=500)\n",
    "rec = ImprovedRecommender(\"./data/steam_games.json\", sparse=True, tfidf='smooth', use_feedback=False, normalize=True, dim_red=dim_red)\n",
    "rec.generate_recommendations(\"./data/australian_user_reviews.json\", read_max=1000)\n",
    "rec.evaluate(k=5)"
   ]
  }
 ],
 "metadata": {
  "interpreter": {
   "hash": "64dc3e748883430fd73e07c7431dac127012ab88bcfa4187114a89d6e3756f23"
  },
  "kernelspec": {
   "display_name": "Python 3.8.10 64-bit",
   "language": "python",
   "name": "python3"
  },
  "language_info": {
   "codemirror_mode": {
    "name": "ipython",
    "version": 3
   },
   "file_extension": ".py",
   "mimetype": "text/x-python",
   "name": "python",
   "nbconvert_exporter": "python",
   "pygments_lexer": "ipython3",
   "version": "3.8.8"
  },
  "orig_nbformat": 4
 },
 "nbformat": 4,
 "nbformat_minor": 2
}
