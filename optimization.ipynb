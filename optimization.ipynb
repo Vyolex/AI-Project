{
 "cells": [
  {
   "cell_type": "code",
   "execution_count": 1,
   "metadata": {},
   "outputs": [],
   "source": [
    "from src.recommenders import ImprovedRecommender, PopBasedRecommender\n",
    "from sklearn.decomposition import TruncatedSVD, PCA, IncrementalPCA, KernelPCA, SparsePCA\n",
    "import pandas as pd\n",
    "import re\n",
    "import numpy as np"
   ]
  },
  {
   "cell_type": "code",
   "execution_count": 2,
   "metadata": {},
   "outputs": [],
   "source": [
    "qual_eval_folder = './evaluation'\n",
    "items_path = \"./data/games.pkl\"\n",
    "data_path = \"./data/interactions_splits_0\"\n",
    "reviews_path = \"./data/reviews.parquet\""
   ]
  },
  {
   "cell_type": "markdown",
   "metadata": {},
   "source": [
    "From the base recommender results, we will now continue to use the ideal combination of methods as a baseline before we make further improvements.\n",
    "This means we use cosine distance and normalized feature vectors. We also don't use feedback weighting.\n",
    "\n",
    "The following cell runs the basic recommender and provides more in-depth evaluation and compares it to a popularity-based recommender."
   ]
  },
  {
   "cell_type": "code",
   "execution_count": 3,
   "metadata": {},
   "outputs": [
    {
     "data": {
      "text/plain": [
       "{'HR@10': 0.2080642184904964,\n",
       " 'nDCG@10': 0.042073496428109126,\n",
       " 'recall@10': 0.05927747669954759,\n",
       " 'ideal_recall@10': 0.9450448802719371,\n",
       " 'nRecall@10': 0.06391801919759106}"
      ]
     },
     "execution_count": 3,
     "metadata": {},
     "output_type": "execute_result"
    }
   ],
   "source": [
    "rec = PopBasedRecommender(train_path=f\"{data_path}_train.parquet\", test_path=f\"{data_path}_test.parquet\", val_path=f\"{data_path}_val.parquet\")\n",
    "rec.generate_recommendations() # read_max=1000\n",
    "rec.evaluate(k=10)"
   ]
  },
  {
   "cell_type": "code",
   "execution_count": 3,
   "metadata": {},
   "outputs": [
    {
     "name": "stderr",
     "output_type": "stream",
     "text": [
      "54190it [01:08, 794.68it/s] \n",
      "54190it [01:58, 457.15it/s] \n"
     ]
    },
    {
     "data": {
      "text/plain": [
       "{'HR@10': 0.25630190071969,\n",
       " 'nDCG@10': 0.07477908640105389,\n",
       " 'recall@10': 0.09310825248820044,\n",
       " 'ideal_recall@10': 0.9450448802719371,\n",
       " 'nRecall@10': 0.0965415630482986}"
      ]
     },
     "execution_count": 3,
     "metadata": {},
     "output_type": "execute_result"
    }
   ],
   "source": [
    "dim_red = TruncatedSVD(n_components=100, random_state=500)\n",
    "use_data = ['specs', 'genres', 'tags', 'early_access', 'publisher']\n",
    "rec = ImprovedRecommender(items_path, train_path=f\"{data_path}_train.parquet\", test_path=f\"{data_path}_test.parquet\", val_path=f\"{data_path}_val.parquet\", reviews_path=reviews_path, sparse=True, tfidf='smooth', normalize=True, dim_red=None, columns=use_data)\n",
    "rec.generate_recommendations() # read_max=1000\n",
    "rec.evaluate(k=10)"
   ]
  },
  {
   "cell_type": "code",
   "execution_count": 4,
   "metadata": {},
   "outputs": [
    {
     "name": "stderr",
     "output_type": "stream",
     "text": [
      "1000it [00:04, 221.86it/s]\n",
      "1000it [00:02, 335.11it/s]\n"
     ]
    },
    {
     "data": {
      "text/plain": [
       "{'HR@10': 0.486,\n",
       " 'nDCG@10': 0.08197619145181916,\n",
       " 'recall@10': 0.015611512208878174,\n",
       " 'ideal_recall@10': 0.210713794256582,\n",
       " 'nRecall@10': 0.07659999999999999}"
      ]
     },
     "execution_count": 4,
     "metadata": {},
     "output_type": "execute_result"
    }
   ],
   "source": [
    "dim_red = None\n",
    "use_data = ['specs', 'genres', 'tags', 'early_access', 'publisher']\n",
    "rec = ImprovedRecommender(items_path, train_path=f\"{data_path}_train.parquet\", test_path=f\"{data_path}_test.parquet\", val_path=f\"{data_path}_val.parquet\", reviews_path=reviews_path, sparse=True, tfidf='smooth', normalize=True, dim_red=dim_red, columns=use_data)\n",
    "rec.generate_recommendations(read_max=1000) # read_max=1000\n",
    "rec.evaluate(k=10)"
   ]
  },
  {
   "cell_type": "code",
   "execution_count": 5,
   "metadata": {},
   "outputs": [
    {
     "name": "stderr",
     "output_type": "stream",
     "text": [
      "1000it [00:01, 814.92it/s]\n",
      "1000it [00:15, 64.90it/s]\n"
     ]
    },
    {
     "data": {
      "text/plain": [
       "{'HR@10': 0.388,\n",
       " 'nDCG@10': 0.053807912634474465,\n",
       " 'recall@10': 0.011021867277832427,\n",
       " 'ideal_recall@10': 0.210713794256582,\n",
       " 'nRecall@10': 0.0535}"
      ]
     },
     "execution_count": 5,
     "metadata": {},
     "output_type": "execute_result"
    }
   ],
   "source": [
    "dim_red = TruncatedSVD(n_components=300, random_state=500)\n",
    "use_data = ['specs', 'genres', 'tags', 'early_access', 'publisher', 'developer']\n",
    "rec = ImprovedRecommender(items_path, train_path=f\"{data_path}_train.parquet\", test_path=f\"{data_path}_test.parquet\", val_path=f\"{data_path}_val.parquet\", reviews_path=reviews_path, sparse=False, tfidf='smooth', normalize=True, dim_red=dim_red, columns=use_data)\n",
    "rec.generate_recommendations(read_max=1000)\n",
    "rec.evaluate(k=10)"
   ]
  },
  {
   "cell_type": "code",
   "execution_count": 6,
   "metadata": {},
   "outputs": [
    {
     "name": "stderr",
     "output_type": "stream",
     "text": [
      "54190it [00:49, 1094.89it/s]\n",
      "54190it [14:49, 60.93it/s] \n"
     ]
    },
    {
     "data": {
      "text/plain": [
       "{'HR@10': 0.2589038568001476,\n",
       " 'nDCG@10': 0.07147831237560676,\n",
       " 'recall@10': 0.08660981878035039,\n",
       " 'ideal_recall@10': 0.9450448802719371,\n",
       " 'nRecall@10': 0.0914564861436978}"
      ]
     },
     "execution_count": 6,
     "metadata": {},
     "output_type": "execute_result"
    }
   ],
   "source": [
    "dim_red = PCA(n_components=300, random_state=500, whiten=False)\n",
    "use_data = ['specs', 'genres', 'tags', 'early_access', 'publisher', 'developer']\n",
    "rec = ImprovedRecommender(items_path, train_path=f\"{data_path}_train.parquet\", test_path=f\"{data_path}_test.parquet\", val_path=f\"{data_path}_val.parquet\", reviews_path=reviews_path, sparse=False, tfidf='smooth', normalize=True, dim_red=dim_red, columns=use_data)\n",
    "rec.generate_recommendations()\n",
    "rec.evaluate(k=10)"
   ]
  },
  {
   "cell_type": "code",
   "execution_count": 8,
   "metadata": {},
   "outputs": [
    {
     "name": "stderr",
     "output_type": "stream",
     "text": [
      "1000it [00:01, 596.60it/s]\n",
      "1000it [00:22, 43.53it/s]\n"
     ]
    },
    {
     "data": {
      "text/plain": [
       "{'HR@10': 0.498,\n",
       " 'nDCG@10': 0.0860154142835861,\n",
       " 'recall@10': 0.015818049384715562,\n",
       " 'ideal_recall@10': 0.210713794256582,\n",
       " 'nRecall@10': 0.07840000000000001}"
      ]
     },
     "execution_count": 8,
     "metadata": {},
     "output_type": "execute_result"
    }
   ],
   "source": [
    "dim_red = IncrementalPCA(n_components=300, whiten=False)\n",
    "use_data = ['specs', 'genres', 'tags', 'early_access', 'publisher', 'developer']\n",
    "rec = ImprovedRecommender(items_path, train_path=f\"{data_path}_train.parquet\", test_path=f\"{data_path}_test.parquet\", val_path=f\"{data_path}_val.parquet\", reviews_path=reviews_path, sparse=False, tfidf='smooth', normalize=True, dim_red=dim_red, columns=use_data)\n",
    "rec.generate_recommendations(read_max=1000)\n",
    "rec.evaluate(k=10)"
   ]
  },
  {
   "cell_type": "code",
   "execution_count": 9,
   "metadata": {},
   "outputs": [
    {
     "name": "stderr",
     "output_type": "stream",
     "text": [
      "1000it [00:01, 588.01it/s]\n",
      "1000it [00:24, 40.95it/s]\n"
     ]
    },
    {
     "data": {
      "text/plain": [
       "{'HR@10': 0.498,\n",
       " 'nDCG@10': 0.08612152746657255,\n",
       " 'recall@10': 0.015818049384715562,\n",
       " 'ideal_recall@10': 0.210713794256582,\n",
       " 'nRecall@10': 0.07840000000000001}"
      ]
     },
     "execution_count": 9,
     "metadata": {},
     "output_type": "execute_result"
    }
   ],
   "source": [
    "dim_red = KernelPCA(n_components=300)\n",
    "use_data = ['specs', 'genres', 'tags', 'early_access', 'publisher', 'developer']\n",
    "rec = ImprovedRecommender(items_path, train_path=f\"{data_path}_train.parquet\", test_path=f\"{data_path}_test.parquet\", val_path=f\"{data_path}_val.parquet\", reviews_path=reviews_path, sparse=False, tfidf='smooth', normalize=True, dim_red=dim_red, columns=use_data)\n",
    "rec.generate_recommendations(read_max=1000)\n",
    "rec.evaluate(k=10)"
   ]
  },
  {
   "cell_type": "code",
   "execution_count": 10,
   "metadata": {},
   "outputs": [
    {
     "ename": "KeyboardInterrupt",
     "evalue": "",
     "output_type": "error",
     "traceback": [
      "\u001b[1;31m---------------------------------------------------------------------------\u001b[0m",
      "\u001b[1;31mKeyboardInterrupt\u001b[0m                         Traceback (most recent call last)",
      "\u001b[1;32m~\\AppData\\Local\\Temp/ipykernel_20112/890848354.py\u001b[0m in \u001b[0;36m<module>\u001b[1;34m\u001b[0m\n\u001b[0;32m      2\u001b[0m \u001b[0muse_data\u001b[0m \u001b[1;33m=\u001b[0m \u001b[1;33m[\u001b[0m\u001b[1;34m'specs'\u001b[0m\u001b[1;33m,\u001b[0m \u001b[1;34m'genres'\u001b[0m\u001b[1;33m,\u001b[0m \u001b[1;34m'tags'\u001b[0m\u001b[1;33m,\u001b[0m \u001b[1;34m'early_access'\u001b[0m\u001b[1;33m,\u001b[0m \u001b[1;34m'publisher'\u001b[0m\u001b[1;33m,\u001b[0m \u001b[1;34m'developer'\u001b[0m\u001b[1;33m]\u001b[0m\u001b[1;33m\u001b[0m\u001b[1;33m\u001b[0m\u001b[0m\n\u001b[0;32m      3\u001b[0m \u001b[0mrec\u001b[0m \u001b[1;33m=\u001b[0m \u001b[0mImprovedRecommender\u001b[0m\u001b[1;33m(\u001b[0m\u001b[0mitems_path\u001b[0m\u001b[1;33m,\u001b[0m \u001b[0mtrain_path\u001b[0m\u001b[1;33m=\u001b[0m\u001b[1;34mf\"{data_path}_train.parquet\"\u001b[0m\u001b[1;33m,\u001b[0m \u001b[0mtest_path\u001b[0m\u001b[1;33m=\u001b[0m\u001b[1;34mf\"{data_path}_test.parquet\"\u001b[0m\u001b[1;33m,\u001b[0m \u001b[0mval_path\u001b[0m\u001b[1;33m=\u001b[0m\u001b[1;34mf\"{data_path}_val.parquet\"\u001b[0m\u001b[1;33m,\u001b[0m \u001b[0mreviews_path\u001b[0m\u001b[1;33m=\u001b[0m\u001b[0mreviews_path\u001b[0m\u001b[1;33m,\u001b[0m \u001b[0msparse\u001b[0m\u001b[1;33m=\u001b[0m\u001b[1;32mFalse\u001b[0m\u001b[1;33m,\u001b[0m \u001b[0mtfidf\u001b[0m\u001b[1;33m=\u001b[0m\u001b[1;34m'smooth'\u001b[0m\u001b[1;33m,\u001b[0m \u001b[0mnormalize\u001b[0m\u001b[1;33m=\u001b[0m\u001b[1;32mTrue\u001b[0m\u001b[1;33m,\u001b[0m \u001b[0mdim_red\u001b[0m\u001b[1;33m=\u001b[0m\u001b[0mdim_red\u001b[0m\u001b[1;33m,\u001b[0m \u001b[0mcolumns\u001b[0m\u001b[1;33m=\u001b[0m\u001b[0muse_data\u001b[0m\u001b[1;33m)\u001b[0m\u001b[1;33m\u001b[0m\u001b[1;33m\u001b[0m\u001b[0m\n\u001b[1;32m----> 4\u001b[1;33m \u001b[0mrec\u001b[0m\u001b[1;33m.\u001b[0m\u001b[0mgenerate_recommendations\u001b[0m\u001b[1;33m(\u001b[0m\u001b[0mread_max\u001b[0m\u001b[1;33m=\u001b[0m\u001b[1;36m1000\u001b[0m\u001b[1;33m)\u001b[0m \u001b[1;31m# read_max=1000\u001b[0m\u001b[1;33m\u001b[0m\u001b[1;33m\u001b[0m\u001b[0m\n\u001b[0m\u001b[0;32m      5\u001b[0m \u001b[0mrec\u001b[0m\u001b[1;33m.\u001b[0m\u001b[0mevaluate\u001b[0m\u001b[1;33m(\u001b[0m\u001b[0mk\u001b[0m\u001b[1;33m=\u001b[0m\u001b[1;36m10\u001b[0m\u001b[1;33m)\u001b[0m\u001b[1;33m\u001b[0m\u001b[1;33m\u001b[0m\u001b[0m\n",
      "\u001b[1;32mc:\\Users\\Sam\\Documents\\GitHub\\AI-Project\\src\\recommenders.py\u001b[0m in \u001b[0;36mgenerate_recommendations\u001b[1;34m(self, amount, read_max)\u001b[0m\n\u001b[0;32m    380\u001b[0m         \u001b[1;32mif\u001b[0m \u001b[0mself\u001b[0m\u001b[1;33m.\u001b[0m\u001b[0mdim_red\u001b[0m\u001b[1;33m:\u001b[0m\u001b[1;33m\u001b[0m\u001b[1;33m\u001b[0m\u001b[0m\n\u001b[0;32m    381\u001b[0m             \u001b[1;31m# Use dimensionality reduction\u001b[0m\u001b[1;33m\u001b[0m\u001b[1;33m\u001b[0m\u001b[1;33m\u001b[0m\u001b[0m\n\u001b[1;32m--> 382\u001b[1;33m             \u001b[0mX\u001b[0m \u001b[1;33m=\u001b[0m \u001b[0mself\u001b[0m\u001b[1;33m.\u001b[0m\u001b[0mdim_red\u001b[0m\u001b[1;33m.\u001b[0m\u001b[0mfit_transform\u001b[0m\u001b[1;33m(\u001b[0m\u001b[0mX\u001b[0m\u001b[1;33m)\u001b[0m\u001b[1;33m\u001b[0m\u001b[1;33m\u001b[0m\u001b[0m\n\u001b[0m\u001b[0;32m    383\u001b[0m \u001b[1;33m\u001b[0m\u001b[0m\n\u001b[0;32m    384\u001b[0m         \u001b[1;32mif\u001b[0m \u001b[0mself\u001b[0m\u001b[1;33m.\u001b[0m\u001b[0mnormalize\u001b[0m\u001b[1;33m:\u001b[0m\u001b[1;33m\u001b[0m\u001b[1;33m\u001b[0m\u001b[0m\n",
      "\u001b[1;32m~\\AppData\\Local\\Programs\\Python\\Python38\\lib\\site-packages\\sklearn\\base.py\u001b[0m in \u001b[0;36mfit_transform\u001b[1;34m(self, X, y, **fit_params)\u001b[0m\n\u001b[0;32m    697\u001b[0m         \u001b[1;32mif\u001b[0m \u001b[0my\u001b[0m \u001b[1;32mis\u001b[0m \u001b[1;32mNone\u001b[0m\u001b[1;33m:\u001b[0m\u001b[1;33m\u001b[0m\u001b[1;33m\u001b[0m\u001b[0m\n\u001b[0;32m    698\u001b[0m             \u001b[1;31m# fit method of arity 1 (unsupervised transformation)\u001b[0m\u001b[1;33m\u001b[0m\u001b[1;33m\u001b[0m\u001b[1;33m\u001b[0m\u001b[0m\n\u001b[1;32m--> 699\u001b[1;33m             \u001b[1;32mreturn\u001b[0m \u001b[0mself\u001b[0m\u001b[1;33m.\u001b[0m\u001b[0mfit\u001b[0m\u001b[1;33m(\u001b[0m\u001b[0mX\u001b[0m\u001b[1;33m,\u001b[0m \u001b[1;33m**\u001b[0m\u001b[0mfit_params\u001b[0m\u001b[1;33m)\u001b[0m\u001b[1;33m.\u001b[0m\u001b[0mtransform\u001b[0m\u001b[1;33m(\u001b[0m\u001b[0mX\u001b[0m\u001b[1;33m)\u001b[0m\u001b[1;33m\u001b[0m\u001b[1;33m\u001b[0m\u001b[0m\n\u001b[0m\u001b[0;32m    700\u001b[0m         \u001b[1;32melse\u001b[0m\u001b[1;33m:\u001b[0m\u001b[1;33m\u001b[0m\u001b[1;33m\u001b[0m\u001b[0m\n\u001b[0;32m    701\u001b[0m             \u001b[1;31m# fit method of arity 2 (supervised transformation)\u001b[0m\u001b[1;33m\u001b[0m\u001b[1;33m\u001b[0m\u001b[1;33m\u001b[0m\u001b[0m\n",
      "\u001b[1;32m~\\AppData\\Local\\Programs\\Python\\Python38\\lib\\site-packages\\sklearn\\decomposition\\_sparse_pca.py\u001b[0m in \u001b[0;36mfit\u001b[1;34m(self, X, y)\u001b[0m\n\u001b[0;32m    156\u001b[0m         \u001b[0mcode_init\u001b[0m \u001b[1;33m=\u001b[0m \u001b[0mself\u001b[0m\u001b[1;33m.\u001b[0m\u001b[0mV_init\u001b[0m\u001b[1;33m.\u001b[0m\u001b[0mT\u001b[0m \u001b[1;32mif\u001b[0m \u001b[0mself\u001b[0m\u001b[1;33m.\u001b[0m\u001b[0mV_init\u001b[0m \u001b[1;32mis\u001b[0m \u001b[1;32mnot\u001b[0m \u001b[1;32mNone\u001b[0m \u001b[1;32melse\u001b[0m \u001b[1;32mNone\u001b[0m\u001b[1;33m\u001b[0m\u001b[1;33m\u001b[0m\u001b[0m\n\u001b[0;32m    157\u001b[0m         \u001b[0mdict_init\u001b[0m \u001b[1;33m=\u001b[0m \u001b[0mself\u001b[0m\u001b[1;33m.\u001b[0m\u001b[0mU_init\u001b[0m\u001b[1;33m.\u001b[0m\u001b[0mT\u001b[0m \u001b[1;32mif\u001b[0m \u001b[0mself\u001b[0m\u001b[1;33m.\u001b[0m\u001b[0mU_init\u001b[0m \u001b[1;32mis\u001b[0m \u001b[1;32mnot\u001b[0m \u001b[1;32mNone\u001b[0m \u001b[1;32melse\u001b[0m \u001b[1;32mNone\u001b[0m\u001b[1;33m\u001b[0m\u001b[1;33m\u001b[0m\u001b[0m\n\u001b[1;32m--> 158\u001b[1;33m         Vt, _, E, self.n_iter_ = dict_learning(X.T, n_components,\n\u001b[0m\u001b[0;32m    159\u001b[0m                                                \u001b[0malpha\u001b[0m\u001b[1;33m=\u001b[0m\u001b[0mself\u001b[0m\u001b[1;33m.\u001b[0m\u001b[0malpha\u001b[0m\u001b[1;33m,\u001b[0m\u001b[1;33m\u001b[0m\u001b[1;33m\u001b[0m\u001b[0m\n\u001b[0;32m    160\u001b[0m                                                \u001b[0mtol\u001b[0m\u001b[1;33m=\u001b[0m\u001b[0mself\u001b[0m\u001b[1;33m.\u001b[0m\u001b[0mtol\u001b[0m\u001b[1;33m,\u001b[0m\u001b[1;33m\u001b[0m\u001b[1;33m\u001b[0m\u001b[0m\n",
      "\u001b[1;32m~\\AppData\\Local\\Programs\\Python\\Python38\\lib\\site-packages\\sklearn\\utils\\validation.py\u001b[0m in \u001b[0;36minner_f\u001b[1;34m(*args, **kwargs)\u001b[0m\n\u001b[0;32m     61\u001b[0m             \u001b[0mextra_args\u001b[0m \u001b[1;33m=\u001b[0m \u001b[0mlen\u001b[0m\u001b[1;33m(\u001b[0m\u001b[0margs\u001b[0m\u001b[1;33m)\u001b[0m \u001b[1;33m-\u001b[0m \u001b[0mlen\u001b[0m\u001b[1;33m(\u001b[0m\u001b[0mall_args\u001b[0m\u001b[1;33m)\u001b[0m\u001b[1;33m\u001b[0m\u001b[1;33m\u001b[0m\u001b[0m\n\u001b[0;32m     62\u001b[0m             \u001b[1;32mif\u001b[0m \u001b[0mextra_args\u001b[0m \u001b[1;33m<=\u001b[0m \u001b[1;36m0\u001b[0m\u001b[1;33m:\u001b[0m\u001b[1;33m\u001b[0m\u001b[1;33m\u001b[0m\u001b[0m\n\u001b[1;32m---> 63\u001b[1;33m                 \u001b[1;32mreturn\u001b[0m \u001b[0mf\u001b[0m\u001b[1;33m(\u001b[0m\u001b[1;33m*\u001b[0m\u001b[0margs\u001b[0m\u001b[1;33m,\u001b[0m \u001b[1;33m**\u001b[0m\u001b[0mkwargs\u001b[0m\u001b[1;33m)\u001b[0m\u001b[1;33m\u001b[0m\u001b[1;33m\u001b[0m\u001b[0m\n\u001b[0m\u001b[0;32m     64\u001b[0m \u001b[1;33m\u001b[0m\u001b[0m\n\u001b[0;32m     65\u001b[0m             \u001b[1;31m# extra_args > 0\u001b[0m\u001b[1;33m\u001b[0m\u001b[1;33m\u001b[0m\u001b[1;33m\u001b[0m\u001b[0m\n",
      "\u001b[1;32m~\\AppData\\Local\\Programs\\Python\\Python38\\lib\\site-packages\\sklearn\\decomposition\\_dict_learning.py\u001b[0m in \u001b[0;36mdict_learning\u001b[1;34m(X, n_components, alpha, max_iter, tol, method, n_jobs, dict_init, code_init, callback, verbose, random_state, return_n_iter, positive_dict, positive_code, method_max_iter)\u001b[0m\n\u001b[0;32m    606\u001b[0m                              max_iter=method_max_iter, verbose=verbose)\n\u001b[0;32m    607\u001b[0m         \u001b[1;31m# Update dictionary\u001b[0m\u001b[1;33m\u001b[0m\u001b[1;33m\u001b[0m\u001b[1;33m\u001b[0m\u001b[0m\n\u001b[1;32m--> 608\u001b[1;33m         dictionary, residuals = _update_dict(dictionary.T, X.T, code.T,\n\u001b[0m\u001b[0;32m    609\u001b[0m                                              \u001b[0mverbose\u001b[0m\u001b[1;33m=\u001b[0m\u001b[0mverbose\u001b[0m\u001b[1;33m,\u001b[0m \u001b[0mreturn_r2\u001b[0m\u001b[1;33m=\u001b[0m\u001b[1;32mTrue\u001b[0m\u001b[1;33m,\u001b[0m\u001b[1;33m\u001b[0m\u001b[1;33m\u001b[0m\u001b[0m\n\u001b[0;32m    610\u001b[0m                                              \u001b[0mrandom_state\u001b[0m\u001b[1;33m=\u001b[0m\u001b[0mrandom_state\u001b[0m\u001b[1;33m,\u001b[0m\u001b[1;33m\u001b[0m\u001b[1;33m\u001b[0m\u001b[0m\n",
      "\u001b[1;32m~\\AppData\\Local\\Programs\\Python\\Python38\\lib\\site-packages\\sklearn\\decomposition\\_dict_learning.py\u001b[0m in \u001b[0;36m_update_dict\u001b[1;34m(dictionary, Y, code, verbose, return_r2, random_state, positive)\u001b[0m\n\u001b[0;32m    406\u001b[0m         \u001b[1;31m# R <- 1.0 * U_k * V_k^T + R\u001b[0m\u001b[1;33m\u001b[0m\u001b[1;33m\u001b[0m\u001b[1;33m\u001b[0m\u001b[0m\n\u001b[0;32m    407\u001b[0m         \u001b[0mR\u001b[0m \u001b[1;33m=\u001b[0m \u001b[0mger\u001b[0m\u001b[1;33m(\u001b[0m\u001b[1;36m1.0\u001b[0m\u001b[1;33m,\u001b[0m \u001b[0mdictionary\u001b[0m\u001b[1;33m[\u001b[0m\u001b[1;33m:\u001b[0m\u001b[1;33m,\u001b[0m \u001b[0mk\u001b[0m\u001b[1;33m]\u001b[0m\u001b[1;33m,\u001b[0m \u001b[0mcode\u001b[0m\u001b[1;33m[\u001b[0m\u001b[0mk\u001b[0m\u001b[1;33m,\u001b[0m \u001b[1;33m:\u001b[0m\u001b[1;33m]\u001b[0m\u001b[1;33m,\u001b[0m \u001b[0ma\u001b[0m\u001b[1;33m=\u001b[0m\u001b[0mR\u001b[0m\u001b[1;33m,\u001b[0m \u001b[0moverwrite_a\u001b[0m\u001b[1;33m=\u001b[0m\u001b[1;32mTrue\u001b[0m\u001b[1;33m)\u001b[0m\u001b[1;33m\u001b[0m\u001b[1;33m\u001b[0m\u001b[0m\n\u001b[1;32m--> 408\u001b[1;33m         \u001b[0mdictionary\u001b[0m\u001b[1;33m[\u001b[0m\u001b[1;33m:\u001b[0m\u001b[1;33m,\u001b[0m \u001b[0mk\u001b[0m\u001b[1;33m]\u001b[0m \u001b[1;33m=\u001b[0m \u001b[0mnp\u001b[0m\u001b[1;33m.\u001b[0m\u001b[0mdot\u001b[0m\u001b[1;33m(\u001b[0m\u001b[0mR\u001b[0m\u001b[1;33m,\u001b[0m \u001b[0mcode\u001b[0m\u001b[1;33m[\u001b[0m\u001b[0mk\u001b[0m\u001b[1;33m,\u001b[0m \u001b[1;33m:\u001b[0m\u001b[1;33m]\u001b[0m\u001b[1;33m)\u001b[0m\u001b[1;33m\u001b[0m\u001b[1;33m\u001b[0m\u001b[0m\n\u001b[0m\u001b[0;32m    409\u001b[0m         \u001b[1;32mif\u001b[0m \u001b[0mpositive\u001b[0m\u001b[1;33m:\u001b[0m\u001b[1;33m\u001b[0m\u001b[1;33m\u001b[0m\u001b[0m\n\u001b[0;32m    410\u001b[0m             \u001b[0mnp\u001b[0m\u001b[1;33m.\u001b[0m\u001b[0mclip\u001b[0m\u001b[1;33m(\u001b[0m\u001b[0mdictionary\u001b[0m\u001b[1;33m[\u001b[0m\u001b[1;33m:\u001b[0m\u001b[1;33m,\u001b[0m \u001b[0mk\u001b[0m\u001b[1;33m]\u001b[0m\u001b[1;33m,\u001b[0m \u001b[1;36m0\u001b[0m\u001b[1;33m,\u001b[0m \u001b[1;32mNone\u001b[0m\u001b[1;33m,\u001b[0m \u001b[0mout\u001b[0m\u001b[1;33m=\u001b[0m\u001b[0mdictionary\u001b[0m\u001b[1;33m[\u001b[0m\u001b[1;33m:\u001b[0m\u001b[1;33m,\u001b[0m \u001b[0mk\u001b[0m\u001b[1;33m]\u001b[0m\u001b[1;33m)\u001b[0m\u001b[1;33m\u001b[0m\u001b[1;33m\u001b[0m\u001b[0m\n",
      "\u001b[1;31mKeyboardInterrupt\u001b[0m: "
     ]
    }
   ],
   "source": [
    "dim_red = SparsePCA(n_components=300, n_jobs=8)\n",
    "use_data = ['specs', 'genres', 'tags', 'early_access', 'publisher', 'developer']\n",
    "rec = ImprovedRecommender(items_path, train_path=f\"{data_path}_train.parquet\", test_path=f\"{data_path}_test.parquet\", val_path=f\"{data_path}_val.parquet\", reviews_path=reviews_path, sparse=False, tfidf='smooth', normalize=True, dim_red=dim_red, columns=use_data)\n",
    "rec.generate_recommendations(read_max=1000) # read_max=1000\n",
    "rec.evaluate(k=10)"
   ]
  },
  {
   "cell_type": "code",
   "execution_count": 5,
   "metadata": {},
   "outputs": [
    {
     "data": {
      "text/html": [
       "<div>\n",
       "<style scoped>\n",
       "    .dataframe tbody tr th:only-of-type {\n",
       "        vertical-align: middle;\n",
       "    }\n",
       "\n",
       "    .dataframe tbody tr th {\n",
       "        vertical-align: top;\n",
       "    }\n",
       "\n",
       "    .dataframe thead th {\n",
       "        text-align: right;\n",
       "    }\n",
       "</style>\n",
       "<table border=\"1\" class=\"dataframe\">\n",
       "  <thead>\n",
       "    <tr style=\"text-align: right;\">\n",
       "      <th></th>\n",
       "      <th>publisher</th>\n",
       "      <th>genres</th>\n",
       "      <th>app_name</th>\n",
       "      <th>release_date</th>\n",
       "      <th>tags</th>\n",
       "      <th>discount_price</th>\n",
       "      <th>specs</th>\n",
       "      <th>price</th>\n",
       "      <th>early_access</th>\n",
       "      <th>id</th>\n",
       "      <th>developer</th>\n",
       "      <th>sentiment</th>\n",
       "      <th>metascore</th>\n",
       "      <th>users_count</th>\n",
       "    </tr>\n",
       "  </thead>\n",
       "  <tbody>\n",
       "    <tr>\n",
       "      <th>0</th>\n",
       "      <td>[valve]</td>\n",
       "      <td>[action]</td>\n",
       "      <td>Counter-Strike: Global Offensive</td>\n",
       "      <td>2012-08-21</td>\n",
       "      <td>[fps, multiplayer, shooter, action, teambased,...</td>\n",
       "      <td>NaN</td>\n",
       "      <td>[multiplayer, steamachievements, fullcontrolle...</td>\n",
       "      <td>14.99</td>\n",
       "      <td>[]</td>\n",
       "      <td>730</td>\n",
       "      <td>[valve]</td>\n",
       "      <td>Very Positive</td>\n",
       "      <td>83.0</td>\n",
       "      <td>42620</td>\n",
       "    </tr>\n",
       "    <tr>\n",
       "      <th>1</th>\n",
       "      <td>[valve]</td>\n",
       "      <td>[indie, simulation]</td>\n",
       "      <td>Garry's Mod</td>\n",
       "      <td>2006-11-29</td>\n",
       "      <td>[sandbox, multiplayer, funny, moddable, buildi...</td>\n",
       "      <td>NaN</td>\n",
       "      <td>[singleplayer, multiplayer, coop, crossplatfor...</td>\n",
       "      <td>9.99</td>\n",
       "      <td>[]</td>\n",
       "      <td>4000</td>\n",
       "      <td>[facepunch studios]</td>\n",
       "      <td>Overwhelmingly Positive</td>\n",
       "      <td>NaN</td>\n",
       "      <td>42157</td>\n",
       "    </tr>\n",
       "    <tr>\n",
       "      <th>2</th>\n",
       "      <td>[smartly dressed games]</td>\n",
       "      <td>[action, adventure, casual, freetoplay, indie]</td>\n",
       "      <td>Unturned</td>\n",
       "      <td>2017-07-07</td>\n",
       "      <td>[freetoplay, survival, zombies, multiplayer, o...</td>\n",
       "      <td>NaN</td>\n",
       "      <td>[singleplayer, onlinemultiplayer, onlinecoop, ...</td>\n",
       "      <td>0.00</td>\n",
       "      <td>[]</td>\n",
       "      <td>304930</td>\n",
       "      <td>[smartly dressed games]</td>\n",
       "      <td>Very Positive</td>\n",
       "      <td>NaN</td>\n",
       "      <td>37654</td>\n",
       "    </tr>\n",
       "    <tr>\n",
       "      <th>3</th>\n",
       "      <td>[valve]</td>\n",
       "      <td>[action]</td>\n",
       "      <td>Left 4 Dead 2</td>\n",
       "      <td>2009-11-16</td>\n",
       "      <td>[zombies, coop, fps, multiplayer, action, onli...</td>\n",
       "      <td>NaN</td>\n",
       "      <td>[singleplayer, multiplayer, coop, steamachieve...</td>\n",
       "      <td>19.99</td>\n",
       "      <td>[]</td>\n",
       "      <td>550</td>\n",
       "      <td>[valve]</td>\n",
       "      <td>Overwhelmingly Positive</td>\n",
       "      <td>89.0</td>\n",
       "      <td>35990</td>\n",
       "    </tr>\n",
       "    <tr>\n",
       "      <th>4</th>\n",
       "      <td>[re-logic]</td>\n",
       "      <td>[action, adventure, indie, rpg]</td>\n",
       "      <td>Terraria</td>\n",
       "      <td>2011-05-16</td>\n",
       "      <td>[sandbox, adventure, survival, 2d, multiplayer...</td>\n",
       "      <td>NaN</td>\n",
       "      <td>[singleplayer, multiplayer, onlinemultiplayer,...</td>\n",
       "      <td>9.99</td>\n",
       "      <td>[]</td>\n",
       "      <td>105600</td>\n",
       "      <td>[re-logic]</td>\n",
       "      <td>Overwhelmingly Positive</td>\n",
       "      <td>83.0</td>\n",
       "      <td>28551</td>\n",
       "    </tr>\n",
       "    <tr>\n",
       "      <th>...</th>\n",
       "      <td>...</td>\n",
       "      <td>...</td>\n",
       "      <td>...</td>\n",
       "      <td>...</td>\n",
       "      <td>...</td>\n",
       "      <td>...</td>\n",
       "      <td>...</td>\n",
       "      <td>...</td>\n",
       "      <td>...</td>\n",
       "      <td>...</td>\n",
       "      <td>...</td>\n",
       "      <td>...</td>\n",
       "      <td>...</td>\n",
       "      <td>...</td>\n",
       "    </tr>\n",
       "    <tr>\n",
       "      <th>7345</th>\n",
       "      <td>[projectile entertainment]</td>\n",
       "      <td>[indie]</td>\n",
       "      <td>Momentum</td>\n",
       "      <td>2016-08-11</td>\n",
       "      <td>[indie, physics]</td>\n",
       "      <td>NaN</td>\n",
       "      <td>[singleplayer, steamachievements, fullcontroll...</td>\n",
       "      <td>9.99</td>\n",
       "      <td>[]</td>\n",
       "      <td>462130</td>\n",
       "      <td>[projectile entertainment]</td>\n",
       "      <td>8 user reviews</td>\n",
       "      <td>NaN</td>\n",
       "      <td>1</td>\n",
       "    </tr>\n",
       "    <tr>\n",
       "      <th>7346</th>\n",
       "      <td>[nuligine]</td>\n",
       "      <td>[action, indie, racing, simulation]</td>\n",
       "      <td>MadOut Ice Storm</td>\n",
       "      <td>2015-09-04</td>\n",
       "      <td>[racing, indie, action, simulation]</td>\n",
       "      <td>NaN</td>\n",
       "      <td>[singleplayer, fullcontrollersupport]</td>\n",
       "      <td>6.99</td>\n",
       "      <td>[]</td>\n",
       "      <td>400500</td>\n",
       "      <td>[nuligine]</td>\n",
       "      <td>Mixed</td>\n",
       "      <td>NaN</td>\n",
       "      <td>1</td>\n",
       "    </tr>\n",
       "    <tr>\n",
       "      <th>7347</th>\n",
       "      <td>[like a boss llc]</td>\n",
       "      <td>[action, adventure, indie, strategy]</td>\n",
       "      <td>OCCHIO</td>\n",
       "      <td>2016-08-11</td>\n",
       "      <td>[action, adventure, indie, strategy, puzzlepla...</td>\n",
       "      <td>NaN</td>\n",
       "      <td>[singleplayer, fullcontrollersupport]</td>\n",
       "      <td>1.99</td>\n",
       "      <td>[]</td>\n",
       "      <td>513140</td>\n",
       "      <td>[acerio games]</td>\n",
       "      <td>7 user reviews</td>\n",
       "      <td>NaN</td>\n",
       "      <td>1</td>\n",
       "    </tr>\n",
       "    <tr>\n",
       "      <th>7348</th>\n",
       "      <td>[dxf games]</td>\n",
       "      <td>[action, indie, rpg]</td>\n",
       "      <td>Just a Cleric</td>\n",
       "      <td>2016-05-19</td>\n",
       "      <td>[rpg, indie, action, pixelgraphics, difficult]</td>\n",
       "      <td>NaN</td>\n",
       "      <td>[singleplayer, steamachievements, steamtrading...</td>\n",
       "      <td>4.99</td>\n",
       "      <td>[]</td>\n",
       "      <td>467330</td>\n",
       "      <td>[dxf games]</td>\n",
       "      <td>Positive</td>\n",
       "      <td>NaN</td>\n",
       "      <td>1</td>\n",
       "    </tr>\n",
       "    <tr>\n",
       "      <th>7349</th>\n",
       "      <td>[buka entertainment]</td>\n",
       "      <td>[adventure, casual, indie, simulation, strategy]</td>\n",
       "      <td>Farm Frenzy Collection</td>\n",
       "      <td>2015-08-21</td>\n",
       "      <td>[casual, strategy, indie, simulation, adventur...</td>\n",
       "      <td>NaN</td>\n",
       "      <td>[singleplayer, steamtradingcards]</td>\n",
       "      <td>19.99</td>\n",
       "      <td>[]</td>\n",
       "      <td>391000</td>\n",
       "      <td>[alawar entertainment]</td>\n",
       "      <td>Positive</td>\n",
       "      <td>NaN</td>\n",
       "      <td>1</td>\n",
       "    </tr>\n",
       "  </tbody>\n",
       "</table>\n",
       "<p>7350 rows × 14 columns</p>\n",
       "</div>"
      ],
      "text/plain": [
       "                       publisher  \\\n",
       "0                        [valve]   \n",
       "1                        [valve]   \n",
       "2        [smartly dressed games]   \n",
       "3                        [valve]   \n",
       "4                     [re-logic]   \n",
       "...                          ...   \n",
       "7345  [projectile entertainment]   \n",
       "7346                  [nuligine]   \n",
       "7347           [like a boss llc]   \n",
       "7348                 [dxf games]   \n",
       "7349        [buka entertainment]   \n",
       "\n",
       "                                                genres  \\\n",
       "0                                             [action]   \n",
       "1                                  [indie, simulation]   \n",
       "2       [action, adventure, casual, freetoplay, indie]   \n",
       "3                                             [action]   \n",
       "4                      [action, adventure, indie, rpg]   \n",
       "...                                                ...   \n",
       "7345                                           [indie]   \n",
       "7346               [action, indie, racing, simulation]   \n",
       "7347              [action, adventure, indie, strategy]   \n",
       "7348                              [action, indie, rpg]   \n",
       "7349  [adventure, casual, indie, simulation, strategy]   \n",
       "\n",
       "                              app_name release_date  \\\n",
       "0     Counter-Strike: Global Offensive   2012-08-21   \n",
       "1                          Garry's Mod   2006-11-29   \n",
       "2                             Unturned   2017-07-07   \n",
       "3                        Left 4 Dead 2   2009-11-16   \n",
       "4                             Terraria   2011-05-16   \n",
       "...                                ...          ...   \n",
       "7345                          Momentum   2016-08-11   \n",
       "7346                  MadOut Ice Storm   2015-09-04   \n",
       "7347                            OCCHIO   2016-08-11   \n",
       "7348                     Just a Cleric   2016-05-19   \n",
       "7349            Farm Frenzy Collection   2015-08-21   \n",
       "\n",
       "                                                   tags  discount_price  \\\n",
       "0     [fps, multiplayer, shooter, action, teambased,...             NaN   \n",
       "1     [sandbox, multiplayer, funny, moddable, buildi...             NaN   \n",
       "2     [freetoplay, survival, zombies, multiplayer, o...             NaN   \n",
       "3     [zombies, coop, fps, multiplayer, action, onli...             NaN   \n",
       "4     [sandbox, adventure, survival, 2d, multiplayer...             NaN   \n",
       "...                                                 ...             ...   \n",
       "7345                                   [indie, physics]             NaN   \n",
       "7346                [racing, indie, action, simulation]             NaN   \n",
       "7347  [action, adventure, indie, strategy, puzzlepla...             NaN   \n",
       "7348     [rpg, indie, action, pixelgraphics, difficult]             NaN   \n",
       "7349  [casual, strategy, indie, simulation, adventur...             NaN   \n",
       "\n",
       "                                                  specs  price early_access  \\\n",
       "0     [multiplayer, steamachievements, fullcontrolle...  14.99           []   \n",
       "1     [singleplayer, multiplayer, coop, crossplatfor...   9.99           []   \n",
       "2     [singleplayer, onlinemultiplayer, onlinecoop, ...   0.00           []   \n",
       "3     [singleplayer, multiplayer, coop, steamachieve...  19.99           []   \n",
       "4     [singleplayer, multiplayer, onlinemultiplayer,...   9.99           []   \n",
       "...                                                 ...    ...          ...   \n",
       "7345  [singleplayer, steamachievements, fullcontroll...   9.99           []   \n",
       "7346              [singleplayer, fullcontrollersupport]   6.99           []   \n",
       "7347              [singleplayer, fullcontrollersupport]   1.99           []   \n",
       "7348  [singleplayer, steamachievements, steamtrading...   4.99           []   \n",
       "7349                  [singleplayer, steamtradingcards]  19.99           []   \n",
       "\n",
       "          id                   developer                sentiment  metascore  \\\n",
       "0        730                     [valve]            Very Positive       83.0   \n",
       "1       4000         [facepunch studios]  Overwhelmingly Positive        NaN   \n",
       "2     304930     [smartly dressed games]            Very Positive        NaN   \n",
       "3        550                     [valve]  Overwhelmingly Positive       89.0   \n",
       "4     105600                  [re-logic]  Overwhelmingly Positive       83.0   \n",
       "...      ...                         ...                      ...        ...   \n",
       "7345  462130  [projectile entertainment]           8 user reviews        NaN   \n",
       "7346  400500                  [nuligine]                    Mixed        NaN   \n",
       "7347  513140              [acerio games]           7 user reviews        NaN   \n",
       "7348  467330                 [dxf games]                 Positive        NaN   \n",
       "7349  391000      [alawar entertainment]                 Positive        NaN   \n",
       "\n",
       "      users_count  \n",
       "0           42620  \n",
       "1           42157  \n",
       "2           37654  \n",
       "3           35990  \n",
       "4           28551  \n",
       "...           ...  \n",
       "7345            1  \n",
       "7346            1  \n",
       "7347            1  \n",
       "7348            1  \n",
       "7349            1  \n",
       "\n",
       "[7350 rows x 14 columns]"
      ]
     },
     "execution_count": 5,
     "metadata": {},
     "output_type": "execute_result"
    }
   ],
   "source": [
    "items = pd.read_pickle(items_path)\n",
    "items[\"price\"] = items[\"price\"].apply(lambda p: np.float32(p) if re.match(r\"\\d+(?:.\\d{2})?\", str(p)) else 0)\n",
    "items[\"metascore\"] = items[\"metascore\"].apply(lambda m: m if m != \"NA\" else np.nan)\n",
    "items[\"developer\"].fillna(value='', inplace=True)\n",
    "items[\"developer\"] = items[\"developer\"].apply(lambda my_str: my_str.lower().split(','))\n",
    "items[\"publisher\"].fillna(value='', inplace=True)\n",
    "items[\"publisher\"] = items[\"publisher\"].apply(lambda my_str: my_str.lower().split(','))\n",
    "items[\"early_access\"] = items[\"early_access\"].apply(lambda x: [\"earlyaccess\"] if x else [])\n",
    "items[\"specs\"] = items[\"specs\"].apply(lambda l: [re.subn(r\"[^a-z0-9]\", \"\", my_str.lower())[0] for my_str in l])\n",
    "items[\"tags\"] = items[\"tags\"].apply(lambda l: [re.subn(r\"[^a-z0-9]\", \"\", my_str.lower())[0] for my_str in l])\n",
    "items[\"genres\"] = items[\"genres\"].apply(lambda l: [re.subn(r\"[^a-z0-9]\", \"\", my_str.lower())[0] for my_str in l])\n",
    "\n",
    "items"
   ]
  },
  {
   "cell_type": "code",
   "execution_count": 12,
   "metadata": {},
   "outputs": [
    {
     "data": {
      "text/html": [
       "<div>\n",
       "<style scoped>\n",
       "    .dataframe tbody tr th:only-of-type {\n",
       "        vertical-align: middle;\n",
       "    }\n",
       "\n",
       "    .dataframe tbody tr th {\n",
       "        vertical-align: top;\n",
       "    }\n",
       "\n",
       "    .dataframe thead th {\n",
       "        text-align: right;\n",
       "    }\n",
       "</style>\n",
       "<table border=\"1\" class=\"dataframe\">\n",
       "  <thead>\n",
       "    <tr style=\"text-align: right;\">\n",
       "      <th></th>\n",
       "      <th>user_id</th>\n",
       "      <th>steam_id</th>\n",
       "      <th>interactions</th>\n",
       "    </tr>\n",
       "  </thead>\n",
       "  <tbody>\n",
       "    <tr>\n",
       "      <th>0</th>\n",
       "      <td>76561197981203305</td>\n",
       "      <td>76561197981203305</td>\n",
       "      <td>[[0, 0, 0], [1, 0, 0], [2, 867, 0], [4, 122, 0...</td>\n",
       "    </tr>\n",
       "    <tr>\n",
       "      <th>1</th>\n",
       "      <td>bosslucek</td>\n",
       "      <td>76561198029968002</td>\n",
       "      <td>[[4, 574, 0], [6, 147, 0], [7, 0, 0], [8, 242,...</td>\n",
       "    </tr>\n",
       "    <tr>\n",
       "      <th>2</th>\n",
       "      <td>icantwait</td>\n",
       "      <td>76561197971666535</td>\n",
       "      <td>[[1, 1, 0], [4, 107, 0], [5, 0, 0], [6, 0, 0],...</td>\n",
       "    </tr>\n",
       "    <tr>\n",
       "      <th>3</th>\n",
       "      <td>76561198067911521</td>\n",
       "      <td>76561198067911521</td>\n",
       "      <td>[[0, 0, 0], [1, 61, 0], [3, 448, 0], [4, 0, 0]...</td>\n",
       "    </tr>\n",
       "    <tr>\n",
       "      <th>4</th>\n",
       "      <td>kushziller</td>\n",
       "      <td>76561198021307778</td>\n",
       "      <td>[[0, 1549, 0], [1, 24, 0], [3, 875, 0], [4, 19...</td>\n",
       "    </tr>\n",
       "    <tr>\n",
       "      <th>...</th>\n",
       "      <td>...</td>\n",
       "      <td>...</td>\n",
       "      <td>...</td>\n",
       "    </tr>\n",
       "    <tr>\n",
       "      <th>54185</th>\n",
       "      <td>76561198056783123</td>\n",
       "      <td>76561198056783123</td>\n",
       "      <td>[[45, 0, 0], [122, 1953, 0], [1304, 77, 0]]</td>\n",
       "    </tr>\n",
       "    <tr>\n",
       "      <th>54186</th>\n",
       "      <td>76561197972619838</td>\n",
       "      <td>76561197972619838</td>\n",
       "      <td>[[1, 118, 0], [4, 16031, 0], [27, 26, 0]]</td>\n",
       "    </tr>\n",
       "    <tr>\n",
       "      <th>54187</th>\n",
       "      <td>76561197965631636</td>\n",
       "      <td>76561197965631636</td>\n",
       "      <td>[[1, 0, 0], [93, 409, 0], [497, 0, 0]]</td>\n",
       "    </tr>\n",
       "    <tr>\n",
       "      <th>54188</th>\n",
       "      <td>SlimShady9</td>\n",
       "      <td>76561198067952943</td>\n",
       "      <td>[[19, 4043, 0], [32, 0, 0], [47, 0, 0]]</td>\n",
       "    </tr>\n",
       "    <tr>\n",
       "      <th>54189</th>\n",
       "      <td>crothersgames</td>\n",
       "      <td>76561198140748360</td>\n",
       "      <td>[[6, 0, 0], [265, 0, 0], [1901, 0, 0]]</td>\n",
       "    </tr>\n",
       "  </tbody>\n",
       "</table>\n",
       "<p>54190 rows × 3 columns</p>\n",
       "</div>"
      ],
      "text/plain": [
       "                 user_id           steam_id  \\\n",
       "0      76561197981203305  76561197981203305   \n",
       "1              bosslucek  76561198029968002   \n",
       "2              icantwait  76561197971666535   \n",
       "3      76561198067911521  76561198067911521   \n",
       "4             kushziller  76561198021307778   \n",
       "...                  ...                ...   \n",
       "54185  76561198056783123  76561198056783123   \n",
       "54186  76561197972619838  76561197972619838   \n",
       "54187  76561197965631636  76561197965631636   \n",
       "54188         SlimShady9  76561198067952943   \n",
       "54189      crothersgames  76561198140748360   \n",
       "\n",
       "                                            interactions  \n",
       "0      [[0, 0, 0], [1, 0, 0], [2, 867, 0], [4, 122, 0...  \n",
       "1      [[4, 574, 0], [6, 147, 0], [7, 0, 0], [8, 242,...  \n",
       "2      [[1, 1, 0], [4, 107, 0], [5, 0, 0], [6, 0, 0],...  \n",
       "3      [[0, 0, 0], [1, 61, 0], [3, 448, 0], [4, 0, 0]...  \n",
       "4      [[0, 1549, 0], [1, 24, 0], [3, 875, 0], [4, 19...  \n",
       "...                                                  ...  \n",
       "54185        [[45, 0, 0], [122, 1953, 0], [1304, 77, 0]]  \n",
       "54186          [[1, 118, 0], [4, 16031, 0], [27, 26, 0]]  \n",
       "54187             [[1, 0, 0], [93, 409, 0], [497, 0, 0]]  \n",
       "54188            [[19, 4043, 0], [32, 0, 0], [47, 0, 0]]  \n",
       "54189             [[6, 0, 0], [265, 0, 0], [1901, 0, 0]]  \n",
       "\n",
       "[54190 rows x 3 columns]"
      ]
     },
     "execution_count": 12,
     "metadata": {},
     "output_type": "execute_result"
    }
   ],
   "source": [
    "interactions = pd.read_pickle('./data/interactions.pkl')\n",
    "interactions\n",
    "\n",
    "# user_ids = pd.read_parquet('./data/user_ids.parquet')\n",
    "# user_ids"
   ]
  }
 ],
 "metadata": {
  "interpreter": {
   "hash": "64dc3e748883430fd73e07c7431dac127012ab88bcfa4187114a89d6e3756f23"
  },
  "kernelspec": {
   "display_name": "Python 3.8.10 64-bit",
   "language": "python",
   "name": "python3"
  },
  "language_info": {
   "codemirror_mode": {
    "name": "ipython",
    "version": 3
   },
   "file_extension": ".py",
   "mimetype": "text/x-python",
   "name": "python",
   "nbconvert_exporter": "python",
   "pygments_lexer": "ipython3",
   "version": "3.8.10"
  },
  "orig_nbformat": 4
 },
 "nbformat": 4,
 "nbformat_minor": 2
}
