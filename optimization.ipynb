{
 "cells": [
  {
   "cell_type": "code",
   "execution_count": 1,
   "metadata": {},
   "outputs": [],
   "source": [
    "import itertools\n",
    "import shutil\n",
    "from multiprocessing import Pool\n",
    "from src.recommenders import ImprovedRecommender, PopBasedRecommender\n",
    "from os import cpu_count\n",
    "from os.path import exists\n",
    "from sklearn.decomposition import TruncatedSVD\n",
    "qual_eval_folder = './evaluation'"
   ]
  },
  {
   "cell_type": "markdown",
   "metadata": {},
   "source": [
    "From the base recommender results, we will now continue to use the ideal combination of methods as a baseline before we make further improvements.\n",
    "This means we use cosine distance and normalized feature vectors. We also don't use feedback weighting.\n",
    "\n",
    "The following cell runs the basic recommender and provides more in-depth evaluation and compares it to a popularity-based recommender."
   ]
  },
  {
   "cell_type": "code",
   "execution_count": 2,
   "metadata": {},
   "outputs": [
    {
     "name": "stderr",
     "output_type": "stream",
     "text": [
      "1000it [00:00, 14925.23it/s]\n"
     ]
    },
    {
     "name": "stdout",
     "output_type": "stream",
     "text": [
      "Break reading after 1000 records\n",
      "Reading 1001 rows.\n"
     ]
    },
    {
     "name": "stderr",
     "output_type": "stream",
     "text": [
      "3536it [00:00, 17551.36it/s]"
     ]
    },
    {
     "name": "stdout",
     "output_type": "stream",
     "text": [
      "{'HR@5': 0.9547900968783638, 'nDCG@5': 0.4959111751481147, 'recall@5': 0.036132772974029226, 'ideal_recall@5': 0.09192854361255526, 'nRecall@5': 0.4655005382131325}\n"
     ]
    },
    {
     "name": "stderr",
     "output_type": "stream",
     "text": [
      "32135it [00:01, 17252.34it/s]\n"
     ]
    },
    {
     "name": "stdout",
     "output_type": "stream",
     "text": [
      "Reading 32135 rows.\n"
     ]
    },
    {
     "name": "stderr",
     "output_type": "stream",
     "text": [
      "1000it [00:00, 15151.63it/s]\n"
     ]
    },
    {
     "name": "stdout",
     "output_type": "stream",
     "text": [
      "Break reading after 1000 records\n",
      "Reading 1001 rows.\n"
     ]
    },
    {
     "name": "stderr",
     "output_type": "stream",
     "text": [
      "c:\\Users\\Sam\\Documents\\GitHub\\AI-Project\\src\\recommenders.py:413: RuntimeWarning: Sparse was set to 'True' but dimensionality reduction is used, using dense matrix representation instead.\n",
      "  warnings.warn(\"Sparse was set to 'True' but dimensionality reduction is used, using dense matrix representation instead.\", RuntimeWarning)\n",
      "999it [00:43, 22.93it/s]\n"
     ]
    },
    {
     "data": {
      "text/plain": [
       "{'HR@5': 0.5963923337091319,\n",
       " 'nDCG@5': 0.2062706587989166,\n",
       " 'recall@5': 0.013222881039268622,\n",
       " 'ideal_recall@5': 0.09132511265166662,\n",
       " 'nRecall@5': 0.1927846674182638}"
      ]
     },
     "execution_count": 2,
     "metadata": {},
     "output_type": "execute_result"
    }
   ],
   "source": [
    "rec = PopBasedRecommender()\n",
    "rec.generate_recommendations(\"./data/australian_user_reviews.json\", read_max=1000)\n",
    "print(rec.evaluate(k=5))\n",
    "dim_red = TruncatedSVD(n_components=250, random_state=500)\n",
    "rec = ImprovedRecommender(\"./data/steam_games.json\", sparse=True, tfidf='smooth', use_feedback=False, normalize=True, dim_red=dim_red)\n",
    "rec.generate_recommendations(\"./data/australian_user_reviews.json\", read_max=1000)\n",
    "rec.evaluate(k=5)"
   ]
  }
 ],
 "metadata": {
  "interpreter": {
   "hash": "64dc3e748883430fd73e07c7431dac127012ab88bcfa4187114a89d6e3756f23"
  },
  "kernelspec": {
   "display_name": "Python 3.8.10 64-bit",
   "language": "python",
   "name": "python3"
  },
  "language_info": {
   "codemirror_mode": {
    "name": "ipython",
    "version": 3
   },
   "file_extension": ".py",
   "mimetype": "text/x-python",
   "name": "python",
   "nbconvert_exporter": "python",
   "pygments_lexer": "ipython3",
   "version": "3.8.8"
  },
  "orig_nbformat": 4
 },
 "nbformat": 4,
 "nbformat_minor": 2
}
